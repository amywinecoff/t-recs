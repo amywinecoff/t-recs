{
 "cells": [
  {
   "cell_type": "code",
   "execution_count": 3,
   "metadata": {},
   "outputs": [],
   "source": [
    "import rec"
   ]
  },
  {
   "cell_type": "code",
   "execution_count": null,
   "metadata": {},
   "outputs": [],
   "source": []
  },
  {
   "cell_type": "markdown",
   "metadata": {},
   "source": [
    "."
   ]
  },
  {
   "cell_type": "markdown",
   "metadata": {},
   "source": [
    "."
   ]
  },
  {
   "cell_type": "markdown",
   "metadata": {},
   "source": [
    "."
   ]
  },
  {
   "cell_type": "markdown",
   "metadata": {},
   "source": [
    "# BASELINE"
   ]
  },
  {
   "cell_type": "code",
   "execution_count": 4,
   "metadata": {},
   "outputs": [
    {
     "name": "stderr",
     "output_type": "stream",
     "text": [
      "100%|██████████| 100/100 [00:41<00:00,  2.39it/s]\n",
      "100%|██████████| 100/100 [00:41<00:00,  2.39it/s]\n",
      "100%|██████████| 100/100 [00:44<00:00,  2.22it/s]\n",
      "100%|██████████| 100/100 [00:54<00:00,  1.84it/s]\n",
      "100%|██████████| 100/100 [00:46<00:00,  2.13it/s]\n",
      "100%|██████████| 100/100 [00:45<00:00,  2.20it/s]\n",
      "100%|██████████| 100/100 [00:38<00:00,  2.57it/s]\n",
      "100%|██████████| 100/100 [00:40<00:00,  2.47it/s]"
     ]
    },
    {
     "name": "stdout",
     "output_type": "stream",
     "text": [
      "44.8 s ± 4.72 s per loop (mean ± std. dev. of 7 runs, 1 loop each)\n"
     ]
    },
    {
     "name": "stderr",
     "output_type": "stream",
     "text": [
      "\n"
     ]
    }
   ],
   "source": [
    "# BASELINE\n",
    "# DO NOT RE-RUN!!!\n",
    "model = rec.models.ContentFiltering(num_users=1000, num_items=1250, num_attributes=2000)\n",
    "%timeit model.run(timesteps=100)"
   ]
  },
  {
   "cell_type": "code",
   "execution_count": 5,
   "metadata": {},
   "outputs": [
    {
     "name": "stdout",
     "output_type": "stream",
     "text": [
      "1000\n"
     ]
    },
    {
     "name": "stderr",
     "output_type": "stream",
     "text": [
      "100%|██████████| 100/100 [00:17<00:00,  5.81it/s]\n",
      "100%|██████████| 100/100 [00:19<00:00,  5.17it/s]\n",
      "100%|██████████| 100/100 [00:19<00:00,  5.17it/s]\n",
      "100%|██████████| 100/100 [00:19<00:00,  5.17it/s]\n",
      "100%|██████████| 100/100 [00:25<00:00,  3.96it/s]\n",
      "100%|██████████| 100/100 [00:22<00:00,  4.53it/s]\n",
      "100%|██████████| 100/100 [00:21<00:00,  4.75it/s]\n",
      "100%|██████████| 100/100 [00:21<00:00,  4.74it/s]"
     ]
    },
    {
     "name": "stdout",
     "output_type": "stream",
     "text": [
      "21.1 s ± 1.98 s per loop (mean ± std. dev. of 7 runs, 1 loop each)\n"
     ]
    },
    {
     "name": "stderr",
     "output_type": "stream",
     "text": [
      "\n"
     ]
    }
   ],
   "source": [
    "model = rec.models.SocialFiltering(num_users=1000, num_items=1250)\n",
    "%timeit model.run(timesteps=100)"
   ]
  },
  {
   "cell_type": "code",
   "execution_count": null,
   "metadata": {},
   "outputs": [],
   "source": []
  }
 ],
 "metadata": {
  "kernelspec": {
   "display_name": "Python 3",
   "language": "python",
   "name": "python3"
  },
  "language_info": {
   "codemirror_mode": {
    "name": "ipython",
    "version": 3
   },
   "file_extension": ".py",
   "mimetype": "text/x-python",
   "name": "python",
   "nbconvert_exporter": "python",
   "pygments_lexer": "ipython3",
   "version": "3.7.7"
  }
 },
 "nbformat": 4,
 "nbformat_minor": 4
}
