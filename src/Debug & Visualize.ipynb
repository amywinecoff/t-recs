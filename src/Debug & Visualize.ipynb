{
 "cells": [
  {
   "cell_type": "markdown",
   "metadata": {},
   "source": [
    "# Debugging and visualizing data"
   ]
  },
  {
   "cell_type": "code",
   "execution_count": 1,
   "metadata": {},
   "outputs": [],
   "source": [
    "import argparse\n",
    "import numpy as np\n",
    "import matplotlib.pyplot as plt\n",
    "\n",
    "from popularity import PopularityRecommender\n",
    "from content import ContentFiltering\n",
    "from main import rec_dict, rec_args, debug_opt\n",
    "from debug import Debug"
   ]
  },
  {
   "cell_type": "markdown",
   "metadata": {},
   "source": [
    "### A few details on the available debugging options\n",
    "- `MEASUREMENTS` is used to debug the `measurements` module. Right now, if enabled, it only supports plotting the distribution of interactions at a given timestep. It is possible to define a `measurement_visualization_rule` to plot the distribution -- see example below.\n",
    "- `USER_PREFERENCES` is used to debug the `user_preferences` module. If enabled, it plots the distribution of the most liked items at the beginning of the execution.\n",
    "- `RECOMMENDER` is used to debug the behavior of the recommender system."
   ]
  },
  {
   "cell_type": "code",
   "execution_count": 2,
   "metadata": {},
   "outputs": [
    {
     "name": "stderr",
     "output_type": "stream",
     "text": [
      "USER_PREFERENCES - Debugging module inizialized\n",
      "RECOMMENDER - Debugging module inizialized\n"
     ]
    }
   ],
   "source": [
    "# NOTE: Restart kernel before re-running this\n",
    "\n",
    "# Set up debug options (see debug_opt in main.py)\n",
    "debug_opt['MEASUREMENTS'] = False # debug measurement of equilibrium\n",
    "debug_opt['USER_PREFERENCES'] = True  # debug user preferences\n",
    "debug_opt['RECOMMENDER'] = True # debug recommender system\n",
    "# Configure and initialize debugger\n",
    "debugger = Debug(list(debug_opt.keys()), list(debug_opt.values()))"
   ]
  },
  {
   "cell_type": "markdown",
   "metadata": {},
   "source": [
    "### Set up recommender system\n",
    "This cell contains everything needed for setup."
   ]
  },
  {
   "cell_type": "code",
   "execution_count": 3,
   "metadata": {},
   "outputs": [],
   "source": [
    "# Set up the following\n",
    "RECSYS_TYPE = 'content' # choose from supported (see rec_dict in main.py)\n",
    "NUM_USERS = 5\n",
    "NUM_ITEMS_PER_ITER = 2  # num items presented to each user at each iteration\n",
    "STARTUP_TIMESTEPS = 2  # num iterations of 'exploration'\n",
    "RUN_TIMESTEPS = 3  # total num iterations\n",
    "NUM_ITEMS = 10 #round((STARTUP_TIMESTEPS + RUN_TIMESTEPS) * NUM_ITEMS_PER_ITER * np.random.uniform(1, 5))  # total num items in simulation\n",
    "\n",
    "# Set up additional arguments (see rec_args[RECSYS_TYPE] in main.py for supported arguments)\n",
    "# A: number of attributes; items_representation: attributes of each item\n",
    "rec_args['content']['A'] = 5\n",
    "rec_args['content']['items_representation'] = np.zeros((NUM_ITEMS, rec_args['content']['A']))\n",
    "\n",
    "# For content filtering, generate array of attributes\n",
    "for i, row in enumerate(rec_args['content']['items_representation']):\n",
    "    A = rec_args['content']['A']\n",
    "    n_indices = np.random.randint(1, A)\n",
    "    indices = np.random.randint(A, size=(n_indices))\n",
    "    row[indices] = 1\n",
    "    rec_args['content']['items_representation'][i,:] = row\n",
    "# Add it to args\n",
    "rec_args['content']['items_representation'] = rec_args['content']['items_representation'].T\n",
    "\n",
    "# Check RECSYS_TYPE\n",
    "if RECSYS_TYPE not in rec_dict:\n",
    "    raise ValueError(\"Recommender system type not supported. Supported types: \" + ', '.join(rec_dict))"
   ]
  },
  {
   "cell_type": "markdown",
   "metadata": {},
   "source": [
    "### Instantiate and run"
   ]
  },
  {
   "cell_type": "code",
   "execution_count": 4,
   "metadata": {
    "scrolled": false
   },
   "outputs": [
    {
     "name": "stderr",
     "output_type": "stream",
     "text": [
      "USER_PREFERENCES - Plot: Histogram of users liking each item the most\n"
     ]
    },
    {
     "data": {
      "image/png": "[encoded data removed]",
      "text/plain": [
       "<Figure size 432x288 with 1 Axes>"
      ]
     },
     "metadata": {},
     "output_type": "display_data"
    },
    {
     "name": "stderr",
     "output_type": "stream",
     "text": [
      "RECOMMENDER - Recommender system ready\n",
      "RECOMMENDER - Num items: 10\n",
      "RECOMMENDER - Users: 5\n",
      "RECOMMENDER - Items per iter: 2\n",
      "RECOMMENDER - Actual scores given by users (rows) to items (columns), unknown to system:\n",
      "[[3.53 11.79 3.24 6.83 7.88 1.35 4.87 8.03 6.34 1.22]\n",
      " [2.33 7.37 9.22 1.21 7.60 3.74 1.12 2.61 5.02 4.05]\n",
      " [7.75 0.83 0.60 12.02 1.14 4.63 5.53 2.71 2.71 9.34]\n",
      " [3.82 4.01 2.41 1.97 3.84 1.77 8.77 0.77 4.90 1.58]\n",
      " [5.11 5.89 8.03 4.34 7.88 0.42 2.38 0.54 7.85 2.31]]\n",
      "RECOMMENDER - Type of recommendation system: content\n",
      "RECOMMENDER - Num attributes: 5\n",
      "RECOMMENDER - Attributes of each item (rows):\n",
      "[[1.00 0.00 0.00 0.00 1.00]\n",
      " [0.00 1.00 1.00 0.00 1.00]\n",
      " [0.00 1.00 1.00 0.00 1.00]\n",
      " [0.00 1.00 0.00 1.00 0.00]\n",
      " [0.00 0.00 1.00 0.00 0.00]\n",
      " [0.00 1.00 0.00 1.00 0.00]\n",
      " [1.00 1.00 0.00 0.00 0.00]\n",
      " [0.00 0.00 0.00 1.00 1.00]\n",
      " [1.00 1.00 0.00 0.00 0.00]\n",
      " [1.00 0.00 0.00 0.00 0.00]]\n",
      "RECOMMENDER - User profiles known to the system represented by their attributes:\n",
      "[[0 0 0 0 0]\n",
      " [0 0 0 0 0]\n",
      " [0 0 0 0 0]\n",
      " [0 0 0 0 0]\n",
      " [0 0 0 0 0]]\n",
      "RECOMMENDER - Startup -- recommend random items\n",
      "RECOMMENDER - Step 0\n",
      "RECOMMENDER - System picked these items (cols) randomly for each user (rows):\n",
      "[[8 7]\n",
      " [5 9]\n",
      " [1 9]\n",
      " [8 3]\n",
      " [7 0]]\n",
      "USER_PREFERENCES - User scores for given items are:\n",
      "[[6.34 8.03]\n",
      " [3.74 4.05]\n",
      " [0.83 9.34]\n",
      " [4.90 1.97]\n",
      " [0.54 5.11]]\n",
      "RECOMMENDER - Users choose the following items respectively:\n",
      "[7 9 9 8 0]\n",
      "RECOMMENDER - System updates user profiles based on last interaction:\n",
      "[[0 0 0 1 1]\n",
      " [1 0 0 0 0]\n",
      " [1 0 0 0 0]\n",
      " [1 1 0 0 0]\n",
      " [1 0 0 0 1]]\n",
      "RECOMMENDER - Step 1\n",
      "RECOMMENDER - System picked these items (cols) randomly for each user (rows):\n",
      "[[6 2]\n",
      " [3 3]\n",
      " [2 2]\n",
      " [5 3]\n",
      " [7 8]]\n",
      "USER_PREFERENCES - User scores for given items are:\n",
      "[[3.24 4.87]\n",
      " [1.21 1.21]\n",
      " [0.60 0.60]\n",
      " [1.97 1.77]\n",
      " [7.85 0.54]]\n",
      "RECOMMENDER - Users choose the following items respectively:\n",
      "[6 3 2 3 8]\n",
      "RECOMMENDER - System updates user profiles based on last interaction:\n",
      "[[1 1 0 1 1]\n",
      " [1 1 0 1 0]\n",
      " [1 1 1 0 1]\n",
      " [1 2 0 1 0]\n",
      " [2 1 0 0 1]]\n",
      "RECOMMENDER - System updates predicted scores given by users (rows) to items (columns):\n",
      "[[0.11 0.11 0.11 0.11 0.00 0.11 0.11 0.11 0.11 0.05]\n",
      " [0.05 0.05 0.05 0.11 0.00 0.11 0.11 0.05 0.11 0.05]\n",
      " [0.11 0.16 0.16 0.05 0.05 0.05 0.11 0.05 0.11 0.05]\n",
      " [0.05 0.11 0.11 0.16 0.00 0.16 0.16 0.05 0.16 0.05]\n",
      " [0.16 0.11 0.11 0.05 0.00 0.05 0.16 0.05 0.16 0.11]]\n",
      "RECOMMENDER - Run -- interleave recommendation and random items from now on\n",
      "RECOMMENDER - Step 0\n",
      "RECOMMENDER - System picked these items (cols) randomly for each user (rows):\n",
      "[[9]\n",
      " [2]\n",
      " [7]\n",
      " [4]\n",
      " [3]]\n",
      "RECOMMENDER - System recommended these items (cols) to each user (rows):\n",
      "[[3]\n",
      " [2]\n",
      " [1]\n",
      " [9]\n",
      " [4]]\n",
      "USER_PREFERENCES - User scores for given items are:\n",
      "[[6.83 1.22]\n",
      " [9.22 9.22]\n",
      " [0.83 2.71]\n",
      " [1.58 3.84]\n",
      " [7.88 4.34]]\n",
      "RECOMMENDER - Users choose the following items respectively:\n",
      "[3 2 7 4 4]\n",
      "RECOMMENDER - System updates user profiles based on last interaction:\n",
      "[[1 2 0 2 1]\n",
      " [1 2 1 1 1]\n",
      " [1 1 1 1 2]\n",
      " [1 2 1 1 0]\n",
      " [2 1 1 0 1]]\n",
      "RECOMMENDER - System updates predicted scores given by users (rows) to items (columns):\n",
      "[[0.07 0.11 0.11 0.14 0.00 0.14 0.11 0.11 0.11 0.04]\n",
      " [0.07 0.14 0.14 0.11 0.04 0.11 0.11 0.07 0.11 0.04]\n",
      " [0.11 0.14 0.14 0.07 0.04 0.07 0.07 0.11 0.07 0.04]\n",
      " [0.04 0.11 0.11 0.11 0.04 0.11 0.11 0.04 0.11 0.04]\n",
      " [0.11 0.11 0.11 0.04 0.04 0.04 0.11 0.04 0.11 0.07]]\n",
      "RECOMMENDER - Step 1\n",
      "RECOMMENDER - System picked these items (cols) randomly for each user (rows):\n",
      "[[2]\n",
      " [5]\n",
      " [1]\n",
      " [1]\n",
      " [3]]\n",
      "RECOMMENDER - System recommended these items (cols) to each user (rows):\n",
      "[[8]\n",
      " [6]\n",
      " [3]\n",
      " [5]\n",
      " [2]]\n",
      "USER_PREFERENCES - User scores for given items are:\n",
      "[[6.34 3.24]\n",
      " [1.12 3.74]\n",
      " [12.02 0.83]\n",
      " [1.77 4.01]\n",
      " [8.03 4.34]]\n",
      "RECOMMENDER - Users choose the following items respectively:\n",
      "[8 5 3 1 2]\n",
      "RECOMMENDER - System updates user profiles based on last interaction:\n",
      "[[2 3 0 2 1]\n",
      " [1 3 1 2 1]\n",
      " [1 2 1 2 2]\n",
      " [1 3 2 1 1]\n",
      " [2 2 2 0 2]]\n",
      "RECOMMENDER - System updates predicted scores given by users (rows) to items (columns):\n",
      "[[0.08 0.10 0.10 0.12 0.00 0.12 0.12 0.08 0.12 0.05]\n",
      " [0.05 0.12 0.12 0.12 0.03 0.12 0.10 0.08 0.10 0.03]\n",
      " [0.08 0.12 0.12 0.10 0.03 0.10 0.08 0.10 0.08 0.03]\n",
      " [0.05 0.15 0.15 0.10 0.05 0.10 0.10 0.05 0.10 0.03]\n",
      " [0.10 0.15 0.15 0.05 0.05 0.05 0.10 0.05 0.10 0.05]]\n",
      "RECOMMENDER - Step 2\n",
      "RECOMMENDER - System picked these items (cols) randomly for each user (rows):\n",
      "[[0]\n",
      " [8]\n",
      " [1]\n",
      " [0]\n",
      " [5]]\n",
      "RECOMMENDER - System recommended these items (cols) to each user (rows):\n",
      "[[9]\n",
      " [8]\n",
      " [5]\n",
      " [0]\n",
      " [5]]\n",
      "USER_PREFERENCES - User scores for given items are:\n",
      "[[3.53 1.22]\n",
      " [5.02 5.02]\n",
      " [0.83 4.63]\n",
      " [3.82 3.82]\n",
      " [0.42 0.42]]\n",
      "RECOMMENDER - Users choose the following items respectively:\n",
      "[0 8 5 0 5]\n",
      "RECOMMENDER - System updates user profiles based on last interaction:\n",
      "[[3 3 0 2 2]\n",
      " [2 4 1 2 1]\n",
      " [1 3 1 3 2]\n",
      " [2 3 2 1 2]\n",
      " [2 3 2 1 2]]\n",
      "RECOMMENDER - System updates predicted scores given by users (rows) to items (columns):\n",
      "[[0.10 0.10 0.10 0.10 0.00 0.10 0.12 0.08 0.12 0.06]\n",
      " [0.06 0.12 0.12 0.12 0.02 0.12 0.12 0.06 0.12 0.04]\n",
      " [0.06 0.12 0.12 0.12 0.02 0.12 0.08 0.10 0.08 0.02]\n",
      " [0.08 0.14 0.14 0.08 0.04 0.08 0.10 0.06 0.10 0.04]\n",
      " [0.08 0.14 0.14 0.08 0.04 0.08 0.10 0.06 0.10 0.04]]\n"
     ]
    },
    {
     "data": {
      "image/png": "[encoded data removed]",
      "text/plain": [
       "<Figure size 432x288 with 1 Axes>"
      ]
     },
     "metadata": {},
     "output_type": "display_data"
    }
   ],
   "source": [
    "# Create recsys instance\n",
    "if rec_args[RECSYS_TYPE] is None:\n",
    "    rec = rec_dict[RECSYS_TYPE](NUM_USERS, NUM_ITEMS,\n",
    "        num_items_per_iter=NUM_ITEMS_PER_ITER, randomize_recommended=True, user_preferences=True,\n",
    "        debugger=debugger)\n",
    "else:\n",
    "    rec = rec_dict[RECSYS_TYPE](NUM_USERS, NUM_ITEMS,\n",
    "        num_items_per_iter=NUM_ITEMS_PER_ITER, randomize_recommended=True, user_preferences=True, \n",
    "        debugger=debugger, **rec_args[RECSYS_TYPE])\n",
    "\n",
    "# Startup\n",
    "rec.startup_and_train(timesteps=STARTUP_TIMESTEPS)\n",
    "\n",
    "# Runtime\n",
    "rec.run(timesteps=RUN_TIMESTEPS, train_between_steps=True, measurement_visualization_rule=lambda x: x % 50 == 0)\n",
    " # lambda function\n",
    "delta_t = rec.get_heterogeneity()"
   ]
  },
  {
   "cell_type": "code",
   "execution_count": 6,
   "metadata": {
    "scrolled": true
   },
   "outputs": [
    {
     "name": "stderr",
     "output_type": "stream",
     "text": [
      "RECOMMENDER - Run -- interleave recommendation and random items from now on\n",
      "RECOMMENDER - Step 0\n",
      "RECOMMENDER - System picked these items (cols) randomly for each user (rows):\n",
      "[[2]\n",
      " [4]\n",
      " [6]\n",
      " [7]\n",
      " [3]]\n",
      "RECOMMENDER - System recommended these items (cols) to each user (rows):\n",
      "[[5]\n",
      " [1]\n",
      " [0]\n",
      " [6]\n",
      " [6]]\n",
      "USER_PREFERENCES - User scores for given items are:\n",
      "[[3.24 1.35]\n",
      " [7.60 7.37]\n",
      " [5.53 7.75]\n",
      " [0.77 8.77]\n",
      " [4.34 2.38]]\n",
      "RECOMMENDER - Users choose the following items respectively:\n",
      "[2 4 0 6 3]\n",
      "RECOMMENDER - System updates user profiles based on last interaction:\n",
      "[[3 4 1 2 3]\n",
      " [2 4 2 2 1]\n",
      " [2 3 1 3 3]\n",
      " [3 4 2 1 2]\n",
      " [2 4 2 2 2]]\n",
      "RECOMMENDER - System updates predicted scores given by users (rows) to items (columns):\n",
      "[[0.10 0.13 0.13 0.10 0.02 0.10 0.12 0.08 0.12 0.05]\n",
      " [0.05 0.12 0.12 0.10 0.03 0.10 0.10 0.05 0.10 0.03]\n",
      " [0.08 0.12 0.12 0.10 0.02 0.10 0.08 0.10 0.08 0.03]\n",
      " [0.08 0.13 0.13 0.08 0.03 0.08 0.12 0.05 0.12 0.05]\n",
      " [0.07 0.13 0.13 0.10 0.03 0.10 0.10 0.07 0.10 0.03]]\n"
     ]
    }
   ],
   "source": [
    "# Run for a single step\n",
    "rec.run(timesteps=1, train_between_steps=True, measurement_visualization_rule=lambda x: x % 50 == 0)"
   ]
  },
  {
   "cell_type": "code",
   "execution_count": 8,
   "metadata": {},
   "outputs": [
    {
     "data": {
      "image/png": "[encoded data removed]",
      "text/plain": [
       "<Figure size 432x288 with 1 Axes>"
      ]
     },
     "metadata": {},
     "output_type": "display_data"
    }
   ],
   "source": [
    "# Check heterogeneity again\n",
    "delta_t = rec.get_heterogeneity()"
   ]
  },
  {
   "cell_type": "code",
   "execution_count": null,
   "metadata": {},
   "outputs": [],
   "source": []
  }
 ],
 "metadata": {
  "kernelspec": {
   "display_name": "Python 3",
   "language": "python",
   "name": "python3"
  },
  "language_info": {
   "codemirror_mode": {
    "name": "ipython",
    "version": 3
   },
   "file_extension": ".py",
   "mimetype": "text/x-python",
   "name": "python",
   "nbconvert_exporter": "python",
   "pygments_lexer": "ipython3",
   "version": "3.7.0"
  }
 },
 "nbformat": 4,
 "nbformat_minor": 2
}
