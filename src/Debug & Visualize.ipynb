{
 "cells": [
  {
   "cell_type": "markdown",
   "metadata": {},
   "source": [
    "# Debugging and visualizing data"
   ]
  },
  {
   "cell_type": "code",
   "execution_count": 1,
   "metadata": {},
   "outputs": [],
   "source": [
    "import argparse\n",
    "import numpy as np\n",
    "import matplotlib.pyplot as plt\n",
    "\n",
    "from popularity import PopularityRecommender\n",
    "from content import ContentFiltering\n",
    "from main import rec_dict, rec_args, debug_opt\n",
    "from debug import Debug"
   ]
  },
  {
   "cell_type": "markdown",
   "metadata": {},
   "source": [
    "### A few details on the available debugging options\n",
    "- `MEASUREMENTS` is used to debug the `measurements` module. Right now, if enabled, it only supports plotting the distribution of interactions at a given timestep. It is possible to define a `measurement_visualization_rule` to plot the distribution -- see example below.\n",
    "- `USER_SCORES` is used to debug the `user_scores` module. If enabled, it plots the distribution of the most liked items at the beginning of the execution.\n",
    "- `RECOMMENDER` is used to debug the behavior of the recommender system."
   ]
  },
  {
   "cell_type": "code",
   "execution_count": 2,
   "metadata": {},
   "outputs": [
    {
     "name": "stderr",
     "output_type": "stream",
     "text": [
      "USER_SCORES - Debugging module inizialized\n",
      "RECOMMENDER - Debugging module inizialized\n"
     ]
    }
   ],
   "source": [
    "# NOTE: Restart kernel before re-running this\n",
    "\n",
    "# Set up debug options (see debug_opt in main.py)\n",
    "debug_opt['MEASUREMENTS'] = False # debug measurement of equilibrium\n",
    "debug_opt['USER_SCORES'] = True  # debug user preferences\n",
    "debug_opt['RECOMMENDER'] = True # debug recommender system\n",
    "# Configure and initialize debugger\n",
    "debugger = Debug(list(debug_opt.keys()), list(debug_opt.values()))"
   ]
  },
  {
   "cell_type": "markdown",
   "metadata": {},
   "source": [
    "### Set up recommender system\n",
    "This cell contains everything needed for setup."
   ]
  },
  {
   "cell_type": "code",
   "execution_count": 3,
   "metadata": {},
   "outputs": [],
   "source": [
    "# Set up the following\n",
    "RECSYS_TYPE = 'content' # choose from supported (see rec_dict in main.py)\n",
    "NUM_USERS = 5\n",
    "NUM_ITEMS_PER_ITER = 2  # num items presented to each user at each iteration\n",
    "STARTUP_TIMESTEPS = 2  # num iterations of 'exploration'\n",
    "RUN_TIMESTEPS = 3  # total num iterations\n",
    "NUM_ITEMS = 10 #round((STARTUP_TIMESTEPS + RUN_TIMESTEPS) * NUM_ITEMS_PER_ITER * np.random.uniform(1, 5))  # total num items in simulation\n",
    "\n",
    "# Set up additional arguments (see rec_args[RECSYS_TYPE] in main.py for supported arguments)\n",
    "# A: number of attributes; item_representation: attributes of each item\n",
    "rec_args['content']['A'] = 5\n",
    "rec_args['content']['item_representation'] = np.zeros((NUM_ITEMS, rec_args['content']['A']))\n",
    "\n",
    "# For content filtering, generate array of attributes\n",
    "for i, row in enumerate(rec_args['content']['item_representation']):\n",
    "    A = rec_args['content']['A']\n",
    "    n_indices = np.random.randint(1, A)\n",
    "    indices = np.random.randint(A, size=(n_indices))\n",
    "    row[indices] = 1\n",
    "    rec_args['content']['item_representation'][i,:] = row\n",
    "# Add it to args\n",
    "rec_args['content']['item_representation'] = rec_args['content']['item_representation'].T\n",
    "\n",
    "# Check RECSYS_TYPE\n",
    "if RECSYS_TYPE not in rec_dict:\n",
    "    raise ValueError(\"Recommender system type not supported. Supported types: \" + ', '.join(rec_dict))"
   ]
  },
  {
   "cell_type": "markdown",
   "metadata": {},
   "source": [
    "### Instantiate and run"
   ]
  },
  {
   "cell_type": "code",
   "execution_count": 4,
   "metadata": {
    "scrolled": true
   },
   "outputs": [
    {
     "name": "stderr",
     "output_type": "stream",
     "text": [
      "USER_SCORES - Shape: (5, 10)\n",
      "USER_SCORES - Plot: Histogram of users liking each item the most\n"
     ]
    },
    {
     "data": {
      "image/png": "[encoded data removed]",
      "text/plain": [
       "<Figure size 432x288 with 1 Axes>"
      ]
     },
     "metadata": {},
     "output_type": "display_data"
    },
    {
     "name": "stderr",
     "output_type": "stream",
     "text": [
      "RECOMMENDER - Recommender system ready\n",
      "RECOMMENDER - Num items: 10\n",
      "RECOMMENDER - Users: 5\n",
      "RECOMMENDER - Items per iter: 2\n",
      "RECOMMENDER - Actual scores given by users (rows) to items (columns), unknown to system:\n",
      "[[0.03 0.07 0.08 0.11 0.08 0.08 0.08 0.03 0.12 0.07]\n",
      " [0.04 0.08 0.08 0.13 0.08 0.08 0.08 0.04 0.13 0.08]\n",
      " [0.04 0.08 0.08 0.12 0.08 0.08 0.08 0.04 0.12 0.08]\n",
      " [0.05 0.09 0.08 0.13 0.09 0.08 0.08 0.05 0.13 0.08]\n",
      " [0.04 0.08 0.08 0.12 0.08 0.08 0.08 0.04 0.12 0.08]]\n",
      "RECOMMENDER - Type of recommendation system: content\n",
      "RECOMMENDER - Num attributes: 5\n",
      "RECOMMENDER - Attributes of each item (rows):\n",
      "[[0.00 0.00 0.00 0.00 1.00]\n",
      " [0.00 1.00 0.00 0.00 1.00]\n",
      " [0.00 0.00 1.00 1.00 0.00]\n",
      " [1.00 0.00 1.00 0.00 1.00]\n",
      " [0.00 0.00 1.00 0.00 1.00]\n",
      " [0.00 0.00 1.00 1.00 0.00]\n",
      " [0.00 1.00 1.00 0.00 0.00]\n",
      " [0.00 0.00 0.00 0.00 1.00]\n",
      " [0.00 0.00 1.00 1.00 1.00]\n",
      " [1.00 1.00 0.00 0.00 0.00]]\n",
      "RECOMMENDER - User profiles known to the system represented by their attributes:\n",
      "[[0 0 0 0 0]\n",
      " [0 0 0 0 0]\n",
      " [0 0 0 0 0]\n",
      " [0 0 0 0 0]\n",
      " [0 0 0 0 0]]\n",
      "RECOMMENDER - Startup -- recommend random items\n",
      "RECOMMENDER - Step 0\n",
      "RECOMMENDER - System picked these items (cols) randomly for each user (rows):\n",
      "[[3 8]\n",
      " [2 9]\n",
      " [9 5]\n",
      " [9 5]\n",
      " [3 1]]\n",
      "USER_SCORES - User scores for given items are:\n",
      "[[0.11 0.12]\n",
      " [0.08 0.08]\n",
      " [0.08 0.08]\n",
      " [0.08 0.08]\n",
      " [0.12 0.08]]\n",
      "RECOMMENDER - Users choose the following items respectively:\n",
      "[8 2 5 5 3]\n",
      "RECOMMENDER - System updates user profiles based on last interaction:\n",
      "[[0 0 1 1 1]\n",
      " [0 0 1 1 0]\n",
      " [0 0 1 1 0]\n",
      " [0 0 1 1 0]\n",
      " [1 0 1 0 1]]\n",
      "RECOMMENDER - Step 1\n",
      "RECOMMENDER - System picked these items (cols) randomly for each user (rows):\n",
      "[[0 0]\n",
      " [9 4]\n",
      " [2 2]\n",
      " [6 4]\n",
      " [6 8]]\n",
      "USER_SCORES - User scores for given items are:\n",
      "[[0.03 0.03]\n",
      " [0.08 0.08]\n",
      " [0.08 0.08]\n",
      " [0.08 0.09]\n",
      " [0.08 0.12]]\n",
      "RECOMMENDER - Users choose the following items respectively:\n",
      "[0 4 2 4 8]\n",
      "RECOMMENDER - System updates user profiles based on last interaction:\n",
      "[[0 0 1 1 2]\n",
      " [0 0 2 1 1]\n",
      " [0 0 2 2 0]\n",
      " [0 0 2 1 1]\n",
      " [1 0 2 1 2]]\n",
      "RECOMMENDER - System updates predicted scores given by users (rows) to items (columns):\n",
      "[[0.09 0.09 0.09 0.14 0.14 0.09 0.05 0.09 0.18 0.00]\n",
      " [0.05 0.05 0.14 0.14 0.14 0.14 0.09 0.05 0.18 0.00]\n",
      " [0.00 0.00 0.18 0.09 0.09 0.18 0.09 0.00 0.18 0.00]\n",
      " [0.05 0.05 0.14 0.14 0.14 0.14 0.09 0.05 0.18 0.00]\n",
      " [0.09 0.09 0.14 0.23 0.18 0.14 0.09 0.09 0.23 0.05]]\n",
      "RECOMMENDER - Run -- interleave recommendation and random items from now on\n",
      "RECOMMENDER - Step 0\n",
      "RECOMMENDER - System picked these items (cols) randomly for each user (rows):\n",
      "[[1]\n",
      " [1]\n",
      " [6]\n",
      " [9]\n",
      " [6]]\n",
      "RECOMMENDER - System recommended these items (cols) to each user (rows):\n",
      "[[6]\n",
      " [5]\n",
      " [9]\n",
      " [1]\n",
      " [6]]\n",
      "USER_SCORES - User scores for given items are:\n",
      "[[0.08 0.07]\n",
      " [0.08 0.08]\n",
      " [0.08 0.08]\n",
      " [0.09 0.08]\n",
      " [0.08 0.08]]\n",
      "RECOMMENDER - Users choose the following items respectively:\n",
      "[6 5 6 1 6]\n",
      "RECOMMENDER - System updates user profiles based on last interaction:\n",
      "[[0 1 2 1 2]\n",
      " [0 0 3 2 1]\n",
      " [0 1 3 2 0]\n",
      " [0 1 2 1 2]\n",
      " [1 1 3 1 2]]\n",
      "RECOMMENDER - System updates predicted scores given by users (rows) to items (columns):\n",
      "[[0.06 0.09 0.09 0.12 0.12 0.09 0.09 0.06 0.16 0.03]\n",
      " [0.03 0.03 0.16 0.12 0.12 0.16 0.09 0.03 0.19 0.00]\n",
      " [0.00 0.03 0.16 0.09 0.09 0.16 0.12 0.00 0.16 0.03]\n",
      " [0.06 0.09 0.09 0.12 0.12 0.09 0.09 0.06 0.16 0.03]\n",
      " [0.06 0.09 0.12 0.19 0.16 0.12 0.12 0.06 0.19 0.06]]\n",
      "RECOMMENDER - Step 1\n",
      "RECOMMENDER - System picked these items (cols) randomly for each user (rows):\n",
      "[[2]\n",
      " [6]\n",
      " [4]\n",
      " [0]\n",
      " [0]]\n",
      "RECOMMENDER - System recommended these items (cols) to each user (rows):\n",
      "[[1]\n",
      " [0]\n",
      " [3]\n",
      " [2]\n",
      " [9]]\n",
      "USER_SCORES - User scores for given items are:\n",
      "[[0.08 0.07]\n",
      " [0.08 0.04]\n",
      " [0.08 0.12]\n",
      " [0.05 0.08]\n",
      " [0.04 0.08]]\n",
      "RECOMMENDER - Users choose the following items respectively:\n",
      "[2 6 3 2 9]\n",
      "RECOMMENDER - System updates user profiles based on last interaction:\n",
      "[[0 1 3 2 2]\n",
      " [0 1 4 2 1]\n",
      " [1 1 4 2 1]\n",
      " [0 1 3 2 2]\n",
      " [2 2 3 1 2]]\n",
      "RECOMMENDER - System updates predicted scores given by users (rows) to items (columns):\n",
      "[[0.05 0.07 0.12 0.12 0.12 0.12 0.09 0.05 0.16 0.02]\n",
      " [0.02 0.05 0.14 0.12 0.12 0.14 0.12 0.02 0.16 0.02]\n",
      " [0.02 0.05 0.14 0.14 0.12 0.14 0.12 0.02 0.16 0.05]\n",
      " [0.05 0.07 0.12 0.12 0.12 0.12 0.09 0.05 0.16 0.02]\n",
      " [0.05 0.09 0.09 0.16 0.12 0.09 0.12 0.05 0.14 0.09]]\n",
      "RECOMMENDER - Step 2\n",
      "RECOMMENDER - System picked these items (cols) randomly for each user (rows):\n",
      "[[1]\n",
      " [8]\n",
      " [4]\n",
      " [3]\n",
      " [4]]\n",
      "RECOMMENDER - System recommended these items (cols) to each user (rows):\n",
      "[[1]\n",
      " [1]\n",
      " [0]\n",
      " [6]\n",
      " [1]]\n",
      "USER_SCORES - User scores for given items are:\n",
      "[[0.07 0.07]\n",
      " [0.08 0.13]\n",
      " [0.04 0.08]\n",
      " [0.08 0.13]\n",
      " [0.08 0.08]]\n",
      "RECOMMENDER - Users choose the following items respectively:\n",
      "[1 8 4 3 1]\n",
      "RECOMMENDER - System updates user profiles based on last interaction:\n",
      "[[0 2 3 2 3]\n",
      " [0 1 5 3 2]\n",
      " [1 1 5 2 2]\n",
      " [1 1 4 2 3]\n",
      " [2 3 3 1 3]]\n",
      "RECOMMENDER - System updates predicted scores given by users (rows) to items (columns):\n",
      "[[0.05 0.09 0.09 0.11 0.11 0.09 0.09 0.05 0.15 0.04]\n",
      " [0.04 0.05 0.15 0.13 0.13 0.15 0.11 0.04 0.18 0.02]\n",
      " [0.04 0.05 0.13 0.15 0.13 0.13 0.11 0.04 0.16 0.04]\n",
      " [0.05 0.07 0.11 0.15 0.13 0.11 0.09 0.05 0.16 0.04]\n",
      " [0.05 0.11 0.07 0.15 0.11 0.07 0.11 0.05 0.13 0.09]]\n"
     ]
    },
    {
     "data": {
      "image/png": "[encoded data removed]",
      "text/plain": [
       "<Figure size 432x288 with 1 Axes>"
      ]
     },
     "metadata": {},
     "output_type": "display_data"
    }
   ],
   "source": [
    "# Create recsys instance\n",
    "if rec_args[RECSYS_TYPE] is None:\n",
    "    rec = rec_dict[RECSYS_TYPE](NUM_USERS, NUM_ITEMS,\n",
    "        num_items_per_iter=NUM_ITEMS_PER_ITER, randomize_recommended=True, actual_user_scores=True,\n",
    "        debugger=debugger)\n",
    "else:\n",
    "    rec = rec_dict[RECSYS_TYPE](NUM_USERS, NUM_ITEMS,\n",
    "        num_items_per_iter=NUM_ITEMS_PER_ITER, randomize_recommended=True, actual_user_scores=True, \n",
    "        debugger=debugger, **rec_args[RECSYS_TYPE])\n",
    "\n",
    "# Startup\n",
    "rec.startup_and_train(timesteps=STARTUP_TIMESTEPS)\n",
    "\n",
    "# Runtime\n",
    "rec.run(timesteps=RUN_TIMESTEPS, train_between_steps=True, measurement_visualization_rule=lambda x: x % 50 == 0)\n",
    " # lambda function\n",
    "delta_t = rec.get_heterogeneity()"
   ]
  },
  {
   "cell_type": "code",
   "execution_count": 5,
   "metadata": {
    "scrolled": false
   },
   "outputs": [
    {
     "name": "stderr",
     "output_type": "stream",
     "text": [
      "RECOMMENDER - Run -- interleave recommendation and random items from now on\n",
      "RECOMMENDER - Step 0\n",
      "RECOMMENDER - System picked these items (cols) randomly for each user (rows):\n",
      "[[3]\n",
      " [1]\n",
      " [8]\n",
      " [9]\n",
      " [7]]\n",
      "RECOMMENDER - System recommended these items (cols) to each user (rows):\n",
      "[[9]\n",
      " [1]\n",
      " [7]\n",
      " [0]\n",
      " [2]]\n",
      "USER_SCORES - User scores for given items are:\n",
      "[[0.07 0.11]\n",
      " [0.08 0.08]\n",
      " [0.04 0.12]\n",
      " [0.05 0.08]\n",
      " [0.08 0.04]]\n",
      "RECOMMENDER - Users choose the following items respectively:\n",
      "[3 1 8 9 2]\n",
      "RECOMMENDER - System updates user profiles based on last interaction:\n",
      "[[1 2 4 2 4]\n",
      " [0 2 5 3 3]\n",
      " [1 1 6 3 3]\n",
      " [2 2 4 2 3]\n",
      " [2 3 4 2 3]]\n",
      "RECOMMENDER - System updates predicted scores given by users (rows) to items (columns):\n",
      "[[0.06 0.09 0.09 0.13 0.12 0.09 0.09 0.06 0.15 0.04]\n",
      " [0.04 0.07 0.12 0.12 0.12 0.12 0.10 0.04 0.16 0.03]\n",
      " [0.04 0.06 0.13 0.15 0.13 0.13 0.10 0.04 0.18 0.03]\n",
      " [0.04 0.07 0.09 0.13 0.10 0.09 0.09 0.04 0.13 0.06]\n",
      " [0.04 0.09 0.09 0.13 0.10 0.09 0.10 0.04 0.13 0.07]]\n"
     ]
    }
   ],
   "source": [
    "# Run for a single step\n",
    "rec.run(timesteps=1, train_between_steps=True, measurement_visualization_rule=lambda x: x % 50 == 0)"
   ]
  },
  {
   "cell_type": "code",
   "execution_count": 6,
   "metadata": {},
   "outputs": [
    {
     "data": {
      "image/png": "[encoded data removed]",
      "text/plain": [
       "<Figure size 432x288 with 1 Axes>"
      ]
     },
     "metadata": {},
     "output_type": "display_data"
    }
   ],
   "source": [
    "# Check heterogeneity again\n",
    "delta_t = rec.get_heterogeneity()"
   ]
  },
  {
   "cell_type": "code",
   "execution_count": null,
   "metadata": {},
   "outputs": [],
   "source": []
  }
 ],
 "metadata": {
  "kernelspec": {
   "display_name": "Python 3",
   "language": "python",
   "name": "python3"
  },
  "language_info": {
   "codemirror_mode": {
    "name": "ipython",
    "version": 3
   },
   "file_extension": ".py",
   "mimetype": "text/x-python",
   "name": "python",
   "nbconvert_exporter": "python",
   "pygments_lexer": "ipython3",
   "version": "3.7.0"
  }
 },
 "nbformat": 4,
 "nbformat_minor": 2
}
