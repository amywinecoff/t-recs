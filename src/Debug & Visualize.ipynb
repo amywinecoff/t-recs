{
 "cells": [
  {
   "cell_type": "markdown",
   "metadata": {},
   "source": [
    "# Debugging and visualizing data"
   ]
  },
  {
   "cell_type": "code",
   "execution_count": 11,
   "metadata": {},
   "outputs": [],
   "source": [
    "import argparse\n",
    "import numpy as np\n",
    "import matplotlib.pyplot as plt\n",
    "\n",
    "from popularity import PopularityRecommender\n",
    "from content import ContentFiltering\n",
    "from main import rec_dict, rec_args, debug_opt\n",
    "from debug import Debug"
   ]
  },
  {
   "cell_type": "markdown",
   "metadata": {},
   "source": [
    "### A few details on the available debugging options\n",
    "- `'MEASUREMENTS'` is used to debug the `measurements` module. Right now, if enabled, it only supports plotting the distribution of interactions at a given timestep. It is possible to define a `measurement_visualization_rule` to plot the distribution -- see example below.\n",
    "- `USER_PREFERENCES` is used to debug the `user_preferences` module. If enabled, it plots the distribution of the most liked items at the beginning of the execution.\n",
    "- `RECOMMENDER` is used to debug the behavior of the recommender system."
   ]
  },
  {
   "cell_type": "code",
   "execution_count": 2,
   "metadata": {},
   "outputs": [
    {
     "name": "stderr",
     "output_type": "stream",
     "text": [
      "USER_PREFERENCES - Debugging module inizialized\n",
      "RECOMMENDER - Debugging module inizialized\n"
     ]
    }
   ],
   "source": [
    "# NOTE: Restart kernel before re-running this\n",
    "\n",
    "# Set up debug options (see debug_opt in main.py)\n",
    "debug_opt['MEASUREMENTS'] = False # debug measurement of equilibrium\n",
    "debug_opt['USER_PREFERENCES'] = True  # debug user preferences\n",
    "debug_opt['RECOMMENDER'] = True # debug recommender system\n",
    "# Configure and initialize debugger\n",
    "debugger = Debug(list(debug_opt.keys()), list(debug_opt.values()))"
   ]
  },
  {
   "cell_type": "markdown",
   "metadata": {},
   "source": [
    "### Set up recommender system\n",
    "This cell contains everything needed for setup."
   ]
  },
  {
   "cell_type": "code",
   "execution_count": 9,
   "metadata": {},
   "outputs": [],
   "source": [
    "# Set up the following\n",
    "RECSYS_TYPE = 'content' # choose from supported (see rec_dict in main.py)\n",
    "NUM_USERS = 5\n",
    "NUM_ITEMS_PER_ITER = 2  # num items presented to each user at each iteration\n",
    "STARTUP_TIMESTEPS = 2  # num iterations of 'exploration'\n",
    "RUN_TIMESTEPS = 3  # total num iterations\n",
    "NUM_ITEMS = 10#round((STARTUP_TIMESTEPS + RUN_TIMESTEPS) * NUM_ITEMS_PER_ITER * np.random.uniform(1, 5))  # total num items in simulation\n",
    "\n",
    "# Set up additional arguments (see rec_args[RECSYS_TYPE] in main.py for supported arguments)\n",
    "# A: number of attributes; items_representation: attributes of each item\n",
    "rec_args['content']['A'] = 5\n",
    "rec_args['content']['items_representation'] = np.zeros((NUM_ITEMS, rec_args['content']['A']))\n",
    "\n",
    "# For content filtering, generate array of attributes\n",
    "for i, row in enumerate(rec_args['content']['items_representation']):\n",
    "    A = rec_args['content']['A']\n",
    "    n_indices = np.random.randint(1, A)\n",
    "    indices = np.random.randint(A, size=(n_indices))\n",
    "    row[indices] = 1\n",
    "    rec_args['content']['items_representation'][i,:] = row\n",
    "# Add it to args\n",
    "rec_args['content']['items_representation'] = rec_args['content']['items_representation'].T\n",
    "\n",
    "# Check RECSYS_TYPE\n",
    "if RECSYS_TYPE not in rec_dict:\n",
    "    raise ValueError(\"Recommender system type not supported. Supported types: \" + ', '.join(rec_dict))"
   ]
  },
  {
   "cell_type": "markdown",
   "metadata": {},
   "source": [
    "### Instantiate and run"
   ]
  },
  {
   "cell_type": "code",
   "execution_count": 10,
   "metadata": {
    "scrolled": true
   },
   "outputs": [
    {
     "name": "stderr",
     "output_type": "stream",
     "text": [
      "USER_PREFERENCES - Plot: Histogram of users liking each item the most\n"
     ]
    },
    {
     "data": {
      "image/png": "[encoded data removed]",
      "text/plain": [
       "<Figure size 432x288 with 1 Axes>"
      ]
     },
     "metadata": {},
     "output_type": "display_data"
    },
    {
     "name": "stderr",
     "output_type": "stream",
     "text": [
      "RECOMMENDER - Recommender system ready\n",
      "RECOMMENDER - Num items: 10\n",
      "RECOMMENDER - Users: 5\n",
      "RECOMMENDER - Items per iter: 2\n",
      "RECOMMENDER - Actual scores given by users (rows) to items (columns), unknown to system:\n",
      "[[5.96 1.25 0.84 5.44 1.71 2.45 0.82 10.61 0.86 7.03]\n",
      " [2.01 3.18 0.74 0.68 5.38 5.48 9.68 4.75 1.24 2.49]\n",
      " [4.34 0.67 4.95 0.69 1.31 8.18 4.45 6.08 0.63 2.79]\n",
      " [2.85 9.30 4.03 2.76 6.55 6.17 5.96 1.39 9.15 5.74]\n",
      " [4.77 1.71 6.06 7.07 4.34 2.93 0.72 2.85 9.18 1.76]]\n",
      "RECOMMENDER - Type of recommendation system: content\n",
      "RECOMMENDER - Num attributes: 5\n",
      "RECOMMENDER - Attributes of each item (rows):\n",
      "[[1.00 0.00 1.00 1.00 0.00]\n",
      " [1.00 0.00 1.00 0.00 1.00]\n",
      " [0.00 0.00 1.00 0.00 0.00]\n",
      " [1.00 0.00 0.00 0.00 1.00]\n",
      " [1.00 1.00 0.00 1.00 0.00]\n",
      " [1.00 1.00 0.00 0.00 0.00]\n",
      " [0.00 1.00 0.00 0.00 1.00]\n",
      " [0.00 0.00 1.00 1.00 1.00]\n",
      " [1.00 0.00 1.00 0.00 0.00]\n",
      " [0.00 0.00 1.00 0.00 0.00]]\n",
      "RECOMMENDER - User profiles known to the system represented by their attributes:\n",
      "[[0 0 0 0 0]\n",
      " [0 0 0 0 0]\n",
      " [0 0 0 0 0]\n",
      " [0 0 0 0 0]\n",
      " [0 0 0 0 0]]\n",
      "RECOMMENDER - Startup -- recommend random items\n",
      "RECOMMENDER - Step 0\n",
      "RECOMMENDER - System picked these items (cols) randomly for each user (rows):\n",
      "[[6 9]\n",
      " [9 4]\n",
      " [5 8]\n",
      " [6 3]\n",
      " [6 0]]\n",
      "USER_PREFERENCES - User scores for given items are:\n",
      "[[7.03 0.82]\n",
      " [5.38 2.49]\n",
      " [0.63 8.18]\n",
      " [2.76 5.96]\n",
      " [4.77 0.72]]\n",
      "RECOMMENDER - Users choose the following items respectively:\n",
      "[9 4 5 6 0]\n",
      "RECOMMENDER - System updates user profiles based on last interaction:\n",
      "[[0 0 1 0 0]\n",
      " [1 1 0 1 0]\n",
      " [1 1 0 0 0]\n",
      " [0 1 0 0 1]\n",
      " [1 0 1 1 0]]\n",
      "RECOMMENDER - Step 1\n",
      "RECOMMENDER - System picked these items (cols) randomly for each user (rows):\n",
      "[[6 1]\n",
      " [3 6]\n",
      " [7 7]\n",
      " [7 2]\n",
      " [9 4]]\n",
      "USER_PREFERENCES - User scores for given items are:\n",
      "[[0.82 1.25]\n",
      " [0.68 9.68]\n",
      " [6.08 6.08]\n",
      " [1.39 4.03]\n",
      " [1.76 4.34]]\n",
      "RECOMMENDER - Users choose the following items respectively:\n",
      "[1 6 7 2 4]\n",
      "RECOMMENDER - System updates user profiles based on last interaction:\n",
      "[[1 0 2 0 1]\n",
      " [1 2 0 1 1]\n",
      " [1 1 1 1 1]\n",
      " [0 1 1 0 1]\n",
      " [2 1 1 2 0]]\n",
      "RECOMMENDER - System updates predicted scores given by users (rows) to items (columns):\n",
      "[[0.13 0.17 0.09 0.09 0.04 0.04 0.04 0.13 0.13 0.09]\n",
      " [0.09 0.09 0.00 0.09 0.17 0.13 0.13 0.09 0.04 0.00]\n",
      " [0.13 0.13 0.04 0.09 0.13 0.09 0.09 0.13 0.09 0.04]\n",
      " [0.04 0.09 0.04 0.04 0.04 0.04 0.09 0.09 0.04 0.04]\n",
      " [0.22 0.13 0.04 0.09 0.22 0.13 0.04 0.13 0.13 0.04]]\n",
      "RECOMMENDER - Run -- interleave recommendation and random items from now on\n",
      "RECOMMENDER - Step 0\n",
      "RECOMMENDER - System picked these items (cols) randomly for each user (rows):\n",
      "[[7]\n",
      " [2]\n",
      " [2]\n",
      " [8]\n",
      " [5]]\n",
      "RECOMMENDER - System recommended these items (cols) to each user (rows):\n",
      "[[6]\n",
      " [8]\n",
      " [1]\n",
      " [1]\n",
      " [9]]\n",
      "USER_PREFERENCES - User scores for given items are:\n",
      "[[10.61 0.82]\n",
      " [0.74 1.24]\n",
      " [4.95 0.67]\n",
      " [9.15 9.30]\n",
      " [2.93 1.76]]\n",
      "RECOMMENDER - Users choose the following items respectively:\n",
      "[7 8 2 1 5]\n",
      "RECOMMENDER - System updates user profiles based on last interaction:\n",
      "[[1 0 3 1 2]\n",
      " [2 2 1 1 1]\n",
      " [1 1 2 1 1]\n",
      " [1 1 2 0 2]\n",
      " [3 2 1 2 0]]\n",
      "RECOMMENDER - System updates predicted scores given by users (rows) to items (columns):\n",
      "[[0.15 0.18 0.09 0.09 0.06 0.03 0.06 0.18 0.12 0.09]\n",
      " [0.12 0.12 0.03 0.09 0.15 0.12 0.09 0.09 0.09 0.03]\n",
      " [0.12 0.12 0.06 0.06 0.09 0.06 0.06 0.12 0.09 0.06]\n",
      " [0.09 0.15 0.06 0.09 0.06 0.06 0.09 0.12 0.09 0.06]\n",
      " [0.18 0.12 0.03 0.09 0.21 0.15 0.06 0.09 0.12 0.03]]\n",
      "RECOMMENDER - Step 1\n",
      "RECOMMENDER - System picked these items (cols) randomly for each user (rows):\n",
      "[[4]\n",
      " [1]\n",
      " [8]\n",
      " [0]\n",
      " [8]]\n",
      "RECOMMENDER - System recommended these items (cols) to each user (rows):\n",
      "[[4]\n",
      " [9]\n",
      " [3]\n",
      " [4]\n",
      " [7]]\n",
      "USER_PREFERENCES - User scores for given items are:\n",
      "[[1.71 1.71]\n",
      " [2.49 3.18]\n",
      " [0.69 0.63]\n",
      " [6.55 2.85]\n",
      " [2.85 9.18]]\n",
      "RECOMMENDER - Users choose the following items respectively:\n",
      "[4 1 3 4 8]\n",
      "RECOMMENDER - System updates user profiles based on last interaction:\n",
      "[[2 1 3 2 2]\n",
      " [3 2 2 1 2]\n",
      " [2 1 2 1 2]\n",
      " [2 2 2 1 2]\n",
      " [4 2 2 2 0]]\n",
      "RECOMMENDER - System updates predicted scores given by users (rows) to items (columns):\n",
      "[[0.15 0.15 0.06 0.09 0.11 0.06 0.06 0.15 0.11 0.06]\n",
      " [0.13 0.15 0.04 0.11 0.13 0.11 0.09 0.11 0.11 0.04]\n",
      " [0.11 0.13 0.04 0.09 0.09 0.06 0.06 0.11 0.09 0.04]\n",
      " [0.11 0.13 0.04 0.09 0.11 0.09 0.09 0.11 0.09 0.04]\n",
      " [0.17 0.13 0.04 0.09 0.17 0.13 0.04 0.09 0.13 0.04]]\n",
      "RECOMMENDER - Step 2\n",
      "RECOMMENDER - System picked these items (cols) randomly for each user (rows):\n",
      "[[0]\n",
      " [2]\n",
      " [6]\n",
      " [5]\n",
      " [2]]\n",
      "RECOMMENDER - System recommended these items (cols) to each user (rows):\n",
      "[[3]\n",
      " [2]\n",
      " [0]\n",
      " [9]\n",
      " [1]]\n",
      "USER_PREFERENCES - User scores for given items are:\n",
      "[[5.44 5.96]\n",
      " [0.74 0.74]\n",
      " [4.34 4.45]\n",
      " [5.74 6.17]\n",
      " [1.71 6.06]]\n",
      "RECOMMENDER - Users choose the following items respectively:\n",
      "[0 2 6 5 2]\n",
      "RECOMMENDER - System updates user profiles based on last interaction:\n",
      "[[3 1 4 3 2]\n",
      " [3 2 3 1 2]\n",
      " [2 2 2 1 3]\n",
      " [3 3 2 1 2]\n",
      " [4 2 3 2 0]]\n",
      "RECOMMENDER - System updates predicted scores given by users (rows) to items (columns):\n",
      "[[0.18 0.16 0.07 0.09 0.12 0.07 0.05 0.16 0.12 0.07]\n",
      " [0.12 0.14 0.05 0.09 0.11 0.09 0.07 0.11 0.11 0.05]\n",
      " [0.09 0.12 0.04 0.09 0.09 0.07 0.09 0.11 0.07 0.04]\n",
      " [0.11 0.12 0.04 0.09 0.12 0.11 0.09 0.09 0.09 0.04]\n",
      " [0.16 0.12 0.05 0.07 0.14 0.11 0.04 0.09 0.12 0.05]]\n"
     ]
    },
    {
     "data": {
      "image/png": "[encoded data removed]",
      "text/plain": [
       "<Figure size 432x288 with 1 Axes>"
      ]
     },
     "metadata": {},
     "output_type": "display_data"
    }
   ],
   "source": [
    "# Create recsys instance\n",
    "if rec_args[RECSYS_TYPE] is None:\n",
    "    rec = rec_dict[RECSYS_TYPE](NUM_USERS, NUM_ITEMS,\n",
    "        num_items_per_iter=NUM_ITEMS_PER_ITER, randomize_recommended=True, user_preferences=True,\n",
    "        debugger=debugger)\n",
    "else:\n",
    "    rec = rec_dict[RECSYS_TYPE](NUM_USERS, NUM_ITEMS,\n",
    "        num_items_per_iter=NUM_ITEMS_PER_ITER, randomize_recommended=True, user_preferences=True, \n",
    "        debugger=debugger, **rec_args[RECSYS_TYPE])\n",
    "\n",
    "# Startup\n",
    "rec.startup_and_train(timesteps=STARTUP_TIMESTEPS, measurement_visualization_rule=False)\n",
    "\n",
    "# Runtime\n",
    "rec.run(timesteps=RUN_TIMESTEPS, train_between_steps=True, measurement_visualization_rule=\"%50 == 0\")\n",
    "\n",
    "delta_t = rec.get_heterogeneity()"
   ]
  },
  {
   "cell_type": "code",
   "execution_count": 12,
   "metadata": {
    "scrolled": true
   },
   "outputs": [
    {
     "name": "stderr",
     "output_type": "stream",
     "text": [
      "RECOMMENDER - Run -- interleave recommendation and random items from now on\n",
      "RECOMMENDER - Step 0\n",
      "RECOMMENDER - System picked these items (cols) randomly for each user (rows):\n",
      "[[8]\n",
      " [7]\n",
      " [8]\n",
      " [3]\n",
      " [1]]\n",
      "RECOMMENDER - System recommended these items (cols) to each user (rows):\n",
      "[[8]\n",
      " [0]\n",
      " [9]\n",
      " [9]\n",
      " [6]]\n",
      "USER_PREFERENCES - User scores for given items are:\n",
      "[[0.86 0.86]\n",
      " [4.75 2.01]\n",
      " [0.63 2.79]\n",
      " [2.76 5.74]\n",
      " [1.71 0.72]]\n",
      "RECOMMENDER - Users choose the following items respectively:\n",
      "[8 7 9 9 1]\n",
      "RECOMMENDER - System updates user profiles based on last interaction:\n",
      "[[4 1 5 3 2]\n",
      " [3 2 4 2 3]\n",
      " [2 2 3 1 3]\n",
      " [3 3 3 1 2]\n",
      " [5 2 4 2 1]]\n",
      "RECOMMENDER - System updates predicted scores given by users (rows) to items (columns):\n",
      "[[0.18 0.17 0.08 0.09 0.12 0.08 0.05 0.15 0.14 0.08]\n",
      " [0.14 0.15 0.06 0.09 0.11 0.08 0.08 0.14 0.11 0.06]\n",
      " [0.09 0.12 0.05 0.08 0.08 0.06 0.08 0.11 0.08 0.05]\n",
      " [0.11 0.12 0.05 0.08 0.11 0.09 0.08 0.09 0.09 0.05]\n",
      " [0.17 0.15 0.06 0.09 0.14 0.11 0.05 0.11 0.14 0.06]]\n"
     ]
    }
   ],
   "source": [
    "# Run  a single step\n",
    "rec.run(timesteps=1, train_between_steps=True, measurement_visualization_rule=\"%50 == 0\")"
   ]
  },
  {
   "cell_type": "code",
   "execution_count": 15,
   "metadata": {},
   "outputs": [
    {
     "data": {
      "image/png": "[encoded data removed]",
      "text/plain": [
       "<Figure size 432x288 with 1 Axes>"
      ]
     },
     "metadata": {},
     "output_type": "display_data"
    }
   ],
   "source": [
    "# Check heterogeneity again\n",
    "delta_t = rec.get_heterogeneity()"
   ]
  },
  {
   "cell_type": "code",
   "execution_count": null,
   "metadata": {},
   "outputs": [],
   "source": []
  }
 ],
 "metadata": {
  "kernelspec": {
   "display_name": "Python 3",
   "language": "python",
   "name": "python3"
  },
  "language_info": {
   "codemirror_mode": {
    "name": "ipython",
    "version": 3
   },
   "file_extension": ".py",
   "mimetype": "text/x-python",
   "name": "python",
   "nbconvert_exporter": "python",
   "pygments_lexer": "ipython3",
   "version": "3.7.0"
  }
 },
 "nbformat": 4,
 "nbformat_minor": 2
}
