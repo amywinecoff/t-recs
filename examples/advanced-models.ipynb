{
 "cells": [
  {
   "cell_type": "markdown",
   "metadata": {},
   "source": [
    "# Create your own models\n",
    "This Notebook illustrates how to create your own models using the framework. At the end of this guide, you'll be able to run simulations with your own models. For a guide on how to create new metrics, please see `advanced-metrics.ipynb`. In what follows, we assume you are familiar with the main concepts of the framework shown in `complete-guide.ipynb`.\n",
    "\n",
    "## Dynamics\n",
    "Recall that the dynamics of the framework are expressed by the following steps:\n",
    "> 1. The **model** presents the **users** with some recommended **items**. In general, the items are chosen such that they maximize the probability of user engangement. This probability is based on the model's _prediction_ of user preferences.\n",
    "> 2. The **users** view the items presented by the **model**, and interact with some **items** according to some _actual_ preferences.\n",
    "> 3. The **model** updates its system state (such as the prediction of user preferences) based on the interactions of **users** with **items**, and it takes some **measurements**."
   ]
  },
  {
   "cell_type": "markdown",
   "metadata": {},
   "source": [
    "## Example: modeling segregation\n",
    "\n",
    "You'll learn how to extend the framework to build and configure your own model. As an example, we are going to implement a segregation model introduced by Thomas Schelling in his classic paper, [_Dynamic Models of Segregation_](https://www.stat.berkeley.edu/~aldous/157/Papers/Schelling_Seg_Models.pdf). For a visualization of the model, please see [this post](https://ncase.me/polygons/)."
   ]
  },
  {
   "cell_type": "markdown",
   "metadata": {},
   "source": [
    "### Modeling segregation: dynamics\n",
    "To adapt Schelling's model to the framework, we choose to consider a set of input that includes:\n",
    "1. An ``adjacency matrix`` of shape `num_users x num_users`, where element `uv` being 1 indicates that users `u` and `v` are neighbors at time _t_; otherwise, `uv` is 0.\n",
    "2. A `map matrix` of shape `num_items x 1` (in the one-dimensional case), where element `i` is the index of the user who occupies spot _i_ at time _t_; `i` is -1 if spot _i_ is free.\n",
    "3. A `type matrix` of shape `num_users x num_users`, where element `uv` being 1 indicates that users `u` and `v` are of the same _type_."
   ]
  },
  {
   "cell_type": "code",
   "execution_count": null,
   "metadata": {},
   "outputs": [],
   "source": []
  }
 ],
 "metadata": {
  "kernelspec": {
   "display_name": "Python 3",
   "language": "python",
   "name": "python3"
  },
  "language_info": {
   "codemirror_mode": {
    "name": "ipython",
    "version": 3
   },
   "file_extension": ".py",
   "mimetype": "text/x-python",
   "name": "python",
   "nbconvert_exporter": "python",
   "pygments_lexer": "ipython3",
   "version": "3.7.7"
  }
 },
 "nbformat": 4,
 "nbformat_minor": 4
}
