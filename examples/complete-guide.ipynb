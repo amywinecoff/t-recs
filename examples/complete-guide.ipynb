{
 "cells": [
  {
   "cell_type": "markdown",
   "metadata": {},
   "source": [
    "# Complete guide"
   ]
  },
  {
   "cell_type": "markdown",
   "metadata": {},
   "source": [
    "## Introduction\n",
    "\n",
    "This Notebook contains an overview of the basic functionality of the simulator. It introduces the simplest ways to get started with the simulator, and it dives into more advanced concepts that will allow you to get a sense of the flexibility of the system. At the end of this guide, you should be able to run the pre-loaded simulations with custom parameters."
   ]
  },
  {
   "cell_type": "markdown",
   "metadata": {},
   "source": [
    "## Main components\n",
    "A simulation needs the following components:\n",
    "(Add figure of overview.)\n",
    "\n",
    "- **Users**: agents who interact with each other and with items.\n",
    "- **Model**: agent that defines the behavior of the sociotechnical system. The model mediates the interactions among users and between users and the system.\n",
    "- **Items**: passive components that are served to the users by the model.\n",
    "- **Measurements**: modules built into the models which automatically compute information about the system.\n",
    "\n",
    "## Dynamics\n",
    "The following steps are at the heart of the all simulations:\n",
    "1. The **model** presents the **users** with some recommended **items**. In general, the items are chosen such that they maximize the probability of user engangement. This probability is based on the model's _prediction_ of user preferences.\n",
    "2. The **users** view the items presented by the **model**, and interact with some **items** according to some _actual_ preferences.\n",
    "3. The **model** updates its system state (such as the prediction of user preferences) based on the interactions of **users** with **items**, and it takes some **measurements**.\n",
    "\n",
    "We will see how this framework is very flexible and it can be a generalization of many classic models."
   ]
  },
  {
   "cell_type": "markdown",
   "metadata": {},
   "source": [
    "## Quick start: instantiate a model and run\n",
    "The fastest way to get started is to choose a model, instantiate it with no parameters, and run it for some time steps. Here we run a simple content filtering recommendation system.\n",
    "\n",
    "Content filters infer information about the _attributes_ of users based on their past interactions and recommend items with similar attributes to those of users."
   ]
  },
  {
   "cell_type": "code",
   "execution_count": 34,
   "metadata": {
    "scrolled": true
   },
   "outputs": [
    {
     "name": "stderr",
     "output_type": "stream",
     "text": [
      "100%|██████████| 5/5 [00:00<00:00, 18.94it/s]\n"
     ]
    }
   ],
   "source": [
    "from rec.models import ContentFiltering\n",
    "# Create ContentFiltering instance without arguments\n",
    "default_filtering = ContentFiltering()\n",
    "# Run for 5 time steps\n",
    "default_filtering.run(timesteps=5)"
   ]
  },
  {
   "cell_type": "code",
   "execution_count": 35,
   "metadata": {},
   "outputs": [
    {
     "name": "stdout",
     "output_type": "stream",
     "text": [
      "Results of the simulation:\n"
     ]
    },
    {
     "data": {
      "text/html": [
       "<div>\n",
       "<style scoped>\n",
       "    .dataframe tbody tr th:only-of-type {\n",
       "        vertical-align: middle;\n",
       "    }\n",
       "\n",
       "    .dataframe tbody tr th {\n",
       "        vertical-align: top;\n",
       "    }\n",
       "\n",
       "    .dataframe thead th {\n",
       "        text-align: right;\n",
       "    }\n",
       "</style>\n",
       "<table border=\"1\" class=\"dataframe\">\n",
       "  <thead>\n",
       "    <tr style=\"text-align: right;\">\n",
       "      <th></th>\n",
       "      <th>MSE</th>\n",
       "      <th>Timesteps</th>\n",
       "    </tr>\n",
       "  </thead>\n",
       "  <tbody>\n",
       "    <tr>\n",
       "      <th>0</th>\n",
       "      <td>None</td>\n",
       "      <td>0</td>\n",
       "    </tr>\n",
       "    <tr>\n",
       "      <th>1</th>\n",
       "      <td>162.99763100693693</td>\n",
       "      <td>1</td>\n",
       "    </tr>\n",
       "    <tr>\n",
       "      <th>2</th>\n",
       "      <td>162.761</td>\n",
       "      <td>2</td>\n",
       "    </tr>\n",
       "    <tr>\n",
       "      <th>3</th>\n",
       "      <td>162.761</td>\n",
       "      <td>3</td>\n",
       "    </tr>\n",
       "    <tr>\n",
       "      <th>4</th>\n",
       "      <td>162.76</td>\n",
       "      <td>4</td>\n",
       "    </tr>\n",
       "    <tr>\n",
       "      <th>5</th>\n",
       "      <td>162.759</td>\n",
       "      <td>5</td>\n",
       "    </tr>\n",
       "  </tbody>\n",
       "</table>\n",
       "</div>"
      ],
      "text/plain": [
       "                  MSE  Timesteps\n",
       "0                None          0\n",
       "1  162.99763100693693          1\n",
       "2             162.761          2\n",
       "3             162.761          3\n",
       "4              162.76          4\n",
       "5             162.759          5"
      ]
     },
     "execution_count": 35,
     "metadata": {},
     "output_type": "execute_result"
    }
   ],
   "source": [
    "# To collect the results of the measurements\n",
    "results = default_filtering.get_measurements()\n",
    "import pandas as pd\n",
    "print(\"Results of the simulation:\")\n",
    "pd.DataFrame(results)"
   ]
  },
  {
   "cell_type": "markdown",
   "metadata": {},
   "source": [
    "In what follows, we expand on this minimal example to explore what happens under the hood. We offer suggestions on how to exploit the power of the framework and build on the pre-loaded models."
   ]
  },
  {
   "cell_type": "markdown",
   "metadata": {},
   "source": [
    "## Models\n",
    "\n",
    "As in the ``Quick Start,`` if you want to run a simulation, the smallest piece of information you need is the model you want to run. There are a number of pre-loaded models that work out of the box. We continue to use a generic content filtering recommendation system.\n",
    "\n",
    "Recall that content filters infer information about the _attributes_ of users based on their past interactions and recommend items with similar attributes to those of users."
   ]
  },
  {
   "cell_type": "code",
   "execution_count": 3,
   "metadata": {},
   "outputs": [],
   "source": [
    "# Again, we instantiate the model with no parameters\n",
    "default_filtering = ContentFiltering()"
   ]
  },
  {
   "cell_type": "markdown",
   "metadata": {},
   "source": [
    "In the cell above, we instantiated a content filtering recommender system with default parameters. We print below the default number of users and items in the system."
   ]
  },
  {
   "cell_type": "code",
   "execution_count": 4,
   "metadata": {},
   "outputs": [
    {
     "name": "stdout",
     "output_type": "stream",
     "text": [
      "Number of users in system: 100\n",
      "Number of items in system: 1250\n"
     ]
    }
   ],
   "source": [
    "print(\"Number of users in system: %d\" % default_filtering.num_users)\n",
    "print(\"Number of items in system: %d\" % default_filtering.num_items)"
   ]
  },
  {
   "cell_type": "markdown",
   "metadata": {},
   "source": [
    "The model also created a representation for both users and items."
   ]
  },
  {
   "cell_type": "code",
   "execution_count": 5,
   "metadata": {},
   "outputs": [
    {
     "name": "stdout",
     "output_type": "stream",
     "text": [
      "In content filtering, the default parameters are given by:\n",
      "- An all-zeros matrix of users of size (100, 1000).\n",
      "- A randomly generated matrix of items of size (1000, 1250).\n"
     ]
    }
   ],
   "source": [
    "print(\"In content filtering, the default parameters are given by:\")\n",
    "print(\"- An all-zeros matrix of users of size %s.\" % str(default_filtering.user_profiles.shape))\n",
    "print(\"- A randomly generated matrix of items of size %s.\" % str(default_filtering.item_attributes.shape))"
   ]
  },
  {
   "cell_type": "markdown",
   "metadata": {},
   "source": [
    "Formally, content filtering supports user profiles of size `|num_users x num_attributes|` and item attributes of size `|num_attributes x num_items|`."
   ]
  },
  {
   "cell_type": "markdown",
   "metadata": {},
   "source": [
    "### Set number of users or items\n",
    "We can customize the number of users in the system:"
   ]
  },
  {
   "cell_type": "code",
   "execution_count": 6,
   "metadata": {},
   "outputs": [
    {
     "name": "stdout",
     "output_type": "stream",
     "text": [
      "The number of users in the system is now 500.\n",
      "The number of items in the system is still 1250.\n"
     ]
    }
   ],
   "source": [
    "# instantiate content filter with a different number of users\n",
    "number_of_users = 500\n",
    "filtering = ContentFiltering(num_users=number_of_users)\n",
    "print(\"The number of users in the system is now %d.\" % filtering.num_users)\n",
    "print(\"The number of items in the system is still %d.\" % filtering.num_items)"
   ]
  },
  {
   "cell_type": "markdown",
   "metadata": {},
   "source": [
    "Or the number of items:"
   ]
  },
  {
   "cell_type": "code",
   "execution_count": 7,
   "metadata": {},
   "outputs": [
    {
     "name": "stdout",
     "output_type": "stream",
     "text": [
      "The number of items in the system is now 5000.\n",
      "The number of users in the system is back to 100.\n"
     ]
    }
   ],
   "source": [
    "# instantiate with a different number of items\n",
    "number_of_items = 5000\n",
    "filtering = ContentFiltering(num_items = number_of_items)\n",
    "print(\"The number of items in the system is now %d.\" % filtering.num_items)\n",
    "print(\"The number of users in the system is back to %d.\" % filtering.num_users)"
   ]
  },
  {
   "cell_type": "markdown",
   "metadata": {},
   "source": [
    "Or both:"
   ]
  },
  {
   "cell_type": "code",
   "execution_count": 8,
   "metadata": {},
   "outputs": [
    {
     "name": "stdout",
     "output_type": "stream",
     "text": [
      "The number of items in the system is now 5000.\n",
      "The number of users in the system is now 500.\n"
     ]
    }
   ],
   "source": [
    "# instantiate with a different number of items and users\n",
    "number_of_items = 5000\n",
    "number_of_users = 500\n",
    "filtering = ContentFiltering(num_items = number_of_items, num_users=number_of_users)\n",
    "print(\"The number of items in the system is now %d.\" % filtering.num_items)\n",
    "print(\"The number of users in the system is now %d.\" % filtering.num_users)"
   ]
  },
  {
   "cell_type": "markdown",
   "metadata": {},
   "source": [
    "Note that the representations of items and users are set accordingly:"
   ]
  },
  {
   "cell_type": "code",
   "execution_count": 9,
   "metadata": {},
   "outputs": [
    {
     "name": "stdout",
     "output_type": "stream",
     "text": [
      "The size of item_attributes is (1000, 5000).\n",
      "The size of user_profiles is (500, 1000).\n"
     ]
    }
   ],
   "source": [
    "print(\"The size of item_attributes is %s.\" % str(filtering.item_attributes.shape))\n",
    "print(\"The size of user_profiles is %s.\" % str(filtering.user_profiles.shape))"
   ]
  },
  {
   "cell_type": "markdown",
   "metadata": {},
   "source": [
    "## Users and Items\n",
    "We might also want to define our own representation of users and items. We can do so by defining matrices that satisfy the constraints of the model. The constraints for ContentFiltering (some of which have been mentioned above) are:\n",
    "\n",
    "- User profiles must be of size `|num_users x num_attributes|`.\n",
    "- User profiles are matrices of integers representing the number of interactions of each user with items that have a given attributes. `user_profiles[i, j]` represents the number of interactions user `i` had with items with attribute `j`.\n",
    "- Item attributes must be of size `|num_attributes x num_items|`.\n",
    "- The model doesn't define any constraint on item attributes. If `item_attributes` is binary, then its `[i, j]`th element is 1 if item `j` is attributed attribute `i`; otherwise, it's 0. Item attributes can also be real-valued, representing the probability that each attribute has to describe items.\n",
    "\n",
    "If you're already familiar with Numpy: the model is compatible with `ndarrays` and _array_like_ data structures. \n",
    "\n",
    "If you're not familiar with Numpy: the framework provides a random number generator that lets you draw from several distributions (which in practice is a thin wrapper around `numpy.random.Generator`). Please refer to the Numpy documentation for a [list of distributions](https://numpy.org/doc/stable/reference/random/generator.html?highlight=generator#distributions)."
   ]
  },
  {
   "cell_type": "code",
   "execution_count": 10,
   "metadata": {},
   "outputs": [
    {
     "name": "stdout",
     "output_type": "stream",
     "text": [
      "User representation:\n",
      "[[3 3 3 1 2 1 2 0 1 0]\n",
      " [1 0 1 1 2 1 2 2 2 2]\n",
      " [2 0 2 2 1 2 3 1 0 2]\n",
      " [1 1 3 3 0 3 1 1 2 0]\n",
      " [0 3 3 2 2 1 2 1 3 2]]\n",
      "\n",
      "Item representation:\n",
      "[[0 0 0 1 1 0 0 1 0 1 1 1 0 1 0]\n",
      " [1 0 1 1 1 0 0 1 0 0 0 1 0 1 1]\n",
      " [1 1 0 1 0 1 1 0 0 0 0 0 0 0 1]\n",
      " [1 0 0 1 0 0 0 0 1 0 1 0 1 0 1]\n",
      " [0 1 1 1 0 0 1 1 1 0 1 1 0 1 1]\n",
      " [1 0 0 0 1 0 0 1 1 1 1 0 1 1 0]\n",
      " [0 1 1 1 0 1 1 1 0 0 0 0 1 1 0]\n",
      " [1 1 0 1 0 1 1 0 0 1 1 0 0 0 0]\n",
      " [0 1 0 1 1 1 1 1 0 0 0 0 0 0 0]\n",
      " [0 0 1 1 1 0 1 1 0 1 0 1 0 0 0]]\n"
     ]
    }
   ],
   "source": [
    "import numpy as np\n",
    "# Keep the dimensions small for ease of visualization\n",
    "number_of_users = 5\n",
    "number_of_attributes = 10\n",
    "number_of_items = 15\n",
    "# We define user_representation using the standard integer generator in Numpy.\n",
    "# We assume a number of interactions with each attribute in the interval [0,4).\n",
    "user_representation = np.random.randint(4, size=(number_of_users, number_of_attributes))\n",
    "\n",
    "# We define item_representation using the Generator that comes with the framework\n",
    "# We assume a binary matrix with a binomial distribution\n",
    "from rec.random import Generator\n",
    "item_representation = Generator().binomial(n=1, p=.5,\n",
    "                                           size=(number_of_attributes, number_of_items))\n",
    "# Note that this is equivalent to:\n",
    "# item_representation = np.random.Generator(np.random.MT19937()).binomial(n=1, p=.5, size=(...))\n",
    "\n",
    "print(\"User representation:\\n%s\\n\" % (str(user_representation)))\n",
    "print(\"Item representation:\\n%s\" % (str(item_representation)))"
   ]
  },
  {
   "cell_type": "code",
   "execution_count": 11,
   "metadata": {},
   "outputs": [
    {
     "name": "stdout",
     "output_type": "stream",
     "text": [
      "Is user_profiles equivalent to user_representation? yes.\n",
      "Is item_attributes equivalent to item_representation? yes.\n"
     ]
    }
   ],
   "source": [
    "# Initialize with custom representations\n",
    "filtering = ContentFiltering(user_representation=user_representation,\n",
    "                            item_representation=item_representation)\n",
    "\n",
    "# Check if they're equivalent\n",
    "is_user_equivalent = \"yes\" if np.array_equal(user_representation, filtering.user_profiles) else \"no\"\n",
    "is_item_equivalent = \"yes\" if np.array_equal(item_representation, filtering.item_attributes) else \"no\"\n",
    "print(\"Is user_profiles equivalent to user_representation? %s.\" % is_user_equivalent)\n",
    "print(\"Is item_attributes equivalent to item_representation? %s.\" % is_item_equivalent)"
   ]
  },
  {
   "cell_type": "markdown",
   "metadata": {},
   "source": [
    "You can also initialize models with `user_representation` and `item_representation` individually. In this case, the representation that has not been initialized will adapt to the size defined by the user."
   ]
  },
  {
   "cell_type": "code",
   "execution_count": 12,
   "metadata": {},
   "outputs": [
    {
     "name": "stdout",
     "output_type": "stream",
     "text": [
      "After initializing user_profiles, the size of item_attributes adapts automatically to it.\n",
      "Size of user_profiles, as defined above: (5, 10).\n",
      "Size of item_attributes: (10, 1250).\n",
      "\n",
      "After initializing item_attributes, the size of user_profiles adapts automatically to it.\n",
      "Size of item_attributes, as defined above: (10, 15).\n",
      "Size of user_profiles: (100, 10).\n"
     ]
    }
   ],
   "source": [
    "# Let's only initialize user_profiles\n",
    "filtering = ContentFiltering(user_representation=user_representation)\n",
    "print(\"After initializing user_profiles, the size of item_attributes adapts automatically to it.\")\n",
    "print(\"Size of user_profiles, as defined above: %s.\" % str(filtering.user_profiles.shape))\n",
    "print(\"Size of item_attributes: %s.\\n\" % str(filtering.item_attributes.shape))\n",
    "\n",
    "# The same happens by only initializing item_attributes\n",
    "filtering = ContentFiltering(item_representation=item_representation)\n",
    "print(\"After initializing item_attributes, the size of user_profiles adapts automatically to it.\")\n",
    "print(\"Size of item_attributes, as defined above: %s.\" % str(filtering.item_attributes.shape))\n",
    "print(\"Size of user_profiles: %s.\" % str(filtering.user_profiles.shape))"
   ]
  },
  {
   "cell_type": "markdown",
   "metadata": {},
   "source": [
    "## Run a simulation\n",
    "We can run a simulation for the predefined number of time steps (50), or define our own duration."
   ]
  },
  {
   "cell_type": "code",
   "execution_count": 13,
   "metadata": {},
   "outputs": [
    {
     "name": "stderr",
     "output_type": "stream",
     "text": [
      "100%|██████████| 50/50 [00:00<00:00, 340.09it/s]\n"
     ]
    }
   ],
   "source": [
    "# let's initialize a model with both user_representation and item_representation defined above\n",
    "filtering = ContentFiltering(user_representation=user_representation,\n",
    "                            item_representation=item_representation)\n",
    "# Run the model for the predefined number of timesteps:\n",
    "filtering.run()"
   ]
  },
  {
   "cell_type": "markdown",
   "metadata": {},
   "source": [
    "At the end of the simulation, we can examine the results of the measurements. For example:"
   ]
  },
  {
   "cell_type": "code",
   "execution_count": 25,
   "metadata": {},
   "outputs": [
    {
     "data": {
      "text/html": [
       "<div>\n",
       "<style scoped>\n",
       "    .dataframe tbody tr th:only-of-type {\n",
       "        vertical-align: middle;\n",
       "    }\n",
       "\n",
       "    .dataframe tbody tr th {\n",
       "        vertical-align: top;\n",
       "    }\n",
       "\n",
       "    .dataframe thead th {\n",
       "        text-align: right;\n",
       "    }\n",
       "</style>\n",
       "<table border=\"1\" class=\"dataframe\">\n",
       "  <thead>\n",
       "    <tr style=\"text-align: right;\">\n",
       "      <th></th>\n",
       "      <th>MSE</th>\n",
       "      <th>homogeneity</th>\n",
       "      <th>Timesteps</th>\n",
       "    </tr>\n",
       "  </thead>\n",
       "  <tbody>\n",
       "    <tr>\n",
       "      <th>0</th>\n",
       "      <td>None</td>\n",
       "      <td>NaN</td>\n",
       "      <td>0</td>\n",
       "    </tr>\n",
       "    <tr>\n",
       "      <th>1</th>\n",
       "      <td>32.091746147208134</td>\n",
       "      <td>-98.0</td>\n",
       "      <td>1</td>\n",
       "    </tr>\n",
       "    <tr>\n",
       "      <th>2</th>\n",
       "      <td>31.8499</td>\n",
       "      <td>-0.5</td>\n",
       "      <td>2</td>\n",
       "    </tr>\n",
       "    <tr>\n",
       "      <th>3</th>\n",
       "      <td>31.8495</td>\n",
       "      <td>0.5</td>\n",
       "      <td>3</td>\n",
       "    </tr>\n",
       "    <tr>\n",
       "      <th>4</th>\n",
       "      <td>31.8497</td>\n",
       "      <td>0.5</td>\n",
       "      <td>4</td>\n",
       "    </tr>\n",
       "  </tbody>\n",
       "</table>\n",
       "</div>"
      ],
      "text/plain": [
       "                  MSE  homogeneity  Timesteps\n",
       "0                None          NaN          0\n",
       "1  32.091746147208134        -98.0          1\n",
       "2             31.8499         -0.5          2\n",
       "3             31.8495          0.5          3\n",
       "4             31.8497          0.5          4"
      ]
     },
     "execution_count": 25,
     "metadata": {},
     "output_type": "execute_result"
    }
   ],
   "source": [
    "# To get the measurements of all timesteps<=50\n",
    "measurements = filtering.get_measurements()\n",
    "\n",
    "# Measurements can be easily converted to pandas DataFrame objects\n",
    "import pandas as pd\n",
    "pd.DataFrame(measurements).head()"
   ]
  },
  {
   "cell_type": "markdown",
   "metadata": {},
   "source": [
    "## Measurements\n",
    "At each time step of the simulation, measurements calculate a quantity based on the system state. An example of such quantity is the mean squared error between the predicted user profiles and the actual user profiles -- that is, how close is the model to predicting the real preferences of the system?\n",
    "\n",
    "It's easy to define new metrics, but in this guide we will use one of the pre-loaded metrics to get a better sense of how they work. For a list of pre-loaded metrics and their full descriptions, see the docs [LINK].\n",
    "\n",
    "### View metrics\n",
    "\n",
    "First, we note that the content filtering recommender system, with its default settings, only tracks one metrics: the mean squared error for user profiles."
   ]
  },
  {
   "cell_type": "code",
   "execution_count": 18,
   "metadata": {},
   "outputs": [
    {
     "name": "stdout",
     "output_type": "stream",
     "text": [
      "[<rec.metrics.measurement.MSEMeasurement object at 0x10a2344d0>]\n"
     ]
    }
   ],
   "source": [
    "# The metrics tracked by each model can be examined by printing the `metrics` list.\n",
    "print(filtering.metrics)"
   ]
  },
  {
   "cell_type": "markdown",
   "metadata": {},
   "source": [
    "### Add metrics\n",
    "To **maintain compatibility with pandas**, we suggest to **only add metrics to instances of models that have not been run yet**. This is to avoid having measurements that start at different time steps, resulting in arrays of different length.\n",
    "\n",
    "We can instantiate a new model, add a new metric, and then run the model.\n",
    "\n",
    "We will add the `HomogeneityMeasurement`, which provides a measure of the homogeneity of user interactions in the system as a whole."
   ]
  },
  {
   "cell_type": "code",
   "execution_count": 45,
   "metadata": {},
   "outputs": [
    {
     "name": "stdout",
     "output_type": "stream",
     "text": [
      "[<rec.metrics.measurement.MSEMeasurement object at 0x11c8b8550>, <rec.metrics.measurement.HomogeneityMeasurement object at 0x11c590fd0>]\n"
     ]
    }
   ],
   "source": [
    "filtering = ContentFiltering(num_users=5, num_items=10, num_attributes=10)\n",
    "from rec.metrics import HomogeneityMeasurement\n",
    "# This method accepts a variable number of metrics\n",
    "filtering.add_metrics(HomogeneityMeasurement())\n",
    "print(filtering.metrics)"
   ]
  },
  {
   "cell_type": "code",
   "execution_count": 46,
   "metadata": {},
   "outputs": [
    {
     "name": "stderr",
     "output_type": "stream",
     "text": [
      "100%|██████████| 5/5 [00:00<00:00, 77.41it/s]\n"
     ]
    },
    {
     "data": {
      "text/html": [
       "<div>\n",
       "<style scoped>\n",
       "    .dataframe tbody tr th:only-of-type {\n",
       "        vertical-align: middle;\n",
       "    }\n",
       "\n",
       "    .dataframe tbody tr th {\n",
       "        vertical-align: top;\n",
       "    }\n",
       "\n",
       "    .dataframe thead th {\n",
       "        text-align: right;\n",
       "    }\n",
       "</style>\n",
       "<table border=\"1\" class=\"dataframe\">\n",
       "  <thead>\n",
       "    <tr style=\"text-align: right;\">\n",
       "      <th></th>\n",
       "      <th>MSE</th>\n",
       "      <th>homogeneity</th>\n",
       "      <th>Timesteps</th>\n",
       "    </tr>\n",
       "  </thead>\n",
       "  <tbody>\n",
       "    <tr>\n",
       "      <th>0</th>\n",
       "      <td>None</td>\n",
       "      <td>NaN</td>\n",
       "      <td>0</td>\n",
       "    </tr>\n",
       "    <tr>\n",
       "      <th>1</th>\n",
       "      <td>0.7524791781120291</td>\n",
       "      <td>-4.5</td>\n",
       "      <td>1</td>\n",
       "    </tr>\n",
       "    <tr>\n",
       "      <th>2</th>\n",
       "      <td>0.27224</td>\n",
       "      <td>0.0</td>\n",
       "      <td>2</td>\n",
       "    </tr>\n",
       "    <tr>\n",
       "      <th>3</th>\n",
       "      <td>0.274983</td>\n",
       "      <td>0.0</td>\n",
       "      <td>3</td>\n",
       "    </tr>\n",
       "    <tr>\n",
       "      <th>4</th>\n",
       "      <td>0.273922</td>\n",
       "      <td>0.0</td>\n",
       "      <td>4</td>\n",
       "    </tr>\n",
       "    <tr>\n",
       "      <th>5</th>\n",
       "      <td>0.269191</td>\n",
       "      <td>0.0</td>\n",
       "      <td>5</td>\n",
       "    </tr>\n",
       "  </tbody>\n",
       "</table>\n",
       "</div>"
      ],
      "text/plain": [
       "                  MSE  homogeneity  Timesteps\n",
       "0                None          NaN          0\n",
       "1  0.7524791781120291         -4.5          1\n",
       "2             0.27224          0.0          2\n",
       "3            0.274983          0.0          3\n",
       "4            0.273922          0.0          4\n",
       "5            0.269191          0.0          5"
      ]
     },
     "execution_count": 46,
     "metadata": {},
     "output_type": "execute_result"
    }
   ],
   "source": [
    "# now we run the model\n",
    "filtering.run(timesteps=5)\n",
    "measurements = filtering.get_measurements()\n",
    "pd.DataFrame(measurements)"
   ]
  },
  {
   "cell_type": "markdown",
   "metadata": {},
   "source": [
    "Measurements at time step 0 can be undefined (`None`, `NaN`, etc.) because it denotes the measurements before the start of the simulation. MSE is undefined at the beginning because the system has not yet made predictions on the user profiles; similarly, homogeneity is meaningless before the simulation begins because there are no user interactions to consider."
   ]
  },
  {
   "cell_type": "markdown",
   "metadata": {},
   "source": [
    "## System state\n"
   ]
  },
  {
   "cell_type": "markdown",
   "metadata": {},
   "source": [
    "Some applications might require storing the system's internal state for future processing. This is useful, for example, to study the evolution of predicted user profiles."
   ]
  },
  {
   "cell_type": "code",
   "execution_count": 47,
   "metadata": {},
   "outputs": [
    {
     "name": "stdout",
     "output_type": "stream",
     "text": [
      "dict_keys(['Actual user scores', 'Items', 'Predicted scores', 'Timesteps'])\n"
     ]
    }
   ],
   "source": [
    "system_state = filtering.get_system_state()\n",
    "# System state is likely to be tricky to convert to pandas DataFrame\n",
    "print(system_state.keys())"
   ]
  },
  {
   "cell_type": "code",
   "execution_count": 51,
   "metadata": {},
   "outputs": [
    {
     "data": {
      "text/plain": [
       "array([[0.65217391, 0.52173913, 0.60869565, 0.82608696, 0.34782609,\n",
       "        0.39130435, 0.86956522, 0.82608696, 0.47826087, 0.73913043],\n",
       "       [0.26470588, 0.79411765, 1.        , 0.20588235, 0.55882353,\n",
       "        0.88235294, 0.41176471, 0.79411765, 0.35294118, 0.64705882],\n",
       "       [0.4       , 0.8       , 1.        , 0.2       , 1.        ,\n",
       "        0.6       , 0.4       , 0.8       , 0.2       , 0.6       ],\n",
       "       [0.54545455, 0.31818182, 0.72727273, 0.54545455, 0.27272727,\n",
       "        0.45454545, 0.81818182, 0.72727273, 0.86363636, 0.90909091],\n",
       "       [0.28571429, 1.        , 0.85714286, 0.28571429, 0.57142857,\n",
       "        0.71428571, 0.42857143, 0.57142857, 0.14285714, 0.57142857]])"
      ]
     },
     "execution_count": 51,
     "metadata": {},
     "output_type": "execute_result"
    }
   ],
   "source": [
    "# now we can take a look at the system state\n",
    "system_state['Predicted scores']\n",
    "filtering.predicted_scores"
   ]
  },
  {
   "cell_type": "markdown",
   "metadata": {},
   "source": [
    "### Other parameters: general list\n",
    "We can also modify other parameters, specifically:\n",
    "- verbose: (default: False) if True, it enables a log of the main events in the system.\n",
    "- num_items_per_iter\n",
    "- num_new_items\n",
    "\n",
    "### Specific to ContentFiltering"
   ]
  },
  {
   "cell_type": "code",
   "execution_count": null,
   "metadata": {},
   "outputs": [],
   "source": []
  }
 ],
 "metadata": {
  "kernelspec": {
   "display_name": "Python 3",
   "language": "python",
   "name": "python3"
  },
  "language_info": {
   "codemirror_mode": {
    "name": "ipython",
    "version": 3
   },
   "file_extension": ".py",
   "mimetype": "text/x-python",
   "name": "python",
   "nbconvert_exporter": "python",
   "pygments_lexer": "ipython3",
   "version": "3.7.7"
  }
 },
 "nbformat": 4,
 "nbformat_minor": 4
}
