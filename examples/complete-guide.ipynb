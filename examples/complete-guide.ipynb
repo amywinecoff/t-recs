{
 "cells": [
  {
   "cell_type": "markdown",
   "metadata": {},
   "source": [
    "# Complete guide"
   ]
  },
  {
   "cell_type": "markdown",
   "metadata": {},
   "source": [
    "## Introduction\n",
    "\n",
    "This Notebook contains an overview of the basic functionality of the simulator. It introduces the simplest ways to get started with the simulator, and it dives into more advanced concepts that will allow you to get a sense of the flexibility of the system. At the end of this guide, you should be able to configure the pre-loaded simulations with custom parameters and metrics."
   ]
  },
  {
   "cell_type": "markdown",
   "metadata": {},
   "source": [
    "## Main components\n",
    "A simulation needs the following components:\n",
    "(Add figure of overview.)\n",
    "\n",
    "- **Users**: agents who interact with each other and with items.\n",
    "- **Model**: agent that defines the behavior of the sociotechnical system. The model mediates the interactions among users and between users and the system.\n",
    "- **Items**: passive components that are served to the users by the model.\n",
    "- **Measurements**: modules built into the models which automatically compute information about the system.\n",
    "\n",
    "## Dynamics\n",
    "The following steps are at the heart of the simulations:\n",
    "1. The **model** presents the **users** with some recommended **items**. In general, the items are chosen such that they maximize the probability of user engangement. This probability is based on the model's _prediction_ of user preferences.\n",
    "2. The **users** view the items presented by the **model**, and interact with some **items** according to some _actual_ preferences.\n",
    "3. The **model** updates its system state (such as the prediction of user preferences) based on the interactions of **users** with **items**, and it takes some **measurements**.\n",
    "\n",
    "We will see that this framework is very flexible and it can be a generalization of many classic and new models."
   ]
  },
  {
   "cell_type": "markdown",
   "metadata": {},
   "source": [
    "## Quick start: instantiate a model and run\n",
    "The fastest way to get started is to choose a model, instantiate it with no parameters, and run it for some time steps. Here we run a simple [content filtering recommendation system](https://elucherini.github.io/algo-segregation/reference/models.html#module-models.content) (please refer to the [BaseRecommender documentation](https://elucherini.github.io/algo-segregation/reference/models.html#models.recommender.BaseRecommender) for a complete list of class attributes and methods shared by all models, as that information is currently incomplete in the docs of the other pre-loaded models).\n",
    "\n",
    "Content filters infer information about the _attributes_ of users based on their past interactions and recommend items with similar attributes to those of users."
   ]
  },
  {
   "cell_type": "code",
   "execution_count": 1,
   "metadata": {},
   "outputs": [],
   "source": [
    "import pandas as pd\n",
    "import numpy as np\n",
    "\n",
    "import trecs\n",
    "from trecs.models import ContentFiltering\n",
    "from trecs.random import Generator\n",
    "from trecs.metrics import HomogeneityMeasurement,JaccardSimilarity, Measurement"
   ]
  },
  {
   "cell_type": "code",
   "execution_count": 2,
   "metadata": {
    "scrolled": true
   },
   "outputs": [
    {
     "name": "stderr",
     "output_type": "stream",
     "text": [
      "100%|██████████| 5/5 [00:00<00:00, 72.47it/s]\n"
     ]
    }
   ],
   "source": [
    "# Create ContentFiltering instance without arguments\n",
    "default_filtering = ContentFiltering()\n",
    "# Run for 5 time steps\n",
    "default_filtering.run(timesteps=5)"
   ]
  },
  {
   "cell_type": "code",
   "execution_count": 3,
   "metadata": {},
   "outputs": [
    {
     "name": "stdout",
     "output_type": "stream",
     "text": [
      "Results of the simulation:\n"
     ]
    },
    {
     "data": {
      "text/html": [
       "<div>\n",
       "<style scoped>\n",
       "    .dataframe tbody tr th:only-of-type {\n",
       "        vertical-align: middle;\n",
       "    }\n",
       "\n",
       "    .dataframe tbody tr th {\n",
       "        vertical-align: top;\n",
       "    }\n",
       "\n",
       "    .dataframe thead th {\n",
       "        text-align: right;\n",
       "    }\n",
       "</style>\n",
       "<table border=\"1\" class=\"dataframe\">\n",
       "  <thead>\n",
       "    <tr style=\"text-align: right;\">\n",
       "      <th></th>\n",
       "      <th>mse</th>\n",
       "      <th>timesteps</th>\n",
       "    </tr>\n",
       "  </thead>\n",
       "  <tbody>\n",
       "    <tr>\n",
       "      <th>0</th>\n",
       "      <td>None</td>\n",
       "      <td>0</td>\n",
       "    </tr>\n",
       "    <tr>\n",
       "      <th>1</th>\n",
       "      <td>125.27880169926145</td>\n",
       "      <td>1</td>\n",
       "    </tr>\n",
       "    <tr>\n",
       "      <th>2</th>\n",
       "      <td>145.2454252603254</td>\n",
       "      <td>2</td>\n",
       "    </tr>\n",
       "    <tr>\n",
       "      <th>3</th>\n",
       "      <td>145.91164021256952</td>\n",
       "      <td>3</td>\n",
       "    </tr>\n",
       "    <tr>\n",
       "      <th>4</th>\n",
       "      <td>144.23598268282674</td>\n",
       "      <td>4</td>\n",
       "    </tr>\n",
       "    <tr>\n",
       "      <th>5</th>\n",
       "      <td>142.4449828561411</td>\n",
       "      <td>5</td>\n",
       "    </tr>\n",
       "  </tbody>\n",
       "</table>\n",
       "</div>"
      ],
      "text/plain": [
       "                  mse  timesteps\n",
       "0                None          0\n",
       "1  125.27880169926145          1\n",
       "2   145.2454252603254          2\n",
       "3  145.91164021256952          3\n",
       "4  144.23598268282674          4\n",
       "5   142.4449828561411          5"
      ]
     },
     "execution_count": 3,
     "metadata": {},
     "output_type": "execute_result"
    }
   ],
   "source": [
    "# Collect measurements about the simulation\n",
    "results = default_filtering.get_measurements()\n",
    "\n",
    "print(\"Results of the simulation:\")\n",
    "pd.DataFrame(results)"
   ]
  },
  {
   "cell_type": "markdown",
   "metadata": {},
   "source": [
    "In what follows, we expand on this minimal example to gain a deeper understanding of what happens under the hood."
   ]
  },
  {
   "cell_type": "markdown",
   "metadata": {},
   "source": [
    "## Models\n",
    "\n",
    "As in the ``Quick Start``, if you want to run a simulation, the smallest piece of information you need is the model you want to run. There are a number of pre-loaded models that work out of the box. We continue to use a generic content filtering recommendation system; please see the docs for a [list of pre-loaded models](https://elucherini.github.io/algo-segregation/reference/models.html).\n",
    "\n",
    "Recall that content filters infer information about the _attributes_ of users based on their past interactions and recommend items with similar attributes to those of users."
   ]
  },
  {
   "cell_type": "code",
   "execution_count": 4,
   "metadata": {},
   "outputs": [],
   "source": [
    "# Again, we instantiate the model with no arguments\n",
    "default_filtering = ContentFiltering()"
   ]
  },
  {
   "cell_type": "markdown",
   "metadata": {},
   "source": [
    "In the cell above, we instantiated a content filtering recommender system with default parameters. We print below the default number of users and items in the system."
   ]
  },
  {
   "cell_type": "code",
   "execution_count": 5,
   "metadata": {},
   "outputs": [
    {
     "name": "stdout",
     "output_type": "stream",
     "text": [
      "Number of users in system: 100\n",
      "Number of items in system: 1250\n"
     ]
    }
   ],
   "source": [
    "print(\"Number of users in system: %d\" % default_filtering.num_users)\n",
    "print(\"Number of items in system: %d\" % default_filtering.num_items)"
   ]
  },
  {
   "cell_type": "markdown",
   "metadata": {},
   "source": [
    "The model also created a representation for both users and items."
   ]
  },
  {
   "cell_type": "code",
   "execution_count": 6,
   "metadata": {},
   "outputs": [
    {
     "name": "stdout",
     "output_type": "stream",
     "text": [
      "In content filtering, the default parameters are given by:\n",
      "- An all-zeros matrix of users of size (100, 1000).\n",
      "- A randomly generated matrix of items of size (1000, 1250).\n"
     ]
    }
   ],
   "source": [
    "print(\"In content filtering, the default parameters are given by:\")\n",
    "print(\"- An all-zeros matrix of users of size %s.\" % str(default_filtering.users_hat.shape))\n",
    "print(\"- A randomly generated matrix of items of size %s.\" % str(default_filtering.items_hat.shape))"
   ]
  },
  {
   "cell_type": "markdown",
   "metadata": {},
   "source": [
    "Formally, content filtering supports user profiles of size `|num_users x num_attributes|` and item attributes of size `|num_attributes x num_items|`."
   ]
  },
  {
   "cell_type": "markdown",
   "metadata": {},
   "source": [
    "### Set number of users or items\n",
    "We can customize the number of users in the system:"
   ]
  },
  {
   "cell_type": "code",
   "execution_count": 7,
   "metadata": {},
   "outputs": [
    {
     "name": "stdout",
     "output_type": "stream",
     "text": [
      "The number of users in the system is now 500.\n",
      "The number of items in the system is still 1250.\n"
     ]
    }
   ],
   "source": [
    "# instantiate content filter with a different number of users\n",
    "number_of_users = 500\n",
    "filtering = ContentFiltering(num_users=number_of_users)\n",
    "print(\"The number of users in the system is now %d.\" % filtering.num_users)\n",
    "print(\"The number of items in the system is still %d.\" % filtering.num_items)"
   ]
  },
  {
   "cell_type": "markdown",
   "metadata": {},
   "source": [
    "Or the number of items:"
   ]
  },
  {
   "cell_type": "code",
   "execution_count": 8,
   "metadata": {},
   "outputs": [
    {
     "name": "stdout",
     "output_type": "stream",
     "text": [
      "The number of items in the system is now 5000.\n",
      "The number of users in the system is back to 100.\n"
     ]
    }
   ],
   "source": [
    "# instantiate with a different number of items\n",
    "number_of_items = 5000\n",
    "filtering = ContentFiltering(num_items = number_of_items)\n",
    "print(\"The number of items in the system is now %d.\" % filtering.num_items)\n",
    "print(\"The number of users in the system is back to %d.\" % filtering.num_users)"
   ]
  },
  {
   "cell_type": "markdown",
   "metadata": {},
   "source": [
    "Or both:"
   ]
  },
  {
   "cell_type": "code",
   "execution_count": 9,
   "metadata": {},
   "outputs": [
    {
     "name": "stdout",
     "output_type": "stream",
     "text": [
      "The number of items in the system is now 5000.\n",
      "The number of users in the system is now 500.\n"
     ]
    }
   ],
   "source": [
    "# instantiate with a different number of items and users\n",
    "number_of_items = 5000\n",
    "number_of_users = 500\n",
    "filtering = ContentFiltering(num_items = number_of_items, num_users=number_of_users)\n",
    "print(\"The number of items in the system is now %d.\" % filtering.num_items)\n",
    "print(\"The number of users in the system is now %d.\" % filtering.num_users)"
   ]
  },
  {
   "cell_type": "markdown",
   "metadata": {},
   "source": [
    "Note that the representations of items and users are set accordingly:"
   ]
  },
  {
   "cell_type": "code",
   "execution_count": 10,
   "metadata": {},
   "outputs": [
    {
     "name": "stdout",
     "output_type": "stream",
     "text": [
      "The size of item_attributes is (1000, 5000).\n",
      "The size of user_profiles is (500, 1000).\n"
     ]
    }
   ],
   "source": [
    "print(\"The size of item_attributes is %s.\" % str(filtering.items_hat.shape))\n",
    "print(\"The size of user_profiles is %s.\" % str(filtering.users_hat.shape))"
   ]
  },
  {
   "cell_type": "markdown",
   "metadata": {},
   "source": [
    "## User predictions and Items\n",
    "We might also want to define our own representation of users and items. We can do so by defining matrices that satisfy the constraints of the model. The constraints for ContentFiltering (some of which have been mentioned above) are:\n",
    "\n",
    "- User profiles must be of size `|num_users x num_attributes|`.\n",
    "- User profiles are matrices of integers representing the number of interactions of each user with items that have a given attributes. `user_profiles[i, j]` represents the number of interactions user `i` had with items with attribute `j`.\n",
    "- Item attributes must be of size `|num_attributes x num_items|`.\n",
    "- The model doesn't define any constraint on item attributes. If `item_attributes` is binary, then its `[i, j]`th element is 1 if item `j` is attributed attribute `i`; otherwise, it's 0. Item attributes can also be real-valued, representing the probability that each attribute has to describe items.\n",
    "\n",
    "If you're already familiar with Numpy: the model is compatible with `ndarray` and _array_like_ data structures. \n",
    "\n",
    "If you're not familiar with Numpy: the framework provides a random number generator that lets you draw from several distributions (which, in practice, is a thin wrapper around `numpy.random.Generator`). Please refer to the Numpy documentation for a [list of distributions](https://numpy.org/doc/stable/reference/random/generator.html?highlight=generator#distributions)."
   ]
  },
  {
   "cell_type": "code",
   "execution_count": 11,
   "metadata": {},
   "outputs": [
    {
     "name": "stdout",
     "output_type": "stream",
     "text": [
      "User representation (num_users x num_attributes):\n",
      "[[3 2 1 2 2 0 2 3 0 1]\n",
      " [1 0 0 2 3 0 2 2 3 0]\n",
      " [2 2 1 2 0 1 1 2 3 1]\n",
      " [2 3 0 2 3 0 2 2 1 2]\n",
      " [3 3 1 1 2 0 0 3 1 2]]\n",
      "\n",
      "Item representation (num_attributes x num_items):\n",
      "[[0 0 1 1 0 1 1 1 0 0 0 0 1 0 0]\n",
      " [0 1 0 0 0 0 1 0 0 0 0 0 1 0 1]\n",
      " [0 0 0 1 1 0 1 1 0 0 0 0 1 0 1]\n",
      " [0 0 0 0 0 1 0 1 0 0 0 1 0 1 0]\n",
      " [1 1 0 0 0 0 0 0 0 0 0 0 1 0 1]\n",
      " [0 0 1 0 1 0 0 1 0 1 1 0 1 1 0]\n",
      " [0 0 0 0 0 0 0 0 1 0 1 0 0 1 0]\n",
      " [1 1 0 1 1 1 1 0 0 0 0 0 1 0 0]\n",
      " [0 0 1 0 0 0 0 1 0 0 0 1 1 0 0]\n",
      " [0 0 0 0 1 0 0 0 0 1 1 0 1 0 0]]\n"
     ]
    }
   ],
   "source": [
    "# Keep the dimensions small for easy visualization\n",
    "number_of_users = 5\n",
    "number_of_attributes = 10\n",
    "number_of_items = 15\n",
    "# We define user_representation using the standard integer generator in Numpy.\n",
    "# We assume a number of interactions with each attribute in the interval [0,4).\n",
    "user_representation = np.random.randint(4, size=(number_of_users, number_of_attributes))\n",
    "\n",
    "# We define item_representation using the Generator that comes with the framework\n",
    "# We assume a binary matrix with a binomial distribution\n",
    "\n",
    "item_representation = Generator().binomial(n=1, p=.3,\n",
    "                                           size=(number_of_attributes, number_of_items))\n",
    "# Note that this is equivalent to:\n",
    "# item_representation = np.random.Generator(np.random.MT19937()).binomial(n=1, p=.5, size=(...))\n",
    "\n",
    "print(\"User representation (num_users x num_attributes):\\n%s\\n\" % (str(user_representation)))\n",
    "print(\"Item representation (num_attributes x num_items):\\n%s\" % (str(item_representation)))"
   ]
  },
  {
   "cell_type": "code",
   "execution_count": 12,
   "metadata": {},
   "outputs": [
    {
     "name": "stdout",
     "output_type": "stream",
     "text": [
      "Is user_profiles equivalent to user_representation? yes.\n",
      "Is item_attributes equivalent to item_representation? yes.\n"
     ]
    }
   ],
   "source": [
    "# Initialize with custom representations\n",
    "filtering = ContentFiltering(user_representation=user_representation,\n",
    "                            item_representation=item_representation)\n",
    "\n",
    "# Check if they're equivalent\n",
    "is_user_equivalent = \"yes\" if np.array_equal(user_representation, filtering.users_hat) else \"no\"\n",
    "is_item_equivalent = \"yes\" if np.array_equal(item_representation, filtering.items_hat) else \"no\"\n",
    "print(\"Is user_profiles equivalent to user_representation? %s.\" % is_user_equivalent)\n",
    "print(\"Is item_attributes equivalent to item_representation? %s.\" % is_item_equivalent)"
   ]
  },
  {
   "cell_type": "markdown",
   "metadata": {},
   "source": [
    "You can also initialize models with `user_representation` and `item_representation` individually. In this case, the representation that has not been initialized will adapt to the size defined by the user."
   ]
  },
  {
   "cell_type": "code",
   "execution_count": 13,
   "metadata": {},
   "outputs": [
    {
     "name": "stdout",
     "output_type": "stream",
     "text": [
      "After initializing user_profiles, the size of item_attributes (and so the number of attributes in the system) adapts automatically to it.\n",
      "Size of user_profiles, as defined above: (5, 10).\n",
      "Size of item_attributes: (10, 1250).\n",
      "\n",
      "After initializing item_attributes, the size of user_profiles (and so the number of attributes in the system) adapts automatically to it.\n",
      "Size of item_attributes, as defined above: (10, 15).\n",
      "Size of user_profiles: (100, 10).\n"
     ]
    }
   ],
   "source": [
    "# Let's only initialize user_profiles\n",
    "filtering = ContentFiltering(user_representation=user_representation)\n",
    "print(\"After initializing user_profiles, the size of item_attributes (and so the number of attributes in the system) adapts automatically to it.\")\n",
    "print(\"Size of user_profiles, as defined above: %s.\" % str(filtering.users_hat.shape))\n",
    "print(\"Size of item_attributes: %s.\\n\" % str(filtering.items_hat.shape))\n",
    "\n",
    "# The same happens by only initializing item_attributes\n",
    "filtering = ContentFiltering(item_representation=item_representation)\n",
    "print(\"After initializing item_attributes, the size of user_profiles (and so the number of attributes in the system) adapts automatically to it.\")\n",
    "print(\"Size of item_attributes, as defined above: %s.\" % str(filtering.items_hat.shape))\n",
    "print(\"Size of user_profiles: %s.\" % str(filtering.users_hat.shape))"
   ]
  },
  {
   "cell_type": "markdown",
   "metadata": {},
   "source": [
    "## Run a simulation\n",
    "We can run a simulation for the predefined number of time steps (50), or define our own duration."
   ]
  },
  {
   "cell_type": "code",
   "execution_count": 14,
   "metadata": {},
   "outputs": [
    {
     "name": "stderr",
     "output_type": "stream",
     "text": [
      "100%|██████████| 50/50 [00:00<00:00, 4627.02it/s]\n"
     ]
    }
   ],
   "source": [
    "# let's initialize a model with both user_representation and item_representation defined above\n",
    "filtering = ContentFiltering(user_representation=user_representation,\n",
    "                            item_representation=item_representation)\n",
    "# Run the model for the predefined number of timesteps:\n",
    "filtering.run()"
   ]
  },
  {
   "cell_type": "markdown",
   "metadata": {},
   "source": [
    "At the end of the simulation, we can examine the results of the measurements. For example:"
   ]
  },
  {
   "cell_type": "code",
   "execution_count": 15,
   "metadata": {},
   "outputs": [
    {
     "data": {
      "text/html": [
       "<div>\n",
       "<style scoped>\n",
       "    .dataframe tbody tr th:only-of-type {\n",
       "        vertical-align: middle;\n",
       "    }\n",
       "\n",
       "    .dataframe tbody tr th {\n",
       "        vertical-align: top;\n",
       "    }\n",
       "\n",
       "    .dataframe thead th {\n",
       "        text-align: right;\n",
       "    }\n",
       "</style>\n",
       "<table border=\"1\" class=\"dataframe\">\n",
       "  <thead>\n",
       "    <tr style=\"text-align: right;\">\n",
       "      <th></th>\n",
       "      <th>mse</th>\n",
       "      <th>timesteps</th>\n",
       "    </tr>\n",
       "  </thead>\n",
       "  <tbody>\n",
       "    <tr>\n",
       "      <th>0</th>\n",
       "      <td>None</td>\n",
       "      <td>0</td>\n",
       "    </tr>\n",
       "    <tr>\n",
       "      <th>1</th>\n",
       "      <td>1.489124881671561</td>\n",
       "      <td>1</td>\n",
       "    </tr>\n",
       "    <tr>\n",
       "      <th>2</th>\n",
       "      <td>1.4245632180580134</td>\n",
       "      <td>2</td>\n",
       "    </tr>\n",
       "    <tr>\n",
       "      <th>3</th>\n",
       "      <td>1.3593368252172275</td>\n",
       "      <td>3</td>\n",
       "    </tr>\n",
       "    <tr>\n",
       "      <th>4</th>\n",
       "      <td>1.3018379280103436</td>\n",
       "      <td>4</td>\n",
       "    </tr>\n",
       "  </tbody>\n",
       "</table>\n",
       "</div>"
      ],
      "text/plain": [
       "                  mse  timesteps\n",
       "0                None          0\n",
       "1   1.489124881671561          1\n",
       "2  1.4245632180580134          2\n",
       "3  1.3593368252172275          3\n",
       "4  1.3018379280103436          4"
      ]
     },
     "execution_count": 15,
     "metadata": {},
     "output_type": "execute_result"
    }
   ],
   "source": [
    "# To get the measurements of all timesteps<=50\n",
    "measurements = filtering.get_measurements()\n",
    "\n",
    "# Measurements can be easily converted to pandas DataFrame objects\n",
    "\n",
    "pd.DataFrame(measurements).head()"
   ]
  },
  {
   "cell_type": "markdown",
   "metadata": {},
   "source": [
    "## Measurements\n",
    "At each time step of the simulation, measurement modules calculate a quantity based on the system state. An example of such quantity is the mean squared error between the predicted user profiles and the actual user profiles -- that is, how close is the model to predicting the real preferences of the system?\n",
    "\n",
    "It's easy to define new metrics, but in this guide we will use some of the pre-loaded metrics to get a better sense of how they work. For a list of pre-loaded metrics and their descriptions, see the [docs](https://elucherini.github.io/algo-segregation/reference/metrics.html).\n",
    "\n",
    "### View metrics\n",
    "\n",
    "First, we note that the content filtering recommender system, with its default settings, only tracks one metric: the [mean squared error for user profiles](https://elucherini.github.io/algo-segregation/reference/metrics.html#mse-measurement). The metrics monitored are stored in the [metrics](https://elucherini.github.io/algo-segregation/reference/models.html#models.recommender.MeasurementModule) attribute of the model."
   ]
  },
  {
   "cell_type": "code",
   "execution_count": 16,
   "metadata": {},
   "outputs": [
    {
     "name": "stdout",
     "output_type": "stream",
     "text": [
      "The system is currently monitoring these metrics:\n",
      "[<trecs.metrics.measurement.MSEMeasurement object at 0x7fca68e81950>]\n"
     ]
    }
   ],
   "source": [
    "# The metrics tracked by each model can be examined by printing the `metrics` list.\n",
    "print(\"The system is currently monitoring these metrics:\")\n",
    "print(filtering.metrics)"
   ]
  },
  {
   "cell_type": "markdown",
   "metadata": {},
   "source": [
    "### Add metrics\n",
    "To **maintain compatibility with pandas**, we suggest to **only add metrics to instances of models that have not been run yet**. This is to avoid having measurements that start at different time steps, resulting in arrays of different length. Feel free to disregard this advice if pandas compatibility is not important to your application.\n",
    "\n",
    "We can instantiate a model, add a new metric, and then run the model.\n",
    "\n",
    "We will add [HomogeneityMeasurement](https://elucherini.github.io/algo-segregation/reference/metrics.html#homogeneity-measurement), which provides a measure of the homogeneity of user interactions in the system as a whole.\n",
    "\n"
   ]
  },
  {
   "cell_type": "code",
   "execution_count": 28,
   "metadata": {},
   "outputs": [
    {
     "name": "stdout",
     "output_type": "stream",
     "text": [
      "These are the current metrics:\n",
      "[<trecs.metrics.measurement.MSEMeasurement object at 0x7fca474301d0>, <trecs.metrics.measurement.HomogeneityMeasurement object at 0x7fca68e9be90>]\n"
     ]
    }
   ],
   "source": [
    "#change the number of items and users to make metric values more reasonable and dimensions distinguishable\n",
    "number_of_items=100\n",
    "number_of_users=50\n",
    "number_of_attributes=20\n",
    "\n",
    "item_representation = Generator().normal(size=(number_of_attributes, number_of_items))\n",
    "filtering = ContentFiltering(num_users=number_of_users, num_items=number_of_items, \n",
    "                             num_attributes=number_of_attributes,\n",
    "                             item_representation=item_representation)\n",
    "\n",
    "# This method accepts a variable number of metrics\n",
    "filtering.add_metrics(HomogeneityMeasurement())\n",
    "\n",
    "print(\"These are the current metrics:\")\n",
    "print(filtering.metrics)"
   ]
  },
  {
   "cell_type": "markdown",
   "metadata": {},
   "source": [
    "We will also add [JaccardSimilarity](https://elucherini.github.io/algo-segregation/reference/metrics.html#jaccard-similarity-TODO-add-this), which measures the similarity between interaction patterns for pairs of users. In order to measure Jaccard similarity, we must specify which pairs of users we want to compare."
   ]
  },
  {
   "cell_type": "code",
   "execution_count": 29,
   "metadata": {},
   "outputs": [
    {
     "name": "stdout",
     "output_type": "stream",
     "text": [
      "These are the current metrics:\n",
      "[<trecs.metrics.measurement.MSEMeasurement object at 0x7fca474301d0>, <trecs.metrics.measurement.HomogeneityMeasurement object at 0x7fca68e9be90>, <trecs.metrics.measurement.JaccardSimilarity object at 0x7fca47325c90>]\n"
     ]
    }
   ],
   "source": [
    "js_pairs = [(u1_idx, u2_idx) for u1_idx in range(filtering.num_users) for u2_idx in range(filtering.num_users) if u1_idx != u2_idx] \n",
    "filtering.add_metrics(JaccardSimilarity(pairs=js_pairs))\n",
    "\n",
    "print(\"These are the current metrics:\")\n",
    "print(filtering.metrics)"
   ]
  },
  {
   "cell_type": "code",
   "execution_count": 31,
   "metadata": {},
   "outputs": [],
   "source": [
    "filtering.add_metrics(AverageFeatureScoreRange())"
   ]
  },
  {
   "cell_type": "code",
   "execution_count": 32,
   "metadata": {},
   "outputs": [
    {
     "name": "stderr",
     "output_type": "stream",
     "text": [
      "100%|██████████| 5/5 [00:00<00:00, 55.06it/s]"
     ]
    },
    {
     "name": "stdout",
     "output_type": "stream",
     "text": [
      "printing kwargs\n",
      "{'step': 0, 'interactions': array([32, 26, 29, 29, 27, 36, 33, 28, 27, 32, 27, 26, 26, 29, 29, 99, 99,\n",
      "       99, 30, 28, 26, 26, 32, 29, 30, 26, 36, 28, 36, 36, 30, 26, 36, 27,\n",
      "       36, 99, 32, 33, 28, 36, 99, 26, 29, 29, 33, 99, 27, 28, 32, 28]), 'items_shown': array([[28, 30, 27, 32, 31, 36, 33, 29, 99, 26],\n",
      "       [28, 30, 27, 32, 31, 36, 33, 29, 99, 26],\n",
      "       [28, 30, 27, 32, 31, 36, 33, 29, 99, 26],\n",
      "       [28, 30, 27, 32, 31, 36, 33, 29, 99, 26],\n",
      "       [28, 30, 27, 32, 31, 36, 33, 29, 99, 26],\n",
      "       [28, 30, 27, 32, 31, 36, 33, 29, 99, 26],\n",
      "       [28, 30, 27, 32, 31, 36, 33, 29, 99, 26],\n",
      "       [28, 30, 27, 32, 31, 36, 33, 29, 99, 26],\n",
      "       [28, 30, 27, 32, 31, 36, 33, 29, 99, 26],\n",
      "       [28, 30, 27, 32, 31, 36, 33, 29, 99, 26],\n",
      "       [28, 30, 27, 32, 31, 36, 33, 29, 99, 26],\n",
      "       [28, 30, 27, 32, 31, 36, 33, 29, 99, 26],\n",
      "       [28, 30, 27, 32, 31, 36, 33, 29, 99, 26],\n",
      "       [28, 30, 27, 32, 31, 36, 33, 29, 99, 26],\n",
      "       [28, 30, 27, 32, 31, 36, 33, 29, 99, 26],\n",
      "       [28, 30, 27, 32, 31, 36, 33, 29, 99, 26],\n",
      "       [28, 30, 27, 32, 31, 36, 33, 29, 99, 26],\n",
      "       [28, 30, 27, 32, 31, 36, 33, 29, 99, 26],\n",
      "       [28, 30, 27, 32, 31, 36, 33, 29, 99, 26],\n",
      "       [28, 30, 27, 32, 31, 36, 33, 29, 99, 26],\n",
      "       [28, 30, 27, 32, 31, 36, 33, 29, 99, 26],\n",
      "       [28, 30, 27, 32, 31, 36, 33, 29, 99, 26],\n",
      "       [28, 30, 27, 32, 31, 36, 33, 29, 99, 26],\n",
      "       [28, 30, 27, 32, 31, 36, 33, 29, 99, 26],\n",
      "       [28, 30, 27, 32, 31, 36, 33, 29, 99, 26],\n",
      "       [28, 30, 27, 32, 31, 36, 33, 29, 99, 26],\n",
      "       [28, 30, 27, 32, 31, 36, 33, 29, 99, 26],\n",
      "       [28, 30, 27, 32, 31, 36, 33, 29, 99, 26],\n",
      "       [28, 30, 27, 32, 31, 36, 33, 29, 99, 26],\n",
      "       [28, 30, 27, 32, 31, 36, 33, 29, 99, 26],\n",
      "       [28, 30, 27, 32, 31, 36, 33, 29, 99, 26],\n",
      "       [28, 30, 27, 32, 31, 36, 33, 29, 99, 26],\n",
      "       [28, 30, 27, 32, 31, 36, 33, 29, 99, 26],\n",
      "       [28, 30, 27, 32, 31, 36, 33, 29, 99, 26],\n",
      "       [28, 30, 27, 32, 31, 36, 33, 29, 99, 26],\n",
      "       [28, 30, 27, 32, 31, 36, 33, 29, 99, 26],\n",
      "       [28, 30, 27, 32, 31, 36, 33, 29, 99, 26],\n",
      "       [28, 30, 27, 32, 31, 36, 33, 29, 99, 26],\n",
      "       [28, 30, 27, 32, 31, 36, 33, 29, 99, 26],\n",
      "       [28, 30, 27, 32, 31, 36, 33, 29, 99, 26],\n",
      "       [28, 30, 27, 32, 31, 36, 33, 29, 99, 26],\n",
      "       [28, 30, 27, 32, 31, 36, 33, 29, 99, 26],\n",
      "       [28, 30, 27, 32, 31, 36, 33, 29, 99, 26],\n",
      "       [28, 30, 27, 32, 31, 36, 33, 29, 99, 26],\n",
      "       [28, 30, 27, 32, 31, 36, 33, 29, 99, 26],\n",
      "       [28, 30, 27, 32, 31, 36, 33, 29, 99, 26],\n",
      "       [28, 30, 27, 32, 31, 36, 33, 29, 99, 26],\n",
      "       [28, 30, 27, 32, 31, 36, 33, 29, 99, 26],\n",
      "       [28, 30, 27, 32, 31, 36, 33, 29, 99, 26],\n",
      "       [28, 30, 27, 32, 31, 36, 33, 29, 99, 26]])}\n",
      "printing items shown\n",
      "[[28 30 27 32 31 36 33 29 99 26]\n",
      " [28 30 27 32 31 36 33 29 99 26]\n",
      " [28 30 27 32 31 36 33 29 99 26]\n",
      " [28 30 27 32 31 36 33 29 99 26]\n",
      " [28 30 27 32 31 36 33 29 99 26]\n",
      " [28 30 27 32 31 36 33 29 99 26]\n",
      " [28 30 27 32 31 36 33 29 99 26]\n",
      " [28 30 27 32 31 36 33 29 99 26]\n",
      " [28 30 27 32 31 36 33 29 99 26]\n",
      " [28 30 27 32 31 36 33 29 99 26]\n",
      " [28 30 27 32 31 36 33 29 99 26]\n",
      " [28 30 27 32 31 36 33 29 99 26]\n",
      " [28 30 27 32 31 36 33 29 99 26]\n",
      " [28 30 27 32 31 36 33 29 99 26]\n",
      " [28 30 27 32 31 36 33 29 99 26]\n",
      " [28 30 27 32 31 36 33 29 99 26]\n",
      " [28 30 27 32 31 36 33 29 99 26]\n",
      " [28 30 27 32 31 36 33 29 99 26]\n",
      " [28 30 27 32 31 36 33 29 99 26]\n",
      " [28 30 27 32 31 36 33 29 99 26]\n",
      " [28 30 27 32 31 36 33 29 99 26]\n",
      " [28 30 27 32 31 36 33 29 99 26]\n",
      " [28 30 27 32 31 36 33 29 99 26]\n",
      " [28 30 27 32 31 36 33 29 99 26]\n",
      " [28 30 27 32 31 36 33 29 99 26]\n",
      " [28 30 27 32 31 36 33 29 99 26]\n",
      " [28 30 27 32 31 36 33 29 99 26]\n",
      " [28 30 27 32 31 36 33 29 99 26]\n",
      " [28 30 27 32 31 36 33 29 99 26]\n",
      " [28 30 27 32 31 36 33 29 99 26]\n",
      " [28 30 27 32 31 36 33 29 99 26]\n",
      " [28 30 27 32 31 36 33 29 99 26]\n",
      " [28 30 27 32 31 36 33 29 99 26]\n",
      " [28 30 27 32 31 36 33 29 99 26]\n",
      " [28 30 27 32 31 36 33 29 99 26]\n",
      " [28 30 27 32 31 36 33 29 99 26]\n",
      " [28 30 27 32 31 36 33 29 99 26]\n",
      " [28 30 27 32 31 36 33 29 99 26]\n",
      " [28 30 27 32 31 36 33 29 99 26]\n",
      " [28 30 27 32 31 36 33 29 99 26]\n",
      " [28 30 27 32 31 36 33 29 99 26]\n",
      " [28 30 27 32 31 36 33 29 99 26]\n",
      " [28 30 27 32 31 36 33 29 99 26]\n",
      " [28 30 27 32 31 36 33 29 99 26]\n",
      " [28 30 27 32 31 36 33 29 99 26]\n",
      " [28 30 27 32 31 36 33 29 99 26]\n",
      " [28 30 27 32 31 36 33 29 99 26]\n",
      " [28 30 27 32 31 36 33 29 99 26]\n",
      " [28 30 27 32 31 36 33 29 99 26]\n",
      " [28 30 27 32 31 36 33 29 99 26]]\n",
      "printing kwargs\n",
      "{'step': 1, 'interactions': array([47, 80, 17, 17, 71, 36, 85, 28, 27, 32,  2, 26, 73, 91, 17, 70, 34,\n",
      "       34, 96, 52, 56, 73, 74, 55, 66, 80, 13, 60, 80, 93, 66, 26, 36, 80,\n",
      "       36, 99, 92, 61, 52, 53, 70, 73, 17, 29, 33, 99, 27, 86, 96, 28]), 'items_shown': array([[45, 96, 47,  0, 32, 29, 33,  3, 74, 92],\n",
      "       [53, 56, 67, 64, 26, 11, 80, 84, 60, 73],\n",
      "       [77, 54, 91, 24, 29, 17, 74, 55, 32, 47],\n",
      "       [77, 54, 91, 24, 29, 17, 74, 55, 32, 47],\n",
      "       [ 2, 80, 12, 10, 27,  8, 71, 41, 24, 60],\n",
      "       [13, 63, 61, 80, 36, 93, 34, 53, 97, 43],\n",
      "       [11,  0, 85, 32, 33, 20, 19, 61, 92, 70],\n",
      "       [49, 14, 52, 60, 28, 88, 94, 11, 43, 86],\n",
      "       [ 2, 80, 12, 10, 27,  8, 71, 41, 24, 60],\n",
      "       [45, 96, 47,  0, 32, 29, 33,  3, 74, 92],\n",
      "       [ 2, 80, 12, 10, 27,  8, 71, 41, 24, 60],\n",
      "       [53, 56, 67, 64, 26, 11, 80, 84, 60, 73],\n",
      "       [53, 56, 67, 64, 26, 11, 80, 84, 60, 73],\n",
      "       [77, 54, 91, 24, 29, 17, 74, 55, 32, 47],\n",
      "       [77, 54, 91, 24, 29, 17, 74, 55, 32, 47],\n",
      "       [34,  6, 36,  7, 99, 68, 70, 43, 90, 14],\n",
      "       [34,  6, 36,  7, 99, 68, 70, 43, 90, 14],\n",
      "       [34,  6, 36,  7, 99, 68, 70, 43, 90, 14],\n",
      "       [10, 25, 64, 96, 30, 66, 69, 82, 84, 95],\n",
      "       [49, 14, 52, 60, 28, 88, 94, 11, 43, 86],\n",
      "       [53, 56, 67, 64, 26, 11, 80, 84, 60, 73],\n",
      "       [53, 56, 67, 64, 26, 11, 80, 84, 60, 73],\n",
      "       [45, 96, 47,  0, 32, 29, 33,  3, 74, 92],\n",
      "       [77, 54, 91, 24, 29, 17, 74, 55, 32, 47],\n",
      "       [10, 25, 64, 96, 30, 66, 69, 82, 84, 95],\n",
      "       [53, 56, 67, 64, 26, 11, 80, 84, 60, 73],\n",
      "       [13, 63, 61, 80, 36, 93, 34, 53, 97, 43],\n",
      "       [49, 14, 52, 60, 28, 88, 94, 11, 43, 86],\n",
      "       [13, 63, 61, 80, 36, 93, 34, 53, 97, 43],\n",
      "       [13, 63, 61, 80, 36, 93, 34, 53, 97, 43],\n",
      "       [10, 25, 64, 96, 30, 66, 69, 82, 84, 95],\n",
      "       [53, 56, 67, 64, 26, 11, 80, 84, 60, 73],\n",
      "       [13, 63, 61, 80, 36, 93, 34, 53, 97, 43],\n",
      "       [ 2, 80, 12, 10, 27,  8, 71, 41, 24, 60],\n",
      "       [13, 63, 61, 80, 36, 93, 34, 53, 97, 43],\n",
      "       [34,  6, 36,  7, 99, 68, 70, 43, 90, 14],\n",
      "       [45, 96, 47,  0, 32, 29, 33,  3, 74, 92],\n",
      "       [11,  0, 85, 32, 33, 20, 19, 61, 92, 70],\n",
      "       [49, 14, 52, 60, 28, 88, 94, 11, 43, 86],\n",
      "       [13, 63, 61, 80, 36, 93, 34, 53, 97, 43],\n",
      "       [34,  6, 36,  7, 99, 68, 70, 43, 90, 14],\n",
      "       [53, 56, 67, 64, 26, 11, 80, 84, 60, 73],\n",
      "       [77, 54, 91, 24, 29, 17, 74, 55, 32, 47],\n",
      "       [77, 54, 91, 24, 29, 17, 74, 55, 32, 47],\n",
      "       [11,  0, 85, 32, 33, 20, 19, 61, 92, 70],\n",
      "       [34,  6, 36,  7, 99, 68, 70, 43, 90, 14],\n",
      "       [ 2, 80, 12, 10, 27,  8, 71, 41, 24, 60],\n",
      "       [49, 14, 52, 60, 28, 88, 94, 11, 43, 86],\n",
      "       [45, 96, 47,  0, 32, 29, 33,  3, 74, 92],\n",
      "       [49, 14, 52, 60, 28, 88, 94, 11, 43, 86]])}\n",
      "printing items shown\n",
      "[[45 96 47  0 32 29 33  3 74 92]\n",
      " [53 56 67 64 26 11 80 84 60 73]\n",
      " [77 54 91 24 29 17 74 55 32 47]\n",
      " [77 54 91 24 29 17 74 55 32 47]\n",
      " [ 2 80 12 10 27  8 71 41 24 60]\n",
      " [13 63 61 80 36 93 34 53 97 43]\n",
      " [11  0 85 32 33 20 19 61 92 70]\n",
      " [49 14 52 60 28 88 94 11 43 86]\n",
      " [ 2 80 12 10 27  8 71 41 24 60]\n",
      " [45 96 47  0 32 29 33  3 74 92]\n",
      " [ 2 80 12 10 27  8 71 41 24 60]\n",
      " [53 56 67 64 26 11 80 84 60 73]\n",
      " [53 56 67 64 26 11 80 84 60 73]\n",
      " [77 54 91 24 29 17 74 55 32 47]\n",
      " [77 54 91 24 29 17 74 55 32 47]\n",
      " [34  6 36  7 99 68 70 43 90 14]\n",
      " [34  6 36  7 99 68 70 43 90 14]\n",
      " [34  6 36  7 99 68 70 43 90 14]\n",
      " [10 25 64 96 30 66 69 82 84 95]\n",
      " [49 14 52 60 28 88 94 11 43 86]\n",
      " [53 56 67 64 26 11 80 84 60 73]\n",
      " [53 56 67 64 26 11 80 84 60 73]\n",
      " [45 96 47  0 32 29 33  3 74 92]\n",
      " [77 54 91 24 29 17 74 55 32 47]\n",
      " [10 25 64 96 30 66 69 82 84 95]\n",
      " [53 56 67 64 26 11 80 84 60 73]\n",
      " [13 63 61 80 36 93 34 53 97 43]\n",
      " [49 14 52 60 28 88 94 11 43 86]\n",
      " [13 63 61 80 36 93 34 53 97 43]\n",
      " [13 63 61 80 36 93 34 53 97 43]\n",
      " [10 25 64 96 30 66 69 82 84 95]\n",
      " [53 56 67 64 26 11 80 84 60 73]\n",
      " [13 63 61 80 36 93 34 53 97 43]\n",
      " [ 2 80 12 10 27  8 71 41 24 60]\n",
      " [13 63 61 80 36 93 34 53 97 43]\n",
      " [34  6 36  7 99 68 70 43 90 14]\n",
      " [45 96 47  0 32 29 33  3 74 92]\n",
      " [11  0 85 32 33 20 19 61 92 70]\n",
      " [49 14 52 60 28 88 94 11 43 86]\n",
      " [13 63 61 80 36 93 34 53 97 43]\n",
      " [34  6 36  7 99 68 70 43 90 14]\n",
      " [53 56 67 64 26 11 80 84 60 73]\n",
      " [77 54 91 24 29 17 74 55 32 47]\n",
      " [77 54 91 24 29 17 74 55 32 47]\n",
      " [11  0 85 32 33 20 19 61 92 70]\n",
      " [34  6 36  7 99 68 70 43 90 14]\n",
      " [ 2 80 12 10 27  8 71 41 24 60]\n",
      " [49 14 52 60 28 88 94 11 43 86]\n",
      " [45 96 47  0 32 29 33  3 74 92]\n",
      " [49 14 52 60 28 88 94 11 43 86]]\n",
      "printing kwargs\n",
      "{'step': 2, 'interactions': array([47, 80, 17, 17, 71, 36, 85, 28, 27, 32,  2, 26, 73, 91, 17, 70, 34,\n",
      "       34, 96, 52, 56, 73, 91, 55, 66, 80, 13, 81, 80, 93, 66, 26, 36, 80,\n",
      "       36, 99, 92, 61, 52, 53, 70, 73, 17, 29, 33, 99, 27, 23, 84, 28]), 'items_shown': array([[98, 74, 45, 29, 47, 17, 49, 22, 54, 32],\n",
      "       [60, 64, 73, 53, 80, 65, 56, 84, 67, 26],\n",
      "       [24, 78, 32, 74, 17, 47, 34, 43,  6, 29],\n",
      "       [24, 78, 32, 74, 17, 47, 34, 43,  6, 29],\n",
      "       [ 2, 67, 54, 80, 71, 37,  8, 10, 65, 27],\n",
      "       [97, 61, 53, 34, 36, 80, 13, 43, 63, 93],\n",
      "       [61, 18, 21, 33, 85,  2, 92, 19, 11, 20],\n",
      "       [43, 52, 11, 94, 28, 60, 49, 86, 14, 88],\n",
      "       [24, 12, 41, 71, 27, 10,  2, 60, 80,  8],\n",
      "       [74, 47,  3, 33, 32,  0, 45, 92, 96, 29],\n",
      "       [66,  8, 51, 71, 27, 12, 10, 24, 60,  2],\n",
      "       [60, 67, 84, 80, 26, 64, 53, 73, 56, 11],\n",
      "       [64, 60, 11, 67, 73,  9, 56, 84, 80, 26],\n",
      "       [17, 59, 32, 74, 29, 55, 46, 77, 10, 91],\n",
      "       [24, 78, 32, 74, 17, 47, 34, 43,  6, 29],\n",
      "       [53, 96, 36, 68, 70, 30, 90, 33, 82, 99],\n",
      "       [36, 43, 58, 68, 34, 90, 69, 17,  6, 99],\n",
      "       [36, 43, 58, 68, 34, 90, 69, 17,  6, 99],\n",
      "       [84, 70, 62, 66, 96, 11, 60, 69, 10, 30],\n",
      "       [94,  7, 14, 88, 52, 23,  3, 86, 79, 28],\n",
      "       [73, 64, 12, 80, 56, 81,  1, 59, 48, 26],\n",
      "       [64, 60, 11, 67, 73,  9, 56, 84, 80, 26],\n",
      "       [17, 45, 91, 29, 74, 27, 33, 69, 43, 32],\n",
      "       [56, 47, 59, 17, 29, 83, 54, 15, 91, 55],\n",
      "       [95,  2, 90, 51, 66, 96, 52, 10, 62, 30],\n",
      "       [60, 64, 73, 53, 80, 65, 56, 84, 67, 26],\n",
      "       [93, 38, 75, 97, 36, 43, 63, 80, 65, 13],\n",
      "       [84, 82, 96, 11, 60, 81, 94, 18, 49, 28],\n",
      "       [13, 56, 97, 53, 36, 85, 71, 65, 93, 80],\n",
      "       [13, 97, 43, 34, 36, 61, 58, 48, 53, 93],\n",
      "       [95,  2, 90, 51, 66, 96, 52, 10, 62, 30],\n",
      "       [60, 67, 84, 80, 26, 64, 53, 73, 56, 11],\n",
      "       [97, 61, 53, 34, 36, 80, 13, 43, 63, 93],\n",
      "       [ 8, 12, 64, 71, 27, 46, 60, 24, 59, 80],\n",
      "       [97, 61, 53, 34, 36, 80, 13, 43, 63, 93],\n",
      "       [90, 36, 43, 70, 99,  7, 34, 14,  6, 68],\n",
      "       [33, 61, 20, 85, 92,  0, 19, 45,  3, 32],\n",
      "       [85, 11,  0, 20, 33, 67, 92, 18, 19, 61],\n",
      "       [94,  7, 14, 88, 52, 23,  3, 86, 79, 28],\n",
      "       [93, 44, 22, 80, 53, 51, 43, 70, 48, 36],\n",
      "       [53, 96, 36, 68, 70, 30, 90, 33, 82, 99],\n",
      "       [64, 60, 11, 67, 73,  9, 56, 84, 80, 26],\n",
      "       [24, 78, 32, 74, 17, 47, 34, 43,  6, 29],\n",
      "       [32, 91, 55, 74, 29, 24, 77, 47, 54, 17],\n",
      "       [92, 85, 61, 19, 33, 32, 11, 70,  0, 20],\n",
      "       [90, 36, 43, 70, 99,  7, 34, 14,  6, 68],\n",
      "       [24, 12, 41, 71, 27, 10,  2, 60, 80,  8],\n",
      "       [52, 68, 11, 79, 86, 23, 88, 81, 19, 28],\n",
      "       [45, 85, 74, 62, 96, 84, 11,  3, 69, 32],\n",
      "       [43, 52, 11, 94, 28, 60, 49, 86, 14, 88]])}\n",
      "printing items shown\n",
      "[[98 74 45 29 47 17 49 22 54 32]\n",
      " [60 64 73 53 80 65 56 84 67 26]\n",
      " [24 78 32 74 17 47 34 43  6 29]\n",
      " [24 78 32 74 17 47 34 43  6 29]\n",
      " [ 2 67 54 80 71 37  8 10 65 27]\n",
      " [97 61 53 34 36 80 13 43 63 93]\n",
      " [61 18 21 33 85  2 92 19 11 20]\n",
      " [43 52 11 94 28 60 49 86 14 88]\n",
      " [24 12 41 71 27 10  2 60 80  8]\n",
      " [74 47  3 33 32  0 45 92 96 29]\n",
      " [66  8 51 71 27 12 10 24 60  2]\n",
      " [60 67 84 80 26 64 53 73 56 11]\n",
      " [64 60 11 67 73  9 56 84 80 26]\n",
      " [17 59 32 74 29 55 46 77 10 91]\n",
      " [24 78 32 74 17 47 34 43  6 29]\n",
      " [53 96 36 68 70 30 90 33 82 99]\n",
      " [36 43 58 68 34 90 69 17  6 99]\n",
      " [36 43 58 68 34 90 69 17  6 99]\n",
      " [84 70 62 66 96 11 60 69 10 30]\n",
      " [94  7 14 88 52 23  3 86 79 28]\n",
      " [73 64 12 80 56 81  1 59 48 26]\n",
      " [64 60 11 67 73  9 56 84 80 26]\n",
      " [17 45 91 29 74 27 33 69 43 32]\n",
      " [56 47 59 17 29 83 54 15 91 55]\n",
      " [95  2 90 51 66 96 52 10 62 30]\n",
      " [60 64 73 53 80 65 56 84 67 26]\n",
      " [93 38 75 97 36 43 63 80 65 13]\n",
      " [84 82 96 11 60 81 94 18 49 28]\n",
      " [13 56 97 53 36 85 71 65 93 80]\n",
      " [13 97 43 34 36 61 58 48 53 93]\n",
      " [95  2 90 51 66 96 52 10 62 30]\n",
      " [60 67 84 80 26 64 53 73 56 11]\n",
      " [97 61 53 34 36 80 13 43 63 93]\n",
      " [ 8 12 64 71 27 46 60 24 59 80]\n",
      " [97 61 53 34 36 80 13 43 63 93]\n",
      " [90 36 43 70 99  7 34 14  6 68]\n",
      " [33 61 20 85 92  0 19 45  3 32]\n",
      " [85 11  0 20 33 67 92 18 19 61]\n",
      " [94  7 14 88 52 23  3 86 79 28]\n",
      " [93 44 22 80 53 51 43 70 48 36]\n",
      " [53 96 36 68 70 30 90 33 82 99]\n",
      " [64 60 11 67 73  9 56 84 80 26]\n",
      " [24 78 32 74 17 47 34 43  6 29]\n",
      " [32 91 55 74 29 24 77 47 54 17]\n",
      " [92 85 61 19 33 32 11 70  0 20]\n",
      " [90 36 43 70 99  7 34 14  6 68]\n",
      " [24 12 41 71 27 10  2 60 80  8]\n",
      " [52 68 11 79 86 23 88 81 19 28]\n",
      " [45 85 74 62 96 84 11  3 69 32]\n",
      " [43 52 11 94 28 60 49 86 14 88]]\n",
      "printing kwargs\n",
      "{'step': 3, 'interactions': array([47, 80, 17, 17, 21, 36, 85, 28, 27, 32,  2, 26, 73, 91, 17, 70, 34,\n",
      "       34, 96, 52, 56, 73, 41, 55, 66, 71, 13, 81, 80, 93, 66, 26, 36, 80,\n",
      "       36, 99, 92, 61, 52, 53, 70, 73, 17, 29, 33, 99, 27, 23, 60, 28]), 'items_shown': array([[43, 98, 22, 54, 17, 29, 45, 32, 47, 49],\n",
      "       [67, 56, 60, 84, 71, 53,  8, 26, 80, 65],\n",
      "       [64, 34, 74,  6, 78, 24, 40, 29, 17, 43],\n",
      "       [64, 34, 74,  6, 78, 24, 40, 29, 17, 43],\n",
      "       [67, 65,  2, 54, 21, 80,  8, 27, 71,  4],\n",
      "       [61, 13, 97, 63, 53, 34, 80, 93, 36, 43],\n",
      "       [11, 33, 92, 19,  2, 61, 51, 20, 85, 21],\n",
      "       [52, 49, 43, 14, 11, 94, 60, 88, 28, 86],\n",
      "       [12,  2, 24, 80, 41, 71, 10,  8, 27, 60],\n",
      "       [47, 45, 74, 96,  3, 33,  0, 29, 32, 92],\n",
      "       [24, 51, 71, 85, 60, 66, 12, 27,  2, 10],\n",
      "       [67, 53, 60, 56, 84, 80, 64, 11, 26, 73],\n",
      "       [60, 56, 64, 80, 11, 67,  9, 26, 73, 84],\n",
      "       [59, 37, 46, 17, 41, 74, 76, 29, 91, 10],\n",
      "       [64, 34, 74,  6, 78, 24, 40, 29, 17, 43],\n",
      "       [86, 33, 53, 90, 11, 68, 96, 99, 70, 82],\n",
      "       [57, 17, 36, 58, 68, 69, 43, 99, 34,  6],\n",
      "       [57, 17, 36, 58, 68, 69, 43, 99, 34,  6],\n",
      "       [10, 62, 60, 69, 37, 66, 70, 30, 96, 84],\n",
      "       [ 7, 94,  3, 86, 14, 28, 23, 88, 52, 79],\n",
      "       [12, 81, 73,  1, 48, 80, 83, 26, 56, 59],\n",
      "       [60, 56, 64, 80, 11, 67,  9, 26, 73, 84],\n",
      "       [43, 46, 32, 17, 37, 29, 31, 91, 74, 41],\n",
      "       [59, 54, 15, 17, 83, 56, 91, 29, 55,  4],\n",
      "       [ 2, 62, 52, 16, 90, 30,  8, 51, 66, 95],\n",
      "       [67, 56, 60, 84, 71, 53,  8, 26, 80, 65],\n",
      "       [75, 80, 63, 65, 46, 97, 38, 36, 13, 93],\n",
      "       [18, 83, 81, 88, 19, 11, 73, 28, 60, 67],\n",
      "       [ 8, 13, 71, 56, 51, 53, 26, 36, 80, 65],\n",
      "       [43, 58, 41, 13, 53, 34, 19, 36, 93, 48],\n",
      "       [ 2, 62, 52, 16, 90, 30,  8, 51, 66, 95],\n",
      "       [67, 53, 60, 56, 84, 80, 64, 11, 26, 73],\n",
      "       [61, 13, 97, 63, 53, 34, 80, 93, 36, 43],\n",
      "       [65,  8, 60, 51, 59, 71, 64, 27, 80, 24],\n",
      "       [61, 13, 97, 63, 53, 34, 80, 93, 36, 43],\n",
      "       [36, 34, 90,  6, 43, 70,  7, 68, 99, 14],\n",
      "       [ 3, 33, 32, 45, 61, 19, 63, 85, 92, 20],\n",
      "       [83, 92, 33,  0, 19, 20, 67, 85, 61, 18],\n",
      "       [ 7, 94,  3, 86, 14, 28, 23, 88, 52, 79],\n",
      "       [43, 48, 70, 93, 51, 80, 62, 36, 53, 44],\n",
      "       [86, 33, 53, 90, 11, 68, 96, 99, 70, 82],\n",
      "       [60, 56, 64, 80, 11, 67,  9, 26, 73, 84],\n",
      "       [64, 34, 74,  6, 78, 24, 40, 29, 17, 43],\n",
      "       [91, 77, 32, 54, 55, 74, 24, 17, 29, 47],\n",
      "       [85, 11, 92,  0, 61, 19, 32, 20, 33, 70],\n",
      "       [36, 34, 90,  6, 43, 70,  7, 68, 99, 14],\n",
      "       [12,  2, 24, 80, 41, 71, 10,  8, 27, 60],\n",
      "       [ 0, 79, 23, 88, 81, 52, 94, 28, 86, 68],\n",
      "       [30, 32, 11, 74, 62, 60, 85, 84, 96, 69],\n",
      "       [52, 49, 43, 14, 11, 94, 60, 88, 28, 86]])}\n",
      "printing items shown\n",
      "[[43 98 22 54 17 29 45 32 47 49]\n",
      " [67 56 60 84 71 53  8 26 80 65]\n",
      " [64 34 74  6 78 24 40 29 17 43]\n",
      " [64 34 74  6 78 24 40 29 17 43]\n",
      " [67 65  2 54 21 80  8 27 71  4]\n",
      " [61 13 97 63 53 34 80 93 36 43]\n",
      " [11 33 92 19  2 61 51 20 85 21]\n",
      " [52 49 43 14 11 94 60 88 28 86]\n",
      " [12  2 24 80 41 71 10  8 27 60]\n",
      " [47 45 74 96  3 33  0 29 32 92]\n",
      " [24 51 71 85 60 66 12 27  2 10]\n",
      " [67 53 60 56 84 80 64 11 26 73]\n",
      " [60 56 64 80 11 67  9 26 73 84]\n",
      " [59 37 46 17 41 74 76 29 91 10]\n",
      " [64 34 74  6 78 24 40 29 17 43]\n",
      " [86 33 53 90 11 68 96 99 70 82]\n",
      " [57 17 36 58 68 69 43 99 34  6]\n",
      " [57 17 36 58 68 69 43 99 34  6]\n",
      " [10 62 60 69 37 66 70 30 96 84]\n",
      " [ 7 94  3 86 14 28 23 88 52 79]\n",
      " [12 81 73  1 48 80 83 26 56 59]\n",
      " [60 56 64 80 11 67  9 26 73 84]\n",
      " [43 46 32 17 37 29 31 91 74 41]\n",
      " [59 54 15 17 83 56 91 29 55  4]\n",
      " [ 2 62 52 16 90 30  8 51 66 95]\n",
      " [67 56 60 84 71 53  8 26 80 65]\n",
      " [75 80 63 65 46 97 38 36 13 93]\n",
      " [18 83 81 88 19 11 73 28 60 67]\n",
      " [ 8 13 71 56 51 53 26 36 80 65]\n",
      " [43 58 41 13 53 34 19 36 93 48]\n",
      " [ 2 62 52 16 90 30  8 51 66 95]\n",
      " [67 53 60 56 84 80 64 11 26 73]\n",
      " [61 13 97 63 53 34 80 93 36 43]\n",
      " [65  8 60 51 59 71 64 27 80 24]\n",
      " [61 13 97 63 53 34 80 93 36 43]\n",
      " [36 34 90  6 43 70  7 68 99 14]\n",
      " [ 3 33 32 45 61 19 63 85 92 20]\n",
      " [83 92 33  0 19 20 67 85 61 18]\n",
      " [ 7 94  3 86 14 28 23 88 52 79]\n",
      " [43 48 70 93 51 80 62 36 53 44]\n",
      " [86 33 53 90 11 68 96 99 70 82]\n",
      " [60 56 64 80 11 67  9 26 73 84]\n",
      " [64 34 74  6 78 24 40 29 17 43]\n",
      " [91 77 32 54 55 74 24 17 29 47]\n",
      " [85 11 92  0 61 19 32 20 33 70]\n",
      " [36 34 90  6 43 70  7 68 99 14]\n",
      " [12  2 24 80 41 71 10  8 27 60]\n",
      " [ 0 79 23 88 81 52 94 28 86 68]\n",
      " [30 32 11 74 62 60 85 84 96 69]\n",
      " [52 49 43 14 11 94 60 88 28 86]]\n",
      "printing kwargs\n",
      "{'step': 4, 'interactions': array([47, 80, 17, 17, 21, 36, 85, 28, 27, 32,  2, 26, 73, 91, 17, 70, 34,\n",
      "       34, 96, 52, 56, 73, 41, 55, 66, 71, 13, 81, 80, 93, 66, 26, 36, 80,\n",
      "       36, 99, 92, 61, 52, 53, 70, 97, 17, 29, 33, 99, 27, 23, 60, 28]), 'items_shown': array([[22, 98, 43, 54, 49, 47, 17,  5, 32, 29],\n",
      "       [26, 53, 51, 65, 60, 80,  8, 84, 71, 56],\n",
      "       [29, 24, 40,  6, 74, 17, 78, 64, 34, 43],\n",
      "       [29, 24, 40,  6, 74, 17, 78, 64, 34, 43],\n",
      "       [27, 21, 54, 85,  2, 71, 65,  8, 19, 80],\n",
      "       [93, 34, 61, 53, 97, 36, 63, 80, 43, 13],\n",
      "       [20, 61,  2, 51, 92, 85, 19, 11, 33, 21],\n",
      "       [88, 94, 52, 11, 43, 28, 14, 60, 86, 49],\n",
      "       [ 8, 71, 12, 41, 24, 27, 80, 10, 60,  2],\n",
      "       [29, 33, 47,  3, 74, 32, 96,  0, 92, 45],\n",
      "       [27, 66, 24, 60, 51,  2, 85, 21, 10, 71],\n",
      "       [11, 80, 67, 84, 60, 26, 56, 64, 73, 53],\n",
      "       [67, 26,  9, 97, 64, 73, 80, 11, 84, 56],\n",
      "       [29, 74, 76, 44, 37, 91, 10, 59, 41, 46],\n",
      "       [29, 24, 40,  6, 74, 17, 78, 64, 34, 43],\n",
      "       [99, 53, 22, 86, 68, 70, 11, 96, 82, 33],\n",
      "       [99, 69, 68, 57, 36, 34, 58, 77,  6, 17],\n",
      "       [99, 69, 68, 57, 36, 34, 58, 77,  6, 17],\n",
      "       [62, 60, 11, 69, 66, 96, 37, 70, 84, 30],\n",
      "       [88,  3, 66, 14, 94, 52, 86,  7, 79, 28],\n",
      "       [26, 81, 83, 48, 80, 56,  1, 12, 59, 73],\n",
      "       [67, 26,  9, 97, 64, 73, 80, 11, 84, 56],\n",
      "       [91, 41, 78, 93, 29, 74, 37, 97, 46, 32],\n",
      "       [29, 56, 72, 59, 15, 55, 54, 88, 83,  4],\n",
      "       [51, 30,  2, 95, 52, 66, 90,  8, 16, 62],\n",
      "       [71, 53, 64, 51, 26, 80, 67,  8, 65, 60],\n",
      "       [36, 97, 73, 93, 63, 13, 46, 75, 65, 80],\n",
      "       [81, 28, 56, 88, 11, 60, 67, 73, 19, 83],\n",
      "       [36, 53,  8, 51, 71, 80, 13, 60, 65, 56],\n",
      "       [36, 41, 19, 13, 48, 93, 53, 91, 34, 58],\n",
      "       [51, 30,  2, 95, 52, 66, 90,  8, 16, 62],\n",
      "       [11, 80, 67, 84, 60, 26, 56, 64, 73, 53],\n",
      "       [93, 34, 61, 53, 97, 36, 63, 80, 43, 13],\n",
      "       [27, 71, 59, 65, 60, 80, 51, 26, 53,  8],\n",
      "       [93, 34, 61, 53, 97, 36, 63, 80, 43, 13],\n",
      "       [68, 70, 36, 43, 90, 99,  6,  7, 14, 34],\n",
      "       [85, 19,  3, 45, 33, 92, 61, 63, 20, 32],\n",
      "       [85, 20, 19, 83, 33, 61,  0,  4, 18, 92],\n",
      "       [88,  3, 66, 14, 94, 52, 86,  7, 79, 28],\n",
      "       [36, 80, 82, 62, 70, 53, 51, 43, 48, 44],\n",
      "       [99, 53, 22, 86, 68, 70, 11, 96, 82, 33],\n",
      "       [67, 26,  9, 97, 64, 73, 80, 11, 84, 56],\n",
      "       [29, 24, 40,  6, 74, 17, 78, 64, 34, 43],\n",
      "       [17, 74, 91, 55, 32, 29, 54, 24, 47, 77],\n",
      "       [20, 19, 85, 61, 92, 33,  0, 32, 70, 11],\n",
      "       [68, 70, 36, 43, 90, 99,  6,  7, 14, 34],\n",
      "       [ 8, 71, 12, 41, 24, 27, 80, 10, 60,  2],\n",
      "       [23, 28, 81, 88, 52, 86,  0, 33, 68, 79],\n",
      "       [84, 96, 62, 30, 11, 60, 27, 85, 69, 32],\n",
      "       [88, 94, 52, 11, 43, 28, 14, 60, 86, 49]])}\n",
      "printing items shown\n",
      "[[22 98 43 54 49 47 17  5 32 29]\n",
      " [26 53 51 65 60 80  8 84 71 56]\n",
      " [29 24 40  6 74 17 78 64 34 43]\n",
      " [29 24 40  6 74 17 78 64 34 43]\n",
      " [27 21 54 85  2 71 65  8 19 80]\n",
      " [93 34 61 53 97 36 63 80 43 13]\n",
      " [20 61  2 51 92 85 19 11 33 21]\n",
      " [88 94 52 11 43 28 14 60 86 49]\n",
      " [ 8 71 12 41 24 27 80 10 60  2]\n",
      " [29 33 47  3 74 32 96  0 92 45]\n",
      " [27 66 24 60 51  2 85 21 10 71]\n",
      " [11 80 67 84 60 26 56 64 73 53]\n",
      " [67 26  9 97 64 73 80 11 84 56]\n",
      " [29 74 76 44 37 91 10 59 41 46]\n",
      " [29 24 40  6 74 17 78 64 34 43]\n",
      " [99 53 22 86 68 70 11 96 82 33]\n",
      " [99 69 68 57 36 34 58 77  6 17]\n",
      " [99 69 68 57 36 34 58 77  6 17]\n",
      " [62 60 11 69 66 96 37 70 84 30]\n",
      " [88  3 66 14 94 52 86  7 79 28]\n",
      " [26 81 83 48 80 56  1 12 59 73]\n",
      " [67 26  9 97 64 73 80 11 84 56]\n",
      " [91 41 78 93 29 74 37 97 46 32]\n",
      " [29 56 72 59 15 55 54 88 83  4]\n",
      " [51 30  2 95 52 66 90  8 16 62]\n",
      " [71 53 64 51 26 80 67  8 65 60]\n",
      " [36 97 73 93 63 13 46 75 65 80]\n",
      " [81 28 56 88 11 60 67 73 19 83]\n",
      " [36 53  8 51 71 80 13 60 65 56]\n",
      " [36 41 19 13 48 93 53 91 34 58]\n",
      " [51 30  2 95 52 66 90  8 16 62]\n",
      " [11 80 67 84 60 26 56 64 73 53]\n",
      " [93 34 61 53 97 36 63 80 43 13]\n",
      " [27 71 59 65 60 80 51 26 53  8]\n",
      " [93 34 61 53 97 36 63 80 43 13]\n",
      " [68 70 36 43 90 99  6  7 14 34]\n",
      " [85 19  3 45 33 92 61 63 20 32]\n",
      " [85 20 19 83 33 61  0  4 18 92]\n",
      " [88  3 66 14 94 52 86  7 79 28]\n",
      " [36 80 82 62 70 53 51 43 48 44]\n",
      " [99 53 22 86 68 70 11 96 82 33]\n",
      " [67 26  9 97 64 73 80 11 84 56]\n",
      " [29 24 40  6 74 17 78 64 34 43]\n",
      " [17 74 91 55 32 29 54 24 47 77]\n",
      " [20 19 85 61 92 33  0 32 70 11]\n",
      " [68 70 36 43 90 99  6  7 14 34]\n",
      " [ 8 71 12 41 24 27 80 10 60  2]\n",
      " [23 28 81 88 52 86  0 33 68 79]\n",
      " [84 96 62 30 11 60 27 85 69 32]\n",
      " [88 94 52 11 43 28 14 60 86 49]]\n"
     ]
    },
    {
     "name": "stderr",
     "output_type": "stream",
     "text": [
      "\n"
     ]
    },
    {
     "data": {
      "text/html": [
       "<div>\n",
       "<style scoped>\n",
       "    .dataframe tbody tr th:only-of-type {\n",
       "        vertical-align: middle;\n",
       "    }\n",
       "\n",
       "    .dataframe tbody tr th {\n",
       "        vertical-align: top;\n",
       "    }\n",
       "\n",
       "    .dataframe thead th {\n",
       "        text-align: right;\n",
       "    }\n",
       "</style>\n",
       "<table border=\"1\" class=\"dataframe\">\n",
       "  <thead>\n",
       "    <tr style=\"text-align: right;\">\n",
       "      <th></th>\n",
       "      <th>mse</th>\n",
       "      <th>homogeneity</th>\n",
       "      <th>jaccard_similarity</th>\n",
       "      <th>afsr</th>\n",
       "      <th>timesteps</th>\n",
       "    </tr>\n",
       "  </thead>\n",
       "  <tbody>\n",
       "    <tr>\n",
       "      <th>0</th>\n",
       "      <td>None</td>\n",
       "      <td>NaN</td>\n",
       "      <td>None</td>\n",
       "      <td>None</td>\n",
       "      <td>0</td>\n",
       "    </tr>\n",
       "    <tr>\n",
       "      <th>1</th>\n",
       "      <td>1.2636031380011388</td>\n",
       "      <td>-46.0</td>\n",
       "      <td>1.000000000000011</td>\n",
       "      <td>9.056273850440615</td>\n",
       "      <td>1</td>\n",
       "    </tr>\n",
       "    <tr>\n",
       "      <th>2</th>\n",
       "      <td>1.0576294801346209</td>\n",
       "      <td>-2.0</td>\n",
       "      <td>0.14938733388091954</td>\n",
       "      <td>10.285078972902607</td>\n",
       "      <td>2</td>\n",
       "    </tr>\n",
       "    <tr>\n",
       "      <th>3</th>\n",
       "      <td>1.0142419844227355</td>\n",
       "      <td>0.0</td>\n",
       "      <td>0.10014531784987282</td>\n",
       "      <td>10.252523211031505</td>\n",
       "      <td>3</td>\n",
       "    </tr>\n",
       "    <tr>\n",
       "      <th>4</th>\n",
       "      <td>0.9940762508015101</td>\n",
       "      <td>0.0</td>\n",
       "      <td>0.09258498365783333</td>\n",
       "      <td>10.233158448002836</td>\n",
       "      <td>4</td>\n",
       "    </tr>\n",
       "    <tr>\n",
       "      <th>5</th>\n",
       "      <td>0.9892967369519698</td>\n",
       "      <td>0.0</td>\n",
       "      <td>0.08788130482576634</td>\n",
       "      <td>10.200422407892733</td>\n",
       "      <td>5</td>\n",
       "    </tr>\n",
       "  </tbody>\n",
       "</table>\n",
       "</div>"
      ],
      "text/plain": [
       "                  mse  homogeneity   jaccard_similarity                afsr  \\\n",
       "0                None          NaN                 None                None   \n",
       "1  1.2636031380011388        -46.0    1.000000000000011   9.056273850440615   \n",
       "2  1.0576294801346209         -2.0  0.14938733388091954  10.285078972902607   \n",
       "3  1.0142419844227355          0.0  0.10014531784987282  10.252523211031505   \n",
       "4  0.9940762508015101          0.0  0.09258498365783333  10.233158448002836   \n",
       "5  0.9892967369519698          0.0  0.08788130482576634  10.200422407892733   \n",
       "\n",
       "   timesteps  \n",
       "0          0  \n",
       "1          1  \n",
       "2          2  \n",
       "3          3  \n",
       "4          4  \n",
       "5          5  "
      ]
     },
     "execution_count": 32,
     "metadata": {},
     "output_type": "execute_result"
    }
   ],
   "source": [
    "# now we run the model\n",
    "filtering.run(timesteps=5)\n",
    "measurements = filtering.get_measurements()\n",
    "pd.DataFrame(measurements)"
   ]
  },
  {
   "cell_type": "markdown",
   "metadata": {},
   "source": [
    "Measurements at time step 0 can be undefined (`None`, `NaN`, etc.) because it denotes the measurements before the start of the simulation. MSE is undefined at the beginning because the system has not yet made predictions on the user profiles; similarly, homogeneity is meaningless before the simulation begins because there are no user interactions to consider."
   ]
  },
  {
   "cell_type": "markdown",
   "metadata": {},
   "source": [
    "## System state\n"
   ]
  },
  {
   "cell_type": "markdown",
   "metadata": {},
   "source": [
    "Some applications might require keeping a history of the system's internal state for future processing. This is useful, for example, to study the evolution of predicted user profiles. The framework provides an interface to [store and access all the states of each component over time](https://elucherini.github.io/algo-segregation/reference/models.html#models.recommender.SystemStateModule). Some components are tracked by default, others are added into the individual models."
   ]
  },
  {
   "cell_type": "code",
   "execution_count": null,
   "metadata": {},
   "outputs": [],
   "source": [
    "system_state = filtering.get_system_state()\n",
    "print(\"These are the system state components being monitored:\")\n",
    "print(system_state.keys())"
   ]
  },
  {
   "cell_type": "code",
   "execution_count": null,
   "metadata": {},
   "outputs": [],
   "source": [
    "print(\"There are as many states as the timesteps for which we ran the system + the initial state.\")\n",
    "print(\"For example, the history of predicted_user_profiles has length:\", (len(system_state['predicted_user_profiles'])))\n",
    "# the last states correspond to the current state of the components\n",
    "print(\"Furthermore, the last state is in the history of a component corresponds to its current state.\")\n",
    "print(\"Is this true for predicted_user_profiles?\", np.array_equal(system_state['predicted_user_profiles'][5], filtering.user_profiles))"
   ]
  },
  {
   "cell_type": "markdown",
   "metadata": {},
   "source": [
    "To start tracking a new component, you can use the [add_state_variable()](https://elucherini.github.io/algo-segregation/reference/models.html#models.recommender.SystemStateModule.add_state_variable). Note that state variables can only be monitored if they must inherit from the `BaseComponent` class. Creating new state variables is outside of the scope of this guide, so please refer to the [advanced-models](advanced-models.ipynb) and the [advanced-metrics](advanced-metrics.ipynb) notebooks."
   ]
  },
  {
   "cell_type": "markdown",
   "metadata": {},
   "source": [
    "## \"Real\" users\n",
    "Most of what we've seen so far about users refers to the predictions that the system makes about users' preferences. This framework allows for modeling system predictions as well as \"real\" users. The [Users](https://elucherini.github.io/algo-segregation/reference/components.html#components.users.Users) component allows for personalization of actual user profiles, which the system is not aware of, and of new kinds of interactions with items.\n",
    "\n",
    "**Note:** The interface to add actual_user_representation is currently broken. Please wait a couple days for me to restore it."
   ]
  },
  {
   "cell_type": "markdown",
   "metadata": {},
   "source": [
    "### User interactions with items\n",
    "The Users class also determines how users interact with items. The default behavior is defined in [get_user_feedback()](https://elucherini.github.io/algo-segregation/reference/components.html#components.users.Users.get_user_feedback). In short, when the system presents items to users, users internally evaluate the items and choose the one item that is most similar to their actual preferences. Please note that by default, there is no limit to the number of times users can interact with a given item.\n",
    "\n",
    "#### Overriding user behavior\n",
    "\n",
    "The default behavior can be overwritten through API. **A new advanced guide about users is in the works.**\n",
    "\n",
    "## Model parameters about user interactions\n",
    "Models also provide a few initialization parameters that can be used to tweak the behavior of the model in regards to user interactions. Specifically, models determine the number of items to present users at each iteraction through parameter `num_items_per_iter`. The default is 10 items per user per iteration."
   ]
  },
  {
   "cell_type": "markdown",
   "metadata": {},
   "source": [
    "### Other model parameters\n",
    "Please refer to [the docs](https://elucherini.github.io/algo-segregation/reference/models.html)."
   ]
  },
  {
   "cell_type": "code",
   "execution_count": null,
   "metadata": {},
   "outputs": [],
   "source": []
  }
 ],
 "metadata": {
  "kernelspec": {
   "display_name": "trecsEnv",
   "language": "python",
   "name": "trecsenv"
  },
  "language_info": {
   "codemirror_mode": {
    "name": "ipython",
    "version": 3
   },
   "file_extension": ".py",
   "mimetype": "text/x-python",
   "name": "python",
   "nbconvert_exporter": "python",
   "pygments_lexer": "ipython3",
   "version": "3.7.9"
  }
 },
 "nbformat": 4,
 "nbformat_minor": 4
}
