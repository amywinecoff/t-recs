{
 "cells": [
  {
   "cell_type": "markdown",
   "metadata": {},
   "source": [
    "# Simulating Structural Virality\n",
    "This notebook is a demonstration of how to simulate studies such as [The Structural Virality in Online Diffusion](https://5harad.com/papers/twiral.pdf) by Goel et al. with the simulator (name of which still TBD).\n",
    "\n",
    "To model this problem, I implemented what I believe to be a generic [Bass Model](https://en.wikipedia.org/wiki/Bass_diffusion_model), which is normally used to study the diffusion of product adoption.\n",
    "Goel et al. use the Bass model to study the diffusion of \"viral\" tweets."
   ]
  },
  {
   "cell_type": "markdown",
   "metadata": {},
   "source": [
    "## Initialization\n",
    "The model can be initialized with no parameters, in which case the number of users is chosen randomly."
   ]
  },
  {
   "cell_type": "code",
   "execution_count": 2,
   "metadata": {},
   "outputs": [],
   "source": [
    "import rec\n",
    "import numpy as np\n",
    "\n",
    "# The Bass model can be initialized with no parameters\n",
    "bass = rec.BassModel()"
   ]
  },
  {
   "cell_type": "markdown",
   "metadata": {},
   "source": [
    "Alternatively, the model can be initialized by specifying some parameters, for example the number of agents (_users_). The number of tweets (_items_) can also be specified.\n",
    "\n",
    "**Note:** the model has only been tested to study the diffusion of one item at a time, so changing the number of items might either yield wrong results or not work at all."
   ]
  },
  {
   "cell_type": "code",
   "execution_count": 3,
   "metadata": {},
   "outputs": [
    {
     "name": "stdout",
     "output_type": "stream",
     "text": [
      "Num items 1\n",
      "Num users 10\n"
     ]
    }
   ],
   "source": [
    "bass = rec.BassModel(num_users=10, num_items=1)\n",
    "print(\"Num items\", bass.num_items)\n",
    "print(\"Num users\", bass.num_users)"
   ]
  },
  {
   "cell_type": "markdown",
   "metadata": {},
   "source": [
    "For more control on the simulation, we can specify our own representations for items and users. In the general case, this has constraints that depend on the model.\n",
    "\n",
    "Here are the requirements of this Bass model:\n",
    "- Users must be represented with a `num_users x num_users` binary social graph that defines their connections (u and v are _connected_ if `user_representation[u,v]` is 1).\n",
    "- Items must be represented with a `1 x num_items` array that defines the probability that each item has to infect other users.\n",
    "- At the moment, the model only supports `num_items = 1`"
   ]
  },
  {
   "cell_type": "code",
   "execution_count": 4,
   "metadata": {},
   "outputs": [
    {
     "name": "stdout",
     "output_type": "stream",
     "text": [
      "Item attributes \n",
      " [[0.10741834]]\n",
      "User profiles\n",
      " [[1. 0. 0. 1. 1.]\n",
      " [0. 1. 0. 0. 1.]\n",
      " [0. 0. 1. 0. 0.]\n",
      " [1. 0. 0. 1. 0.]\n",
      " [1. 1. 0. 0. 1.]]\n"
     ]
    }
   ],
   "source": [
    "# user_representation must be a social graph\n",
    "# Soon it'll be possible to define this easily with a SocialGraph class, but for now:\n",
    "num_users, num_items = 5, 1\n",
    "# Notice that I am only connecting users with themselves (see below for inter-user connections)\n",
    "user_representation = np.diag(np.diag(np.ones((num_users, num_users))))\n",
    "\n",
    "# item_representation is an array of probabilities of infection:\n",
    "# Similarly, this will become a Probability class that can take any distribution. For now:\n",
    "item_representation = rec.Generator().uniform(size=(1, num_items))\n",
    "\n",
    "# And now we initialize the new model\n",
    "bass = rec.BassModel(item_representation=item_representation,\n",
    "                  user_representation=user_representation)\n",
    "# As a SocialGraph class has not yet been defined, I need to\n",
    "# rely on the model's mechanism to connect users:\n",
    "bass.add_friends(0,4)\n",
    "bass.add_friends(0,3)\n",
    "bass.add_friends(1,4)\n",
    "print(\"Item attributes \\n\", bass.item_attributes)\n",
    "print(\"User profiles\\n\", bass.user_profiles)"
   ]
  },
  {
   "cell_type": "markdown",
   "metadata": {},
   "source": [
    "In this model, we can also define the initial user who tweeted the tweet. The data structure that represents who tweeted what is called the \"infection state.\" Here we define the _initial_ infection state.\n",
    "\n",
    "`infection_state` is a `num_users x num_items` binary array that indicates which users have been infected: if u has been infected by item i, then `infection_state[u,i]` is 1."
   ]
  },
  {
   "cell_type": "code",
   "execution_count": 5,
   "metadata": {},
   "outputs": [
    {
     "name": "stdout",
     "output_type": "stream",
     "text": [
      "Initial infection state\n",
      " [[0.]\n",
      " [0.]\n",
      " [0.]\n",
      " [0.]\n",
      " [1.]]\n"
     ]
    }
   ],
   "source": [
    "# (this will also be simplified, but I'm not sure how yet)\n",
    "infection_state = np.zeros((num_users, num_items))\n",
    "infection_state[4, np.random.randint(num_items)] = 1\n",
    "print(\"Initial infection state\\n\", bass.infection_state)"
   ]
  },
  {
   "cell_type": "markdown",
   "metadata": {},
   "source": [
    "Another parameter that we can add is the _infection threshold_, which can be thought of as the probability of a tweet to be retweeted. The infection threshold represents the minimum probability that the user will become infected with items. In other words, if `infection_probability > infection_threshold` for item i and user u, then item i can infect user u.\n",
    "\n",
    "Currently, the infection threshold is a scalar, but a more realistic view of this would be a `num_users x 1` array (one threshold per user), or even a `num_users x num_items` (one threshold per user per item)."
   ]
  },
  {
   "cell_type": "code",
   "execution_count": 6,
   "metadata": {},
   "outputs": [
    {
     "name": "stdout",
     "output_type": "stream",
     "text": [
      "The infection threshold is 0.06411171759594675\n"
     ]
    }
   ],
   "source": [
    "# For the purpose of this tutorial, we ensure that the infection\n",
    "# threshold is lower than the item infection probabilities:\n",
    "infection_threshold = np.random.random() % (float(item_representation) - .0000000002)\n",
    "print(\"The infection threshold is\", infection_threshold)\n",
    "# Note that the model does not currently support modifying the parameters after initialization.\n",
    "# So we need to initialize a new model altogether.\n",
    "bass = rec.BassModel(item_representation=item_representation,\n",
    "                  user_representation=user_representation,\n",
    "                  infection_state=np.copy(infection_state), # made a copy to keep infection_state unchanged \n",
    "                  infection_threshold=infection_threshold)"
   ]
  },
  {
   "cell_type": "markdown",
   "metadata": {},
   "source": [
    "## Running the model"
   ]
  },
  {
   "cell_type": "markdown",
   "metadata": {},
   "source": [
    "In the simulation, at each timestep _t_, users look for tweets to retweet from their Twitter feed. If an appealing tweet appears, then they retweet it.\n",
    "\n",
    "More formally, for each item, item i infects user u if:\n",
    "- at _t-1_, `user_profiles[u,v] = 1` and\n",
    "- at _t-1_, `infection_state[v, i] = 1` and\n",
    "- `infection_state[i] > infection_threshold[u, i]`"
   ]
  },
  {
   "cell_type": "code",
   "execution_count": 7,
   "metadata": {},
   "outputs": [
    {
     "name": "stderr",
     "output_type": "stream",
     "text": [
      "100%|██████████| 10/10 [00:00<00:00, 799.48it/s]\n"
     ]
    }
   ],
   "source": [
    "# This can be run without parameters, too, in which case timesteps=100 by default\n",
    "timesteps = 10\n",
    "bass.run(timesteps=timesteps)"
   ]
  },
  {
   "cell_type": "markdown",
   "metadata": {},
   "source": [
    "# Evaluation\n",
    "First of all, we take a look at the infection state. We saved the initial infection state, so we can compare them to see if there is any change.\n",
    "\n",
    "If there is no change, it could be for a few reasons:\n",
    "1. The infection threshold is higher than the infection probabilities.\n",
    "2. The social graph is too sparse and the infected users are isolated.\n",
    "3. The simulation is too short. This is relevant because, with more infected users in the networks, \"healthy\" users have a higher chance of being infected."
   ]
  },
  {
   "cell_type": "code",
   "execution_count": 8,
   "metadata": {},
   "outputs": [
    {
     "name": "stdout",
     "output_type": "stream",
     "text": [
      "Has the infection state changed? yes!\n"
     ]
    }
   ],
   "source": [
    "has_changed = not np.array_equal(bass.infection_state, infection_state)\n",
    "response = \"yes!\" if has_changed else \"nope.\"\n",
    "print(\"Has the infection state changed?\", response)"
   ]
  },
  {
   "cell_type": "markdown",
   "metadata": {},
   "source": [
    "## Infection diffusion tree\n",
    "We print the diffusion tree."
   ]
  },
  {
   "cell_type": "code",
   "execution_count": 9,
   "metadata": {},
   "outputs": [
    {
     "data": {
      "image/png": "[encoded data removed]",
      "text/plain": [
       "<Figure size 432x288 with 1 Axes>"
      ]
     },
     "metadata": {},
     "output_type": "display_data"
    }
   ],
   "source": [
    "# I currently don't have a \"frontend\" that plots or draws, except for this wrapper around the networkx.draw() function\n",
    "# A practical plotting module is also on my TODO list.\n",
    "# Right now this graph does not really look like a tree, so that will also change with the plotting module.\n",
    "import matplotlib.pyplot as plt\n",
    "bass.draw_diffusion_tree()\n",
    "plt.show()"
   ]
  },
  {
   "cell_type": "markdown",
   "metadata": {},
   "source": [
    "## Structural virality\n",
    "Finally, we calculate the structural virality of the diffusion tree. Goel et al. define structural virality as:\n",
    "\n",
    "> the average distance between all pairs of nodes in a diffusion tree.\n",
    "\n",
    "This is equal to the average of what is known in the literature as the Wiener index."
   ]
  },
  {
   "cell_type": "code",
   "execution_count": 10,
   "metadata": {},
   "outputs": [
    {
     "data": {
      "text/plain": [
       "0.8333333333333334"
      ]
     },
     "execution_count": 10,
     "metadata": {},
     "output_type": "execute_result"
    }
   ],
   "source": [
    "# this basically calls networkx.algorithms.wiener.wiener_index() on the graph\n",
    "# and calculates the average on the number of nodes\n",
    "bass.get_structural_virality()"
   ]
  },
  {
   "cell_type": "markdown",
   "metadata": {},
   "source": [
    "## Some more information\n",
    "By calling the `get_measurements()` method, the data structure returns a dictionary of metrics that are relevant to the model.\n",
    "\n",
    "By default, the Bass model returns the number of total infected users at each timestep."
   ]
  },
  {
   "cell_type": "code",
   "execution_count": 11,
   "metadata": {},
   "outputs": [
    {
     "data": {
      "text/html": [
       "<div>\n",
       "<style scoped>\n",
       "    .dataframe tbody tr th:only-of-type {\n",
       "        vertical-align: middle;\n",
       "    }\n",
       "\n",
       "    .dataframe tbody tr th {\n",
       "        vertical-align: top;\n",
       "    }\n",
       "\n",
       "    .dataframe thead th {\n",
       "        text-align: right;\n",
       "    }\n",
       "</style>\n",
       "<table border=\"1\" class=\"dataframe\">\n",
       "  <thead>\n",
       "    <tr style=\"text-align: right;\">\n",
       "      <th></th>\n",
       "      <th># Infected</th>\n",
       "    </tr>\n",
       "    <tr>\n",
       "      <th>Timesteps</th>\n",
       "      <th></th>\n",
       "    </tr>\n",
       "  </thead>\n",
       "  <tbody>\n",
       "    <tr>\n",
       "      <th>0</th>\n",
       "      <td>1</td>\n",
       "    </tr>\n",
       "    <tr>\n",
       "      <th>1</th>\n",
       "      <td>3</td>\n",
       "    </tr>\n",
       "    <tr>\n",
       "      <th>2</th>\n",
       "      <td>4</td>\n",
       "    </tr>\n",
       "    <tr>\n",
       "      <th>3</th>\n",
       "      <td>4</td>\n",
       "    </tr>\n",
       "    <tr>\n",
       "      <th>4</th>\n",
       "      <td>4</td>\n",
       "    </tr>\n",
       "    <tr>\n",
       "      <th>5</th>\n",
       "      <td>4</td>\n",
       "    </tr>\n",
       "    <tr>\n",
       "      <th>6</th>\n",
       "      <td>4</td>\n",
       "    </tr>\n",
       "    <tr>\n",
       "      <th>7</th>\n",
       "      <td>4</td>\n",
       "    </tr>\n",
       "    <tr>\n",
       "      <th>8</th>\n",
       "      <td>4</td>\n",
       "    </tr>\n",
       "    <tr>\n",
       "      <th>9</th>\n",
       "      <td>4</td>\n",
       "    </tr>\n",
       "    <tr>\n",
       "      <th>10</th>\n",
       "      <td>4</td>\n",
       "    </tr>\n",
       "  </tbody>\n",
       "</table>\n",
       "</div>"
      ],
      "text/plain": [
       "           # Infected\n",
       "Timesteps            \n",
       "0                   1\n",
       "1                   3\n",
       "2                   4\n",
       "3                   4\n",
       "4                   4\n",
       "5                   4\n",
       "6                   4\n",
       "7                   4\n",
       "8                   4\n",
       "9                   4\n",
       "10                  4"
      ]
     },
     "execution_count": 11,
     "metadata": {},
     "output_type": "execute_result"
    }
   ],
   "source": [
    "# in the future, there will be an easy way to add a new measurement\n",
    "# measurements and models are already decoupled, so it shouldn't be too complicated\n",
    "measurements = bass.get_measurements()\n",
    "# We can easily turn this into a pandas DataFrame\n",
    "import pandas as pd\n",
    "df = pd.DataFrame(measurements)\n",
    "df.set_index('Timesteps')"
   ]
  },
  {
   "cell_type": "code",
   "execution_count": null,
   "metadata": {},
   "outputs": [],
   "source": []
  }
 ],
 "metadata": {
  "kernelspec": {
   "display_name": "Python 3",
   "language": "python",
   "name": "python3"
  },
  "language_info": {
   "codemirror_mode": {
    "name": "ipython",
    "version": 3
   },
   "file_extension": ".py",
   "mimetype": "text/x-python",
   "name": "python",
   "nbconvert_exporter": "python",
   "pygments_lexer": "ipython3",
   "version": "3.7.7"
  }
 },
 "nbformat": 4,
 "nbformat_minor": 4
}
