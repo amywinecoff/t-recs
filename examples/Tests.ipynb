{
 "cells": [
  {
   "cell_type": "code",
   "execution_count": null,
   "metadata": {},
   "outputs": [],
   "source": [
    "from sklearn import svm\n",
    "s = svm.SVC(verbose=True)"
   ]
  },
  {
   "cell_type": "code",
   "execution_count": null,
   "metadata": {},
   "outputs": [],
   "source": [
    "from sklearn.preprocessing import LabelBinarizer\n",
    "LabelBinarizer()"
   ]
  },
  {
   "cell_type": "code",
   "execution_count": null,
   "metadata": {},
   "outputs": [],
   "source": [
    "s.verbose=True\n",
    "s"
   ]
  },
  {
   "cell_type": "code",
   "execution_count": null,
   "metadata": {},
   "outputs": [],
   "source": [
    "import numpy as np\n",
    "X = np.array([[-1, -1], [-2, -1], [1, 1], [2, 1]])\n",
    "y = np.array([1, 1, 2, 2])\n",
    "s.verbose=True\n",
    "s.fit(X, y)"
   ]
  },
  {
   "cell_type": "code",
   "execution_count": null,
   "metadata": {},
   "outputs": [],
   "source": [
    "s.predict('a')"
   ]
  },
  {
   "cell_type": "code",
   "execution_count": null,
   "metadata": {},
   "outputs": [],
   "source": [
    "import rec\n",
    "m = rec.Measurements()\n",
    "m.is_verbose()"
   ]
  },
  {
   "cell_type": "code",
   "execution_count": null,
   "metadata": {},
   "outputs": [],
   "source": [
    "m.log(\"hi\")"
   ]
  },
  {
   "cell_type": "code",
   "execution_count": null,
   "metadata": {},
   "outputs": [],
   "source": [
    "m.set_verbose(True)"
   ]
  },
  {
   "cell_type": "code",
   "execution_count": null,
   "metadata": {},
   "outputs": [],
   "source": [
    "m.log(\"hi\")"
   ]
  },
  {
   "cell_type": "code",
   "execution_count": null,
   "metadata": {
    "scrolled": true
   },
   "outputs": [],
   "source": [
    "import rec\n",
    "import numpy as np\n",
    "\n",
    "items = 10\n",
    "users = 5\n",
    "new_items = 2\n",
    "timesteps_one = 1\n",
    "timesteps_two = 2\n",
    "actual = np.random.randint(5, size=(users, items))\n",
    "predicted = actual + np.random.randint(-3,3, size=(users, items))\n",
    "\n",
    "meas = rec.Measurements(verbose=True)\n",
    "interactions = np.random.randint(items, size=(1,users))\n",
    "meas.log('Add randomly generated interactions:\\n%s' % str(interactions))\n",
    "meas.measure(step=0, interactions=interactions, num_users=users,\n",
    "    num_items=items, predicted=predicted, actual=actual)\n",
    "\n",
    "# Interaction two\n",
    "interactions = np.random.randint(items, size=(1,users))\n",
    "meas.log('Add randomly generated interactions:\\n%s' % str(interactions))\n",
    "meas.measure(step=1, interactions=interactions, num_users=users,\n",
    "    num_items=items, predicted=predicted, actual=actual)\n",
    "\n",
    "# See graph\n",
    "m= meas.get_measurements()\n",
    "#logger.log('Delta: \\n%s' % str(d))\n",
    "\n",
    "# Expand items\n",
    "meas.log('Expand with %d new items' % new_items)\n",
    "items += new_items\n",
    "\n",
    "# Interaction three\n",
    "interactions = np.random.randint(items, size=(1,users))\n",
    "meas.log('Add randomly generated interactions:\\n%s' % str(interactions))\n",
    "meas.measure(step=2, interactions=interactions, num_users=users,\n",
    "    num_items=items, predicted=predicted, actual=actual)\n",
    "\n",
    "# See graph\n",
    "meas.log('Measurements: \\n%s' % str(m))"
   ]
  },
  {
   "cell_type": "code",
   "execution_count": null,
   "metadata": {},
   "outputs": [],
   "source": [
    "from vega import VegaLite\n",
    "\n",
    "meas.get_measurements()"
   ]
  },
  {
   "cell_type": "code",
   "execution_count": null,
   "metadata": {},
   "outputs": [],
   "source": [
    "import matplotlib.pyplot as plt\n",
    "\n",
    "fig = plt.figure();\n",
    "ax = fig.add_subplot(111)\n",
    "ax.plot(np.random.rand(10))\n",
    "\n",
    "\n",
    "plt.show()"
   ]
  },
  {
   "cell_type": "code",
   "execution_count": null,
   "metadata": {},
   "outputs": [],
   "source": [
    "'''\n",
    "\n",
    "# Custom distribution; here, we wrap around a normal distribution to show\n",
    "# that any distribution, not just the ones included in numpy.random, can be\n",
    "# used\n",
    "#  \n",
    "# FIXME: When defining this function, we must assume size is passed by the caller. \n",
    "# This is probably not intuitive enough\n",
    "def my_distribution(param, size=None):\n",
    "    if size is None:\n",
    "        raise ValueError('No size was given -- exit')\n",
    "    matrix = np.random.binomial(1, param, size=size)\n",
    "    index = np.random.randint(size[0])\n",
    "    matrix[0, index] = 7\n",
    "    return matrix\n",
    "\n",
    "# Random binary item representation\n",
    "item_representation = np.random.binomial(1, .3, size=(num_items, A))\n",
    "\n",
    "actual_scores = rec.ActualUserScores(num_users, item_representation.T,\n",
    "    normalize=False, distribution=my_distribution, param=.5)\n",
    "\n",
    "\n",
    "\n",
    "# Print item representation\n",
    "actual_scores.log(\"Items (|I|x|A|):\\n\" + str(item_representation))\n",
    "# Compute scores\n",
    "actual_scores.log(\"Actual user score (|U|x|I|) with custom distribution:\\n\" + \\\n",
    "    str(actual_scores.actual_scores))\n",
    "\n",
    "# Define new items\n",
    "new_items = np.random.binomial(1,.3, size=(num_new_items, A))\n",
    "actual_scores.log(\"Adding %d new items:\\n%s\" % (num_new_items, str(new_items)))\n",
    "actual_scores.expand_items(np.concatenate((actual_scores.actual_scores, new_items), \n",
    "    axis=0), num_new_items)\n",
    "actual_scores.log(\"Actual user score:\\n\" + str(actual_scores.actual_scores))\n",
    "'''"
   ]
  },
  {
   "cell_type": "code",
   "execution_count": 1,
   "metadata": {},
   "outputs": [
    {
     "data": {
      "text/plain": [
       "array([[0.96198517, 1.1337848 , 2.19902905, 1.5028035 , 1.37082868],\n",
       "       [2.06631671, 1.68298891, 1.76329362, 1.64440678, 0.37996582],\n",
       "       [1.4806085 , 1.40741138, 1.9728166 , 1.48238985, 0.89961949]])"
      ]
     },
     "execution_count": 1,
     "metadata": {},
     "output_type": "execute_result"
    }
   ],
   "source": [
    "import rec\n",
    "import numpy as np\n",
    "\n",
    "num_users = 3\n",
    "num_items = 5\n",
    "A = num_items - 1\n",
    "num_new_items = 2\n",
    "item_representation = np.random.randint(0, num_items-1, size=(A, num_items))\n",
    "\n",
    "scores = rec.ActualUserScores(num_users=num_users, item_representation=item_representation, verbose=True)\n",
    "#print(scores.actual_scores)\n",
    "scores.compute_actual_scores(item_representation, num_users=num_users)"
   ]
  },
  {
   "cell_type": "code",
   "execution_count": null,
   "metadata": {},
   "outputs": [],
   "source": [
    "scores.distribution.parameters"
   ]
  },
  {
   "cell_type": "code",
   "execution_count": null,
   "metadata": {},
   "outputs": [],
   "source": [
    "item_representation"
   ]
  },
  {
   "cell_type": "code",
   "execution_count": null,
   "metadata": {},
   "outputs": [],
   "source": [
    "np.dot(scores.user_profiles, item_representation)"
   ]
  },
  {
   "cell_type": "code",
   "execution_count": null,
   "metadata": {},
   "outputs": [],
   "source": []
  }
 ],
 "metadata": {
  "kernelspec": {
   "display_name": "Python 3",
   "language": "python",
   "name": "python3"
  },
  "language_info": {
   "codemirror_mode": {
    "name": "ipython",
    "version": 3
   },
   "file_extension": ".py",
   "mimetype": "text/x-python",
   "name": "python",
   "nbconvert_exporter": "python",
   "pygments_lexer": "ipython3",
   "version": "3.7.0"
  }
 },
 "nbformat": 4,
 "nbformat_minor": 2
}
