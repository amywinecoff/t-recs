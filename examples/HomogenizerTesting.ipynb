{
 "cells": [
  {
   "cell_type": "code",
   "execution_count": 27,
   "metadata": {},
   "outputs": [],
   "source": [
    "import pandas as pd\n",
    "import numpy as np\n",
    "import matplotlib.pyplot as plt\n",
    "\n",
    "import trecs\n",
    "from trecs.models import Homogenizer, ContentFiltering\n",
    "from trecs.random import Generator\n",
    "from trecs.metrics import HomogeneityMeasurement, RecSimilarity, InteractionSimilarity, AverageFeatureScoreRange"
   ]
  },
  {
   "cell_type": "code",
   "execution_count": 20,
   "metadata": {},
   "outputs": [],
   "source": [
    "num_users = 100\n",
    "num_items = 1000\n",
    "num_attrs = 20\n",
    "\n",
    "startup_iters = 1\n",
    "sim_iters = 190\n",
    "# simpler way to pass common arguments\n",
    "init_params = {\n",
    "    \"num_items_per_iter\": 100\n",
    "}\n",
    "\n",
    "run_params = {\n",
    "    \"train_between_steps\": True,\n",
    "    \"random_items_per_iter\": 0,\n",
    "    \"vary_random_items_per_iter\": False,\n",
    "    \"timesteps\": sim_iters,\n",
    "    \"repeated_items\": False\n",
    "}\n",
    "\n",
    "pairs = [np.random.choice(num_users, 2, replace=False) for _ in range(800)]"
   ]
  },
  {
   "cell_type": "code",
   "execution_count": 21,
   "metadata": {},
   "outputs": [],
   "source": [
    "cf=ContentFiltering(**init_params)\n",
    "hm=Homogenizer()"
   ]
  },
  {
   "cell_type": "code",
   "execution_count": 22,
   "metadata": {},
   "outputs": [],
   "source": [
    "hm.add_metrics(InteractionSimilarity(pairs))"
   ]
  },
  {
   "cell_type": "code",
   "execution_count": 23,
   "metadata": {},
   "outputs": [
    {
     "name": "stderr",
     "output_type": "stream",
     "text": [
      "100%|██████████| 190/190 [00:07<00:00, 24.21it/s]\n"
     ]
    }
   ],
   "source": [
    "hm.run(**run_params)\n"
   ]
  },
  {
   "cell_type": "code",
   "execution_count": 24,
   "metadata": {},
   "outputs": [
    {
     "name": "stdout",
     "output_type": "stream",
     "text": [
      "Results of the simulation:\n"
     ]
    },
    {
     "data": {
      "text/html": [
       "<div>\n",
       "<style scoped>\n",
       "    .dataframe tbody tr th:only-of-type {\n",
       "        vertical-align: middle;\n",
       "    }\n",
       "\n",
       "    .dataframe tbody tr th {\n",
       "        vertical-align: top;\n",
       "    }\n",
       "\n",
       "    .dataframe thead th {\n",
       "        text-align: right;\n",
       "    }\n",
       "</style>\n",
       "<table border=\"1\" class=\"dataframe\">\n",
       "  <thead>\n",
       "    <tr style=\"text-align: right;\">\n",
       "      <th></th>\n",
       "      <th>mse</th>\n",
       "      <th>interaction_similarity</th>\n",
       "      <th>timesteps</th>\n",
       "    </tr>\n",
       "  </thead>\n",
       "  <tbody>\n",
       "    <tr>\n",
       "      <th>0</th>\n",
       "      <td>None</td>\n",
       "      <td>None</td>\n",
       "      <td>0</td>\n",
       "    </tr>\n",
       "    <tr>\n",
       "      <th>1</th>\n",
       "      <td>124.8617149917703</td>\n",
       "      <td>0.11750000000000008</td>\n",
       "      <td>1</td>\n",
       "    </tr>\n",
       "    <tr>\n",
       "      <th>2</th>\n",
       "      <td>167.44662813194793</td>\n",
       "      <td>0.05416666666666675</td>\n",
       "      <td>2</td>\n",
       "    </tr>\n",
       "    <tr>\n",
       "      <th>3</th>\n",
       "      <td>186.1683777796658</td>\n",
       "      <td>0.047500000000000035</td>\n",
       "      <td>3</td>\n",
       "    </tr>\n",
       "    <tr>\n",
       "      <th>4</th>\n",
       "      <td>195.65129941961234</td>\n",
       "      <td>0.0505119047619049</td>\n",
       "      <td>4</td>\n",
       "    </tr>\n",
       "    <tr>\n",
       "      <th>...</th>\n",
       "      <td>...</td>\n",
       "      <td>...</td>\n",
       "      <td>...</td>\n",
       "    </tr>\n",
       "    <tr>\n",
       "      <th>186</th>\n",
       "      <td>1.442206027463954</td>\n",
       "      <td>0.8630224319460963</td>\n",
       "      <td>186</td>\n",
       "    </tr>\n",
       "    <tr>\n",
       "      <th>187</th>\n",
       "      <td>1.442206027463954</td>\n",
       "      <td>0.863435503046318</td>\n",
       "      <td>187</td>\n",
       "    </tr>\n",
       "    <tr>\n",
       "      <th>188</th>\n",
       "      <td>1.442206027463954</td>\n",
       "      <td>0.86411552411078</td>\n",
       "      <td>188</td>\n",
       "    </tr>\n",
       "    <tr>\n",
       "      <th>189</th>\n",
       "      <td>1.442206027463954</td>\n",
       "      <td>0.8650173660298578</td>\n",
       "      <td>189</td>\n",
       "    </tr>\n",
       "    <tr>\n",
       "      <th>190</th>\n",
       "      <td>1.442206027463954</td>\n",
       "      <td>0.8656092912451829</td>\n",
       "      <td>190</td>\n",
       "    </tr>\n",
       "  </tbody>\n",
       "</table>\n",
       "<p>191 rows × 3 columns</p>\n",
       "</div>"
      ],
      "text/plain": [
       "                    mse interaction_similarity  timesteps\n",
       "0                  None                   None          0\n",
       "1     124.8617149917703    0.11750000000000008          1\n",
       "2    167.44662813194793    0.05416666666666675          2\n",
       "3     186.1683777796658   0.047500000000000035          3\n",
       "4    195.65129941961234     0.0505119047619049          4\n",
       "..                  ...                    ...        ...\n",
       "186   1.442206027463954     0.8630224319460963        186\n",
       "187   1.442206027463954      0.863435503046318        187\n",
       "188   1.442206027463954       0.86411552411078        188\n",
       "189   1.442206027463954     0.8650173660298578        189\n",
       "190   1.442206027463954     0.8656092912451829        190\n",
       "\n",
       "[191 rows x 3 columns]"
      ]
     },
     "execution_count": 24,
     "metadata": {},
     "output_type": "execute_result"
    }
   ],
   "source": [
    "results = hm.get_measurements()\n",
    "\n",
    "print(\"Results of the simulation:\")\n",
    "pd.DataFrame(results)"
   ]
  },
  {
   "cell_type": "code",
   "execution_count": 30,
   "metadata": {},
   "outputs": [
    {
     "data": {
      "text/plain": [
       "Text(0, 0.5, 'Interaction Similarity (Random Pairs)')"
      ]
     },
     "execution_count": 30,
     "metadata": {},
     "output_type": "execute_result"
    },
    {
     "data": {
      "image/png": "[encoded data removed]",
      "text/plain": [
       "<Figure size 432x288 with 1 Axes>"
      ]
     },
     "metadata": {},
     "output_type": "display_data"
    }
   ],
   "source": [
    "plt.style.use('seaborn-whitegrid')\n",
    "plt.rcParams.update({'font.size': 14})\n",
    "plt.plot(results['timesteps'], results['interaction_similarity'])\n",
    "plt.xlabel(\"Timesteps\")\n",
    "plt.ylabel(\"Interaction Similarity (Random Pairs)\")\n"
   ]
  },
  {
   "cell_type": "code",
   "execution_count": null,
   "metadata": {},
   "outputs": [],
   "source": []
  }
 ],
 "metadata": {
  "kernelspec": {
   "display_name": "trecsEnv",
   "language": "python",
   "name": "trecsenv"
  },
  "language_info": {
   "codemirror_mode": {
    "name": "ipython",
    "version": 3
   },
   "file_extension": ".py",
   "mimetype": "text/x-python",
   "name": "python",
   "nbconvert_exporter": "python",
   "pygments_lexer": "ipython3",
   "version": "3.7.9"
  }
 },
 "nbformat": 4,
 "nbformat_minor": 4
}
