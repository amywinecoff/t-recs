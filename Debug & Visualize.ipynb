{
 "cells": [
  {
   "cell_type": "markdown",
   "metadata": {},
   "source": [
    "# Debugging and visualizing data"
   ]
  },
  {
   "cell_type": "code",
   "execution_count": 1,
   "metadata": {},
   "outputs": [],
   "source": [
    "import numpy as np\n",
    "import matplotlib.pyplot as plt\n",
    "\n",
    "from rec import ContentFiltering"
   ]
  },
  {
   "cell_type": "markdown",
   "metadata": {},
   "source": [
    "~~### A few details on the available debugging options~~\n",
    "~~- `MEASUREMENTS` is used to debug the `measurements` module. Right now, if enabled, it only supports plotting the distribution of interactions at a given timestep. It is possible to define a `measurement_visualization_rule` to plot the distribution -- see example below.~~\n",
    "~~- `USER_SCORES` is used to debug the `user_scores` module. If enabled, it plots the distribution of the most liked items at the beginning of the execution.~~\n",
    "~~- `RECOMMENDER` is used to debug the behavior of the recommender system.~~"
   ]
  },
  {
   "cell_type": "code",
   "execution_count": 2,
   "metadata": {},
   "outputs": [],
   "source": [
    "# NOTE: Restart kernel before re-running this\n",
    "\n",
    "# Set up debug options (see debug_opt in main.py)\n",
    "#debug_opt['MEASUREMENTS'] = False # debug measurement of equilibrium\n",
    "#debug_opt['USER_SCORES'] = True  # debug user preferences\n",
    "#debug_opt['RECOMMENDER'] = True # debug recommender system\n",
    "# Configure and initialize debugger\n",
    "#debugger = Debug(list(debug_opt.keys()), list(debug_opt.values()))"
   ]
  },
  {
   "cell_type": "markdown",
   "metadata": {},
   "source": [
    "### Set up recommender system\n",
    "This cell contains everything needed for setup."
   ]
  },
  {
   "cell_type": "code",
   "execution_count": 3,
   "metadata": {},
   "outputs": [],
   "source": [
    "# Set up the following\n",
    "NUM_USERS = 1000\n",
    "NUM_ITEMS_PER_ITER = 10  # num items presented to each user at each iteration\n",
    "RUN_TIMESTEPS = 100  # num run iterations\n",
    "NUM_ITEMS = round((RUN_TIMESTEPS) * NUM_ITEMS_PER_ITER * np.random.uniform(1, 5))  # total num items in simulation\n",
    "\n",
    "# For content filtering, generate array of attributes\n",
    "#for i, row in enumerate(rec_args['content']['item_representation']):\n",
    "#    A = rec_args['content']['num_attributes']\n",
    "#    n_indices = np.random.randint(1, A)\n",
    "#    indices = np.random.randint(A, size=(n_indices))\n",
    "#    row[indices] = 1\n",
    "#    rec_args['content']['item_representation'][i,:] = row\n",
    "# Add it to args\n",
    "#rec_args['content']['item_representation'] = rec_args['content']['item_representation'].T"
   ]
  },
  {
   "cell_type": "markdown",
   "metadata": {},
   "source": [
    "### Instantiate and run"
   ]
  },
  {
   "cell_type": "code",
   "execution_count": 4,
   "metadata": {
    "scrolled": true
   },
   "outputs": [],
   "source": [
    "# Create ContentFiltering instance without specifying user profiles or item attributes\n",
    "default_filtering = ContentFiltering(num_users=NUM_USERS, num_items=NUM_ITEMS, num_items_per_iter=NUM_ITEMS_PER_ITER)\n",
    "# Run for time steps in RUN_TIMESTEPS\n",
    "default_filtering.run(timesteps=RUN_TIMESTEPS, train_between_steps=True)"
   ]
  },
  {
   "cell_type": "markdown",
   "metadata": {},
   "source": [
    "### Sample results"
   ]
  },
  {
   "cell_type": "markdown",
   "metadata": {},
   "source": [
    "For simplicity, results are returned in a pandas DataFrame"
   ]
  },
  {
   "cell_type": "code",
   "execution_count": 23,
   "metadata": {},
   "outputs": [
    {
     "data": {
      "text/html": [
       "<div>\n",
       "<style scoped>\n",
       "    .dataframe tbody tr th:only-of-type {\n",
       "        vertical-align: middle;\n",
       "    }\n",
       "\n",
       "    .dataframe tbody tr th {\n",
       "        vertical-align: top;\n",
       "    }\n",
       "\n",
       "    .dataframe thead th {\n",
       "        text-align: right;\n",
       "    }\n",
       "</style>\n",
       "<table border=\"1\" class=\"dataframe\">\n",
       "  <thead>\n",
       "    <tr style=\"text-align: right;\">\n",
       "      <th></th>\n",
       "      <th>Homogeneity</th>\n",
       "      <th>MSE</th>\n",
       "    </tr>\n",
       "    <tr>\n",
       "      <th>Timestep</th>\n",
       "      <th></th>\n",
       "      <th></th>\n",
       "    </tr>\n",
       "  </thead>\n",
       "  <tbody>\n",
       "    <tr>\n",
       "      <th>0</th>\n",
       "      <td>-953.5</td>\n",
       "      <td>1.111770e-07</td>\n",
       "    </tr>\n",
       "    <tr>\n",
       "      <th>1</th>\n",
       "      <td>-35.0</td>\n",
       "      <td>9.135395e-02</td>\n",
       "    </tr>\n",
       "    <tr>\n",
       "      <th>2</th>\n",
       "      <td>32.0</td>\n",
       "      <td>9.087284e-02</td>\n",
       "    </tr>\n",
       "    <tr>\n",
       "      <th>3</th>\n",
       "      <td>-13.0</td>\n",
       "      <td>9.072048e-02</td>\n",
       "    </tr>\n",
       "    <tr>\n",
       "      <th>4</th>\n",
       "      <td>21.0</td>\n",
       "      <td>9.064104e-02</td>\n",
       "    </tr>\n",
       "  </tbody>\n",
       "</table>\n",
       "</div>"
      ],
      "text/plain": [
       "          Homogeneity           MSE\n",
       "Timestep                           \n",
       "0              -953.5  1.111770e-07\n",
       "1               -35.0  9.135395e-02\n",
       "2                32.0  9.087284e-02\n",
       "3               -13.0  9.072048e-02\n",
       "4                21.0  9.064104e-02"
      ]
     },
     "execution_count": 23,
     "metadata": {},
     "output_type": "execute_result"
    }
   ],
   "source": [
    "delta_t = list()\n",
    "delta_t.append(default_filtering.get_measurements())\n",
    "delta_t[0].head()"
   ]
  },
  {
   "cell_type": "markdown",
   "metadata": {},
   "source": [
    "### Set up recommender system with predefined values"
   ]
  },
  {
   "cell_type": "markdown",
   "metadata": {},
   "source": [
    "#### You can define user profiles and item attributes:\n",
    "- `user_representation` must be a `|U|x|A|` matrix, where `|U|` is the number of users and `|A|` is the number of attributes in the system.\n",
    "- `item_representation` must be a `|A|x|I|` matrix, where `|A|` is the number of attributes and `|I|` is the number of items in the system.\n",
    "- Note that the following constraint must hold: `item_representation.shape[0] == user_representation.shape[1]`"
   ]
  },
  {
   "cell_type": "code",
   "execution_count": 19,
   "metadata": {},
   "outputs": [],
   "source": [
    "from rec import Distribution\n",
    "\n",
    "NUM_ATTRIBUTES = NUM_ITEMS - NUM_ITEMS//(1 + np.random.randint(0, 15))\n",
    "\n",
    "# Initialize power law distribution\n",
    "d = Distribution(distr_type='powerlaw')\n",
    "\n",
    "# Use the distribution to generate user_representation\n",
    "user_representation = d.compute(a=1.16, size=(NUM_USERS, NUM_ATTRIBUTES))\n",
    "\n",
    "# Use binomial distribution to generate item_representation distribution\n",
    "item_representation = Distribution(distr_type='binom', n=5, p=0.4, size=(NUM_ATTRIBUTES, NUM_ITEMS)).compute()\n",
    "\n",
    "# Instantiate and run recsys\n",
    "filtering = ContentFiltering(user_representation=user_representation, item_representation=item_representation)\n",
    "# Run for 10 timesteps\n",
    "filtering.run(timesteps=10)\n",
    "\n",
    "# Collect results\n",
    "delta_t = list()\n",
    "delta_t = filtering.get_measurements()"
   ]
  },
  {
   "cell_type": "markdown",
   "metadata": {},
   "source": [
    "### You can run the system beyond the predefined time steps:"
   ]
  },
  {
   "cell_type": "code",
   "execution_count": 20,
   "metadata": {
    "scrolled": true
   },
   "outputs": [],
   "source": [
    "# Run for some more time steps\n",
    "filtering.run(timesteps=10, train_between_steps=True)"
   ]
  },
  {
   "cell_type": "code",
   "execution_count": 24,
   "metadata": {},
   "outputs": [
    {
     "data": {
      "text/html": [
       "<div>\n",
       "<style scoped>\n",
       "    .dataframe tbody tr th:only-of-type {\n",
       "        vertical-align: middle;\n",
       "    }\n",
       "\n",
       "    .dataframe tbody tr th {\n",
       "        vertical-align: top;\n",
       "    }\n",
       "\n",
       "    .dataframe thead th {\n",
       "        text-align: right;\n",
       "    }\n",
       "</style>\n",
       "<table border=\"1\" class=\"dataframe\">\n",
       "  <thead>\n",
       "    <tr style=\"text-align: right;\">\n",
       "      <th></th>\n",
       "      <th>Homogeneity</th>\n",
       "      <th>MSE</th>\n",
       "    </tr>\n",
       "    <tr>\n",
       "      <th>Timestep</th>\n",
       "      <th></th>\n",
       "      <th></th>\n",
       "    </tr>\n",
       "  </thead>\n",
       "  <tbody>\n",
       "    <tr>\n",
       "      <th>0</th>\n",
       "      <td>-998.0</td>\n",
       "      <td>0.0</td>\n",
       "    </tr>\n",
       "    <tr>\n",
       "      <th>1</th>\n",
       "      <td>0.0</td>\n",
       "      <td>0.0</td>\n",
       "    </tr>\n",
       "    <tr>\n",
       "      <th>2</th>\n",
       "      <td>0.0</td>\n",
       "      <td>0.0</td>\n",
       "    </tr>\n",
       "    <tr>\n",
       "      <th>3</th>\n",
       "      <td>-0.5</td>\n",
       "      <td>0.0</td>\n",
       "    </tr>\n",
       "    <tr>\n",
       "      <th>4</th>\n",
       "      <td>32.5</td>\n",
       "      <td>0.0</td>\n",
       "    </tr>\n",
       "  </tbody>\n",
       "</table>\n",
       "</div>"
      ],
      "text/plain": [
       "          Homogeneity  MSE\n",
       "Timestep                  \n",
       "0              -998.0  0.0\n",
       "1                 0.0  0.0\n",
       "2                 0.0  0.0\n",
       "3                -0.5  0.0\n",
       "4                32.5  0.0"
      ]
     },
     "execution_count": 24,
     "metadata": {},
     "output_type": "execute_result"
    }
   ],
   "source": [
    "# Check results again\n",
    "filtering.get_measurements().head()"
   ]
  },
  {
   "cell_type": "markdown",
   "metadata": {},
   "source": [
    "## Further analysis"
   ]
  },
  {
   "cell_type": "code",
   "execution_count": null,
   "metadata": {},
   "outputs": [],
   "source": []
  }
 ],
 "metadata": {
  "kernelspec": {
   "display_name": "Python 3",
   "language": "python",
   "name": "python3"
  },
  "language_info": {
   "codemirror_mode": {
    "name": "ipython",
    "version": 3
   },
   "file_extension": ".py",
   "mimetype": "text/x-python",
   "name": "python",
   "nbconvert_exporter": "python",
   "pygments_lexer": "ipython3",
   "version": "3.7.0"
  }
 },
 "nbformat": 4,
 "nbformat_minor": 2
}
