{
 "cells": [
  {
   "cell_type": "code",
   "execution_count": 1,
   "metadata": {},
   "outputs": [],
   "source": [
    "import rec\n",
    "import numpy as np\n",
    "\n",
    "# The SIR model can be initialized with no parameters\n",
    "sir = rec.SIRModel()"
   ]
  },
  {
   "cell_type": "code",
   "execution_count": 2,
   "metadata": {},
   "outputs": [
    {
     "name": "stdout",
     "output_type": "stream",
     "text": [
      "Num items 100\n",
      "Num users 10\n"
     ]
    }
   ],
   "source": [
    "# Or we can specify parameters\n",
    "sir = rec.SIRModel(num_users=10, num_items=100)\n",
    "print(\"Num items\", sir.num_items)\n",
    "print(\"Num users\", sir.num_users)"
   ]
  },
  {
   "cell_type": "code",
   "execution_count": 3,
   "metadata": {},
   "outputs": [
    {
     "name": "stdout",
     "output_type": "stream",
     "text": [
      "Item attributes \n",
      " [[8.45765690e-01 5.00054752e-01 3.74406745e-01 5.58156713e-01\n",
      "  9.79660287e-01 5.51545293e-01 3.75463131e-01 6.92780297e-01\n",
      "  5.92632024e-01 6.23824421e-01 6.67320590e-01 3.05123995e-01\n",
      "  4.89711208e-01 2.37560052e-01 6.48748618e-01 5.76905493e-01\n",
      "  4.33640087e-01 7.16359122e-01 2.52536591e-01 2.68506885e-01\n",
      "  5.30701433e-01 9.57723314e-01 5.45388901e-01 6.27437777e-01\n",
      "  8.59282700e-01 8.23117941e-01 8.43897935e-01 7.60795726e-01\n",
      "  8.11327705e-01 8.61411142e-01 6.54547616e-01 6.01716800e-01\n",
      "  6.73625195e-01 5.04657546e-02 5.01574236e-01 8.78170572e-01\n",
      "  2.81224135e-01 3.70116884e-01 5.78516596e-01 1.98394124e-01\n",
      "  5.27479008e-01 5.86568508e-01 1.65536568e-01 5.10862777e-01\n",
      "  9.51593313e-01 2.36385611e-01 8.35922807e-02 9.27620643e-01\n",
      "  1.04066864e-01 2.85012226e-01 1.38467300e-01 5.53031658e-01\n",
      "  6.86006182e-01 5.99043079e-01 7.80790266e-01 6.43792949e-01\n",
      "  6.12910482e-01 3.28636874e-01 9.63071023e-01 6.57557284e-01\n",
      "  3.70614775e-01 3.51406727e-01 3.77135768e-01 9.56672108e-01\n",
      "  7.64065746e-01 1.80810536e-01 8.26159638e-01 2.42711636e-02\n",
      "  9.02052605e-01 4.99765472e-01 6.88334851e-01 9.64934949e-01\n",
      "  5.92044573e-01 8.26369525e-01 9.90993446e-01 9.26500399e-01\n",
      "  2.57693841e-01 9.59987064e-01 1.81014206e-01 5.08323197e-01\n",
      "  8.60769714e-01 3.67026609e-01 6.46359618e-01 5.27289071e-04\n",
      "  9.53453862e-01 6.93910913e-01 8.71691144e-01 3.04005669e-01\n",
      "  9.46874099e-01 1.32576296e-01 4.02644145e-01 6.51033402e-01\n",
      "  3.96973443e-02 9.91733207e-01 8.62587617e-01 4.56035879e-01\n",
      "  8.76307423e-02 6.85009087e-02 8.73342146e-01 4.73455000e-01]]\n",
      "User profiles\n",
      " [[0 0 0 1 0 0 0 0 0 1]\n",
      " [0 0 0 0 1 1 1 0 0 0]\n",
      " [0 1 0 1 0 0 0 0 0 0]\n",
      " [1 0 0 0 0 0 1 0 0 0]\n",
      " [1 1 0 1 0 0 0 0 0 1]\n",
      " [0 0 0 0 1 1 0 0 1 1]\n",
      " [0 0 0 0 0 0 0 0 1 0]\n",
      " [1 1 0 0 1 1 0 0 0 0]\n",
      " [0 0 0 1 1 0 0 0 0 0]\n",
      " [0 0 0 0 0 0 1 0 1 0]]\n"
     ]
    }
   ],
   "source": [
    "# Or better yet, we can specify our own representations for items and users,\n",
    "# which were otherwise randomly generated.\n",
    "# This has constraints that depend on the model\n",
    "\n",
    "# user_representation must be a social graph\n",
    "# Soon it'll be possible to define this easily with a SocialGraph class, but for now:\n",
    "num_users, num_items = 10, 100\n",
    "user_representation = rec.Distribution('binom', p=.3, n=1,\n",
    "                                      size=(num_users, num_users)).compute()\n",
    "\n",
    "# item_representation is an array of probabilities of infection:\n",
    "# Similarly, this will become a Probability class that can take any distribution. For now:\n",
    "item_representation = rec.Distribution('uniform', size=(1, num_items)).compute()\n",
    "\n",
    "# And now we initialize the new model\n",
    "sir = rec.SIRModel(item_representation=item_representation,\n",
    "                  user_representation=user_representation)\n",
    "print(\"Item attributes \\n\", sir.item_attributes)\n",
    "print(\"User profiles\\n\", sir.user_profiles)"
   ]
  },
  {
   "cell_type": "code",
   "execution_count": 4,
   "metadata": {},
   "outputs": [
    {
     "name": "stdout",
     "output_type": "stream",
     "text": [
      "Initial infection state\n",
      " [[0 0 0 0 1 0 1 0 0 0 0 0 1 0 1 1 0 0 0 0 0 0 0 0 0 0 0 0 1 0 1 0 0 0 0 0\n",
      "  1 0 0 0 1 1 0 1 1 0 0 0 0 1 0 0 0 1 1 0 0 1 0 0 0 0 0 0 0 1 1 0 1 1 0 1\n",
      "  0 0 0 0 0 1 0 0 0 1 0 1 0 1 1 0 1 0 1 0 0 0 0 0 1 0 0 0]\n",
      " [1 0 0 1 1 1 1 0 1 0 0 1 0 1 1 1 1 0 0 0 0 1 1 0 0 1 0 0 0 0 0 0 1 0 0 1\n",
      "  0 0 1 0 0 0 0 0 0 0 1 0 0 0 0 0 0 0 1 0 0 1 1 1 0 1 0 1 0 1 0 1 0 0 0 0\n",
      "  1 0 0 0 1 0 0 0 0 0 1 0 0 0 0 0 0 0 0 0 0 0 1 0 1 1 0 1]\n",
      " [0 0 0 0 1 1 0 0 1 0 0 0 0 0 0 1 1 1 0 1 0 0 0 0 0 1 1 0 0 1 1 0 1 0 0 0\n",
      "  0 0 0 1 0 0 0 1 0 0 1 0 1 1 0 0 0 0 0 1 1 0 0 1 1 0 1 0 0 0 1 1 0 0 0 0\n",
      "  1 0 0 0 0 1 1 1 0 0 0 0 0 1 1 0 1 0 0 0 0 0 1 0 0 1 0 0]\n",
      " [0 0 0 1 1 0 0 1 0 0 0 0 0 1 0 0 0 0 0 0 1 0 1 0 0 1 1 0 0 0 0 1 0 0 0 0\n",
      "  0 0 0 0 0 0 0 0 0 0 0 1 1 0 1 0 0 0 0 0 0 0 1 0 1 1 0 0 0 0 0 1 1 0 0 1\n",
      "  1 0 0 0 0 0 0 1 1 0 0 0 0 1 1 0 0 0 1 0 0 0 0 0 0 0 1 0]\n",
      " [0 1 1 0 0 1 1 0 0 1 1 1 0 0 0 0 1 0 0 1 1 0 0 0 0 0 0 1 1 1 0 1 1 0 0 0\n",
      "  0 0 1 1 1 0 0 0 0 0 1 1 0 0 1 0 0 0 1 0 0 1 0 0 1 0 0 1 0 0 1 0 1 0 0 0\n",
      "  0 1 1 0 0 0 0 1 1 0 1 1 1 0 0 0 0 1 0 0 1 0 1 0 0 0 0 0]\n",
      " [1 0 0 1 0 0 0 0 0 0 0 1 0 0 0 0 0 0 1 0 1 1 0 1 1 1 0 1 0 1 0 0 0 1 0 1\n",
      "  1 0 1 1 0 0 0 0 1 0 0 0 0 1 0 1 1 0 1 0 0 0 0 0 1 1 0 0 0 0 1 1 0 1 1 0\n",
      "  1 0 0 0 0 0 1 0 0 1 0 0 0 1 0 1 1 0 0 0 0 1 1 1 1 1 0 0]\n",
      " [0 1 0 0 0 1 0 0 0 0 1 0 1 0 0 0 1 0 1 0 1 0 0 0 0 0 1 0 0 0 0 0 0 0 1 1\n",
      "  0 1 0 0 0 1 0 0 1 0 0 0 0 1 0 1 0 0 0 0 0 0 0 0 0 0 1 1 0 0 0 0 0 0 0 0\n",
      "  1 0 0 0 0 0 0 1 1 1 0 1 0 0 0 0 0 0 0 0 0 0 1 0 0 0 1 0]\n",
      " [0 0 1 1 1 1 0 0 1 0 1 0 1 0 0 0 0 0 0 0 1 0 0 0 0 0 0 1 0 1 1 0 1 0 0 0\n",
      "  0 0 1 1 0 0 1 0 1 0 1 1 0 0 1 0 0 0 0 1 1 0 0 1 1 0 0 0 0 1 0 0 1 0 0 1\n",
      "  0 1 0 0 0 0 0 0 1 1 1 0 0 0 0 0 0 0 0 1 1 1 0 0 1 0 1 1]\n",
      " [0 0 1 0 1 0 0 1 0 0 0 0 0 1 0 1 1 0 0 0 0 1 1 0 0 0 0 0 0 1 1 0 1 0 0 0\n",
      "  0 1 1 1 0 1 0 1 0 0 0 0 0 1 0 0 0 1 1 0 0 0 0 0 1 0 0 1 0 0 1 0 0 0 1 1\n",
      "  0 0 0 0 0 0 0 0 0 0 0 1 0 1 1 1 0 1 1 1 0 0 0 0 1 1 0 0]\n",
      " [0 1 0 1 1 1 0 0 0 0 0 0 0 0 1 0 0 0 1 0 0 1 0 0 0 0 0 1 0 0 1 0 0 0 1 1\n",
      "  1 0 0 0 0 0 1 0 0 0 0 0 0 1 0 0 0 0 1 0 0 0 0 0 0 0 0 0 0 0 1 1 0 1 0 1\n",
      "  0 0 0 1 1 1 0 0 0 0 0 0 0 0 1 0 0 0 0 1 1 0 1 0 0 0 0 0]]\n"
     ]
    }
   ],
   "source": [
    "# We can also define the initial infection state -- that is, which user has been infected by which item\n",
    "# before the simulation starts.\n",
    "# Note that the model does not currently support modifying the parameters after initialization.\n",
    "# So we need to initialize a new model altogether.\n",
    "\n",
    "# But first, the initial infection state:\n",
    "# (this will also be simplified, but I'm not sure how yet)\n",
    "infection_state = rec.Distribution('binom', p=.3, n=1,\n",
    "                                      size=(num_users, num_items)).compute()\n",
    "sir = rec.SIRModel(item_representation=item_representation,\n",
    "                  user_representation=user_representation,\n",
    "                  infection_state=infection_state)\n",
    "print(\"Initial infection state\\n\", sir.infection_state)"
   ]
  },
  {
   "cell_type": "code",
   "execution_count": 5,
   "metadata": {},
   "outputs": [
    {
     "name": "stdout",
     "output_type": "stream",
     "text": [
      "The infection threshold is 0.6685204999213795\n"
     ]
    }
   ],
   "source": [
    "# We could also specify an infection threshold, which specifies what is the minimum probability\n",
    "# that the user will become 'infected' with items.\n",
    "# Right now, infection_threshold is a scalar constant, but\n",
    "# it will soon support arrays with a potentially different threshold for each user.\n",
    "# For the purpose of this tutorial, we leave it to the system to select a threshold randomly:\n",
    "print(\"The infection threshold is\", sir.infection_threshold)"
   ]
  },
  {
   "cell_type": "code",
   "execution_count": 6,
   "metadata": {},
   "outputs": [],
   "source": [
    "# Now we run the model. This can be run without parameters, too.\n",
    "# But we decide to run it for only 10 timesteps\n",
    "timesteps = 100\n",
    "sir.run(timesteps=timesteps)"
   ]
  },
  {
   "cell_type": "code",
   "execution_count": 7,
   "metadata": {},
   "outputs": [
    {
     "name": "stdout",
     "output_type": "stream",
     "text": [
      "Has the infection state changed? nope.\n"
     ]
    }
   ],
   "source": [
    "# Now we can take a look at the infection state and see if it's different from\n",
    "# the initial state. If it is not, we could run it for some other step, but maybe\n",
    "# the threshold is too high or the social graph too sparse.\n",
    "has_changed = not np.array_equal(sir.infection_state, infection_state)\n",
    "response = \"yes!\" if has_changed else \"nope.\"\n",
    "print(\"Has the infection state changed?\", response)"
   ]
  },
  {
   "cell_type": "code",
   "execution_count": 8,
   "metadata": {},
   "outputs": [
    {
     "data": {
      "text/html": [
       "<div>\n",
       "<style scoped>\n",
       "    .dataframe tbody tr th:only-of-type {\n",
       "        vertical-align: middle;\n",
       "    }\n",
       "\n",
       "    .dataframe tbody tr th {\n",
       "        vertical-align: top;\n",
       "    }\n",
       "\n",
       "    .dataframe thead th {\n",
       "        text-align: right;\n",
       "    }\n",
       "</style>\n",
       "<table border=\"1\" class=\"dataframe\">\n",
       "  <thead>\n",
       "    <tr style=\"text-align: right;\">\n",
       "      <th></th>\n",
       "      <th>Homogeneity</th>\n",
       "      <th>MSE</th>\n",
       "    </tr>\n",
       "    <tr>\n",
       "      <th>Timestep</th>\n",
       "      <th></th>\n",
       "      <th></th>\n",
       "    </tr>\n",
       "  </thead>\n",
       "  <tbody>\n",
       "    <tr>\n",
       "      <th>0</th>\n",
       "      <td>-8.5</td>\n",
       "      <td>0.267666</td>\n",
       "    </tr>\n",
       "    <tr>\n",
       "      <th>1</th>\n",
       "      <td>0.5</td>\n",
       "      <td>0.275286</td>\n",
       "    </tr>\n",
       "    <tr>\n",
       "      <th>2</th>\n",
       "      <td>0.0</td>\n",
       "      <td>0.278257</td>\n",
       "    </tr>\n",
       "    <tr>\n",
       "      <th>3</th>\n",
       "      <td>-1.0</td>\n",
       "      <td>0.279438</td>\n",
       "    </tr>\n",
       "    <tr>\n",
       "      <th>4</th>\n",
       "      <td>0.5</td>\n",
       "      <td>0.282301</td>\n",
       "    </tr>\n",
       "  </tbody>\n",
       "</table>\n",
       "</div>"
      ],
      "text/plain": [
       "          Homogeneity       MSE\n",
       "Timestep                       \n",
       "0                -8.5  0.267666\n",
       "1                 0.5  0.275286\n",
       "2                 0.0  0.278257\n",
       "3                -1.0  0.279438\n",
       "4                 0.5  0.282301"
      ]
     },
     "execution_count": 8,
     "metadata": {},
     "output_type": "execute_result"
    }
   ],
   "source": [
    "# The measurements are collected by calling:\n",
    "measurements = sir.get_measurements()\n",
    "# Note that the MSE is currently not meaningful. Normally, the MSE compares the user preferences predicted\n",
    "# by the model with the users' actual preferences. The \"actual preferences\" in this case would be\n",
    "# the \"actual probabilities of users being infected,\" different from the ones estimated by the model.\n",
    "# First of all, I am not sure that is at all meaningful in this context (maybe if we have actual data and we\n",
    "# want to validate the model?). Second, I currently have a way to calculate actual preferences that is only\n",
    "# compatible with ContentFiltering.\n",
    "measurements.head()"
   ]
  },
  {
   "cell_type": "code",
   "execution_count": 9,
   "metadata": {},
   "outputs": [
    {
     "data": {
      "text/plain": [
       "<Figure size 640x480 with 1 Axes>"
      ]
     },
     "metadata": {},
     "output_type": "display_data"
    }
   ],
   "source": [
    "# I currently don't have a \"frontend\" that plots, but it's relatively easy to generate simple plots.\n",
    "# A practical plotting module is also on my TODO list.\n",
    "import matplotlib.pyplot as plt\n",
    "plt.style.use('seaborn-whitegrid')\n",
    "plt.plot(np.arange(timesteps), measurements['Homogeneity'])\n",
    "plt.title(\"Homogeneity measure\")\n",
    "plt.xlabel(\"timesteps\")\n",
    "plt.ylabel(\"homogeneity\")\n",
    "plt.show()"
   ]
  },
  {
   "cell_type": "code",
   "execution_count": 10,
   "metadata": {},
   "outputs": [
    {
     "data": {
      "image/png": "[encoded data removed]",
      "text/plain": [
       "<Figure size 432x288 with 1 Axes>"
      ]
     },
     "metadata": {
      "needs_background": "light"
     },
     "output_type": "display_data"
    }
   ],
   "source": [
    "# And now a hacky way to measure the new infections per iteration\n",
    "# This will be integrated soon in the measurements module.\n",
    "\n",
    "# Let's reset the model\n",
    "sir = rec.SIRModel(item_representation=item_representation,\n",
    "                  user_representation=user_representation,\n",
    "                  infection_state=infection_state)\n",
    "\n",
    "# We define a class that does measurements specifically for the SIR model\n",
    "from rec import Measurements\n",
    "class SIRMeasurements(Measurements):\n",
    "    def __init__(self, default_increment = 20, verbose=False):\n",
    "        self.new_cases = np.zeros(default_increment)\n",
    "        self._infection_state_old = None\n",
    "        super().__init__(default_increment=default_increment, verbose=verbose)\n",
    "\n",
    "    def measure(self, infection_state, num_users, num_items):\n",
    "        self._measure_new_cases(infection_state, num_users, num_items)\n",
    "        self._index += 1\n",
    "\n",
    "    def _measure_new_cases(self, infection_state, num_users, num_items):\n",
    "        if self.new_cases is None or self._index >= self.new_cases.size:\n",
    "            self.new_cases = self._expand_array(self.new_cases)\n",
    "        if self._infection_state_old is None:\n",
    "            self._infection_state_old = np.zeros((num_users, num_items))\n",
    "        # num. new infections:\n",
    "        difference = (np.where(infection_state == 1)[0].shape[0] - \n",
    "                      np.where(self._infection_state_old == 1)[0].shape[0])\n",
    "        self.new_cases[self._index] = difference\n",
    "        self._infection_state_old = np.copy(infection_state)\n",
    "\n",
    "sir_measurements = SIRMeasurements()\n",
    "for step in range(timesteps):\n",
    "    sir.run(timesteps=1)\n",
    "    sir_measurements.measure(sir.infection_state, sir.num_users,\n",
    "                            sir.num_items)\n",
    "\n",
    "plt.plot(np.arange(timesteps), sir_measurements.new_cases[:sir_measurements._index])\n",
    "plt.show()"
   ]
  },
  {
   "cell_type": "code",
   "execution_count": null,
   "metadata": {},
   "outputs": [],
   "source": []
  }
 ],
 "metadata": {
  "kernelspec": {
   "display_name": "Python 3",
   "language": "python",
   "name": "python3"
  },
  "language_info": {
   "codemirror_mode": {
    "name": "ipython",
    "version": 3
   },
   "file_extension": ".py",
   "mimetype": "text/x-python",
   "name": "python",
   "nbconvert_exporter": "python",
   "pygments_lexer": "ipython3",
   "version": "3.7.0"
  }
 },
 "nbformat": 4,
 "nbformat_minor": 2
}
